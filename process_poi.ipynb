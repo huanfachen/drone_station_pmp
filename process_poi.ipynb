{
 "cells": [
  {
   "cell_type": "markdown",
   "id": "4c859cf9-4855-4196-8237-ede2cf401bb1",
   "metadata": {},
   "source": [
    "# Processing POI data from Liverpool\n",
    "\n",
    "Author: [Huanfa Chen](https://github.com/huanfachen)"
   ]
  },
  {
   "cell_type": "code",
   "execution_count": 1,
   "id": "f73daaa9",
   "metadata": {},
   "outputs": [
    {
     "name": "stdout",
     "output_type": "stream",
     "text": [
      "Last update: 30/08/2022 16:49:50\n"
     ]
    }
   ],
   "source": [
    "import datetime\n",
    "print(\"Last update:\", datetime.datetime.now().strftime(\"%d/%m/%Y %H:%M:%S\"))"
   ]
  },
  {
   "cell_type": "markdown",
   "id": "e4f23e87",
   "metadata": {},
   "source": [
    "Some notes:\n",
    "1. If a cell starts with `%%script false --no-raise-error`, this cell is skipped and not run. If you understand this cell and want to run it, you can uncomment this line and run the cell."
   ]
  },
  {
   "cell_type": "markdown",
   "id": "2b25072b-5aa8-4142-99bc-44c184eaaed5",
   "metadata": {},
   "source": [
    "## Import packages"
   ]
  },
  {
   "cell_type": "code",
   "execution_count": 43,
   "id": "19acef0d-f346-47b2-b3dc-6967eed54152",
   "metadata": {},
   "outputs": [],
   "source": [
    "import pandas as pd\n",
    "import geopandas as gpd\n",
    "import matplotlib.pyplot as plt\n",
    "import numpy as np\n",
    "import utilities\n",
    "from compute_pairwise_distance import compute_pairwise_distance"
   ]
  },
  {
   "cell_type": "markdown",
   "id": "8046f91d-722a-4c6a-a451-a997610e5a15",
   "metadata": {},
   "source": [
    "## Read in POI data"
   ]
  },
  {
   "cell_type": "code",
   "execution_count": 3,
   "id": "181ade13-e43b-49be-94e7-62cad3470a7d",
   "metadata": {},
   "outputs": [],
   "source": [
    "# read the POI data\n",
    "df_poi = pd.read_csv(\"Liverpool_hub_four_POI/poi_4565130/poi-extract-2022_03.csv\", sep=\"|\")"
   ]
  },
  {
   "cell_type": "code",
   "execution_count": 4,
   "id": "486f71bf-0227-4891-96de-4aecaf53f29d",
   "metadata": {},
   "outputs": [
    {
     "data": {
      "text/plain": [
       "Index(['ref_no', 'name', 'pointx_class', 'feature_easting', 'feature_northing',\n",
       "       'pos_accuracy', 'uprn', 'topo_toid', 'topo_toid_version', 'usrn',\n",
       "       'usrn_mi', 'distance', 'address_detail', 'street_name', 'locality',\n",
       "       'geographic_county', 'postcode', 'admin_boundary', 'telephone_number',\n",
       "       'url', 'brand', 'qualifier_type', 'qualifier_data', 'provenance',\n",
       "       'supply_date'],\n",
       "      dtype='object')"
      ]
     },
     "execution_count": 4,
     "metadata": {},
     "output_type": "execute_result"
    }
   ],
   "source": [
    "df_poi.columns"
   ]
  },
  {
   "cell_type": "code",
   "execution_count": 5,
   "id": "efd7208f-a44f-4fc1-bb55-90e8ecdedc86",
   "metadata": {},
   "outputs": [],
   "source": [
    "df_poi_by_class = df_poi.pointx_class.value_counts().to_frame().reset_index().rename(columns={\"index\": \"class\", \"pointx_class\": \"number\"})\n",
    "df_poi_by_class['class_4d'] = df_poi_by_class['class'].apply(lambda x: str(x)[-4:])"
   ]
  },
  {
   "cell_type": "markdown",
   "id": "96a4b79d-5d79-4862-b888-3b1108fa4820",
   "metadata": {},
   "source": [
    "## Read in POI classifications and join the POI data with classifications"
   ]
  },
  {
   "cell_type": "code",
   "execution_count": 6,
   "id": "28f2fd58-f671-4b16-9165-758bce9f2241",
   "metadata": {},
   "outputs": [
    {
     "data": {
      "text/plain": [
       "Index(['ID', 'Class Number', 'Classification Description',\n",
       "       'Category Number Foreign Key'],\n",
       "      dtype='object')"
      ]
     },
     "execution_count": 6,
     "metadata": {},
     "output_type": "execute_result"
    }
   ],
   "source": [
    "df_poi_class_table = pd.read_csv(\"Liverpool_hub_four_POI/poi_4565130/docs/POI_CLASSIFICATIONS.txt\", sep = \"|\", dtype=object)\n",
    "# .[\"Class Number\",\"Classification Description\"]\n",
    "df_poi_class_table.columns"
   ]
  },
  {
   "cell_type": "code",
   "execution_count": 7,
   "id": "80458fe5-0bfd-4fe7-be4e-8aab5f8ff644",
   "metadata": {},
   "outputs": [],
   "source": [
    "df_poi_by_class = pd.merge(how='left',\n",
    "         left= df_poi_by_class, \n",
    "         right=df_poi_class_table, \n",
    "         left_on='class_4d', right_on='Class Number')"
   ]
  },
  {
   "cell_type": "code",
   "execution_count": 8,
   "id": "54999562-8caa-4386-a170-c261551542d7",
   "metadata": {},
   "outputs": [
    {
     "data": {
      "text/html": [
       "<div>\n",
       "<style scoped>\n",
       "    .dataframe tbody tr th:only-of-type {\n",
       "        vertical-align: middle;\n",
       "    }\n",
       "\n",
       "    .dataframe tbody tr th {\n",
       "        vertical-align: top;\n",
       "    }\n",
       "\n",
       "    .dataframe thead th {\n",
       "        text-align: right;\n",
       "    }\n",
       "</style>\n",
       "<table border=\"1\" class=\"dataframe\">\n",
       "  <thead>\n",
       "    <tr style=\"text-align: right;\">\n",
       "      <th></th>\n",
       "      <th>class</th>\n",
       "      <th>number</th>\n",
       "      <th>class_4d</th>\n",
       "      <th>ID</th>\n",
       "      <th>Class Number</th>\n",
       "      <th>Classification Description</th>\n",
       "      <th>Category Number Foreign Key</th>\n",
       "    </tr>\n",
       "  </thead>\n",
       "  <tbody>\n",
       "    <tr>\n",
       "      <th>0</th>\n",
       "      <td>10590732</td>\n",
       "      <td>536</td>\n",
       "      <td>0732</td>\n",
       "      <td>619</td>\n",
       "      <td>0732</td>\n",
       "      <td>BUS STOPS</td>\n",
       "      <td>59</td>\n",
       "    </tr>\n",
       "    <tr>\n",
       "      <th>1</th>\n",
       "      <td>6340433</td>\n",
       "      <td>415</td>\n",
       "      <td>0433</td>\n",
       "      <td>350</td>\n",
       "      <td>0433</td>\n",
       "      <td>ELECTRICAL FEATURES</td>\n",
       "      <td>34</td>\n",
       "    </tr>\n",
       "    <tr>\n",
       "      <th>2</th>\n",
       "      <td>1020034</td>\n",
       "      <td>383</td>\n",
       "      <td>0034</td>\n",
       "      <td>14</td>\n",
       "      <td>0034</td>\n",
       "      <td>PUBS, BARS AND INNS</td>\n",
       "      <td>02</td>\n",
       "    </tr>\n",
       "    <tr>\n",
       "      <th>3</th>\n",
       "      <td>2100156</td>\n",
       "      <td>315</td>\n",
       "      <td>0156</td>\n",
       "      <td>118</td>\n",
       "      <td>0156</td>\n",
       "      <td>HAIR AND BEAUTY SERVICES</td>\n",
       "      <td>10</td>\n",
       "    </tr>\n",
       "    <tr>\n",
       "      <th>4</th>\n",
       "      <td>1020018</td>\n",
       "      <td>247</td>\n",
       "      <td>0018</td>\n",
       "      <td>10</td>\n",
       "      <td>0018</td>\n",
       "      <td>FAST FOOD AND TAKEAWAY OUTLETS</td>\n",
       "      <td>02</td>\n",
       "    </tr>\n",
       "    <tr>\n",
       "      <th>5</th>\n",
       "      <td>1020043</td>\n",
       "      <td>234</td>\n",
       "      <td>0043</td>\n",
       "      <td>15</td>\n",
       "      <td>0043</td>\n",
       "      <td>RESTAURANTS</td>\n",
       "      <td>02</td>\n",
       "    </tr>\n",
       "    <tr>\n",
       "      <th>6</th>\n",
       "      <td>3200269</td>\n",
       "      <td>231</td>\n",
       "      <td>0269</td>\n",
       "      <td>217</td>\n",
       "      <td>0269</td>\n",
       "      <td>UNSPECIFIED AND OTHER ATTRACTIONS</td>\n",
       "      <td>20</td>\n",
       "    </tr>\n",
       "    <tr>\n",
       "      <th>7</th>\n",
       "      <td>9470699</td>\n",
       "      <td>223</td>\n",
       "      <td>0699</td>\n",
       "      <td>536</td>\n",
       "      <td>0699</td>\n",
       "      <td>CONVENIENCE STORES AND INDEPENDENT SUPERMARKETS</td>\n",
       "      <td>47</td>\n",
       "    </tr>\n",
       "    <tr>\n",
       "      <th>8</th>\n",
       "      <td>1020013</td>\n",
       "      <td>215</td>\n",
       "      <td>0013</td>\n",
       "      <td>9</td>\n",
       "      <td>0013</td>\n",
       "      <td>CAFES, SNACK BARS AND TEA ROOMS</td>\n",
       "      <td>02</td>\n",
       "    </tr>\n",
       "    <tr>\n",
       "      <th>9</th>\n",
       "      <td>2090141</td>\n",
       "      <td>166</td>\n",
       "      <td>0141</td>\n",
       "      <td>98</td>\n",
       "      <td>0141</td>\n",
       "      <td>CASH MACHINES</td>\n",
       "      <td>09</td>\n",
       "    </tr>\n",
       "    <tr>\n",
       "      <th>10</th>\n",
       "      <td>9460656</td>\n",
       "      <td>138</td>\n",
       "      <td>0656</td>\n",
       "      <td>520</td>\n",
       "      <td>0656</td>\n",
       "      <td>CLOTHING</td>\n",
       "      <td>46</td>\n",
       "    </tr>\n",
       "    <tr>\n",
       "      <th>11</th>\n",
       "      <td>6340457</td>\n",
       "      <td>131</td>\n",
       "      <td>0457</td>\n",
       "      <td>363</td>\n",
       "      <td>0457</td>\n",
       "      <td>LETTER BOXES</td>\n",
       "      <td>34</td>\n",
       "    </tr>\n",
       "    <tr>\n",
       "      <th>12</th>\n",
       "      <td>2090154</td>\n",
       "      <td>121</td>\n",
       "      <td>0154</td>\n",
       "      <td>109</td>\n",
       "      <td>0154</td>\n",
       "      <td>SOLICITORS, ADVOCATES AND NOTARIES PUBLIC</td>\n",
       "      <td>09</td>\n",
       "    </tr>\n",
       "    <tr>\n",
       "      <th>13</th>\n",
       "      <td>6340459</td>\n",
       "      <td>106</td>\n",
       "      <td>0459</td>\n",
       "      <td>365</td>\n",
       "      <td>0459</td>\n",
       "      <td>PLACES OF WORSHIP</td>\n",
       "      <td>34</td>\n",
       "    </tr>\n",
       "    <tr>\n",
       "      <th>14</th>\n",
       "      <td>10540736</td>\n",
       "      <td>101</td>\n",
       "      <td>0736</td>\n",
       "      <td>596</td>\n",
       "      <td>0736</td>\n",
       "      <td>PARKING</td>\n",
       "      <td>54</td>\n",
       "    </tr>\n",
       "    <tr>\n",
       "      <th>15</th>\n",
       "      <td>2090811</td>\n",
       "      <td>90</td>\n",
       "      <td>0811</td>\n",
       "      <td>113</td>\n",
       "      <td>0811</td>\n",
       "      <td>PAYPOINT LOCATIONS</td>\n",
       "      <td>09</td>\n",
       "    </tr>\n",
       "    <tr>\n",
       "      <th>16</th>\n",
       "      <td>6340802</td>\n",
       "      <td>79</td>\n",
       "      <td>0802</td>\n",
       "      <td>369</td>\n",
       "      <td>0802</td>\n",
       "      <td>WIFI HOTSPOTS</td>\n",
       "      <td>34</td>\n",
       "    </tr>\n",
       "    <tr>\n",
       "      <th>17</th>\n",
       "      <td>2050078</td>\n",
       "      <td>78</td>\n",
       "      <td>0078</td>\n",
       "      <td>49</td>\n",
       "      <td>0078</td>\n",
       "      <td>EMPLOYMENT AGENCIES</td>\n",
       "      <td>05</td>\n",
       "    </tr>\n",
       "    <tr>\n",
       "      <th>18</th>\n",
       "      <td>2100167</td>\n",
       "      <td>75</td>\n",
       "      <td>0167</td>\n",
       "      <td>125</td>\n",
       "      <td>0167</td>\n",
       "      <td>HEADQUARTERS, ADMINISTRATION AND CENTRAL OFFICES</td>\n",
       "      <td>10</td>\n",
       "    </tr>\n",
       "    <tr>\n",
       "      <th>19</th>\n",
       "      <td>6350816</td>\n",
       "      <td>66</td>\n",
       "      <td>0816</td>\n",
       "      <td>378</td>\n",
       "      <td>0816</td>\n",
       "      <td>CHARITABLE ORGANISATIONS</td>\n",
       "      <td>35</td>\n",
       "    </tr>\n",
       "    <tr>\n",
       "      <th>20</th>\n",
       "      <td>10550747</td>\n",
       "      <td>65</td>\n",
       "      <td>0747</td>\n",
       "      <td>NaN</td>\n",
       "      <td>NaN</td>\n",
       "      <td>NaN</td>\n",
       "      <td>NaN</td>\n",
       "    </tr>\n",
       "    <tr>\n",
       "      <th>21</th>\n",
       "      <td>2040063</td>\n",
       "      <td>64</td>\n",
       "      <td>0063</td>\n",
       "      <td>35</td>\n",
       "      <td>0063</td>\n",
       "      <td>ARCHITECTURAL AND BUILDING RELATED CONSULTANTS</td>\n",
       "      <td>04</td>\n",
       "    </tr>\n",
       "    <tr>\n",
       "      <th>22</th>\n",
       "      <td>1010006</td>\n",
       "      <td>63</td>\n",
       "      <td>0006</td>\n",
       "      <td>4</td>\n",
       "      <td>0006</td>\n",
       "      <td>HOTELS, MOTELS, COUNTRY HOUSES AND INNS</td>\n",
       "      <td>01</td>\n",
       "    </tr>\n",
       "    <tr>\n",
       "      <th>23</th>\n",
       "      <td>2080117</td>\n",
       "      <td>53</td>\n",
       "      <td>0117</td>\n",
       "      <td>77</td>\n",
       "      <td>0117</td>\n",
       "      <td>COMPUTER SYSTEMS SERVICES</td>\n",
       "      <td>08</td>\n",
       "    </tr>\n",
       "    <tr>\n",
       "      <th>24</th>\n",
       "      <td>9460659</td>\n",
       "      <td>51</td>\n",
       "      <td>0659</td>\n",
       "      <td>522</td>\n",
       "      <td>0659</td>\n",
       "      <td>JEWELLERY AND FASHION ACCESSORIES</td>\n",
       "      <td>46</td>\n",
       "    </tr>\n",
       "    <tr>\n",
       "      <th>25</th>\n",
       "      <td>2090135</td>\n",
       "      <td>51</td>\n",
       "      <td>0135</td>\n",
       "      <td>94</td>\n",
       "      <td>0135</td>\n",
       "      <td>ACCOUNTANTS AND AUDITORS</td>\n",
       "      <td>09</td>\n",
       "    </tr>\n",
       "    <tr>\n",
       "      <th>26</th>\n",
       "      <td>2110190</td>\n",
       "      <td>50</td>\n",
       "      <td>0190</td>\n",
       "      <td>150</td>\n",
       "      <td>0190</td>\n",
       "      <td>PROPERTY SALES</td>\n",
       "      <td>11</td>\n",
       "    </tr>\n",
       "    <tr>\n",
       "      <th>27</th>\n",
       "      <td>2110192</td>\n",
       "      <td>49</td>\n",
       "      <td>0192</td>\n",
       "      <td>152</td>\n",
       "      <td>0192</td>\n",
       "      <td>PROPERTY LETTING</td>\n",
       "      <td>11</td>\n",
       "    </tr>\n",
       "    <tr>\n",
       "      <th>28</th>\n",
       "      <td>10560753</td>\n",
       "      <td>48</td>\n",
       "      <td>0753</td>\n",
       "      <td>609</td>\n",
       "      <td>0753</td>\n",
       "      <td>MOORINGS AND UNLOADING FACILITIES</td>\n",
       "      <td>56</td>\n",
       "    </tr>\n",
       "    <tr>\n",
       "      <th>29</th>\n",
       "      <td>5320403</td>\n",
       "      <td>48</td>\n",
       "      <td>0403</td>\n",
       "      <td>330</td>\n",
       "      <td>0403</td>\n",
       "      <td>TRAINING PROVIDERS AND CENTRES</td>\n",
       "      <td>32</td>\n",
       "    </tr>\n",
       "    <tr>\n",
       "      <th>30</th>\n",
       "      <td>4240293</td>\n",
       "      <td>48</td>\n",
       "      <td>0293</td>\n",
       "      <td>247</td>\n",
       "      <td>0293</td>\n",
       "      <td>GYMNASIUMS, SPORTS HALLS AND LEISURE CENTRES</td>\n",
       "      <td>24</td>\n",
       "    </tr>\n",
       "    <tr>\n",
       "      <th>31</th>\n",
       "      <td>2110191</td>\n",
       "      <td>47</td>\n",
       "      <td>0191</td>\n",
       "      <td>151</td>\n",
       "      <td>0191</td>\n",
       "      <td>ESTATE AND PROPERTY MANAGEMENT</td>\n",
       "      <td>11</td>\n",
       "    </tr>\n",
       "    <tr>\n",
       "      <th>32</th>\n",
       "      <td>3170245</td>\n",
       "      <td>44</td>\n",
       "      <td>0245</td>\n",
       "      <td>200</td>\n",
       "      <td>0245</td>\n",
       "      <td>HISTORIC AND CEREMONIAL STRUCTURES</td>\n",
       "      <td>17</td>\n",
       "    </tr>\n",
       "    <tr>\n",
       "      <th>33</th>\n",
       "      <td>2040064</td>\n",
       "      <td>44</td>\n",
       "      <td>0064</td>\n",
       "      <td>36</td>\n",
       "      <td>0064</td>\n",
       "      <td>BUSINESS RELATED CONSULTANTS</td>\n",
       "      <td>04</td>\n",
       "    </tr>\n",
       "    <tr>\n",
       "      <th>34</th>\n",
       "      <td>2090147</td>\n",
       "      <td>43</td>\n",
       "      <td>0147</td>\n",
       "      <td>104</td>\n",
       "      <td>0147</td>\n",
       "      <td>FINANCIAL ADVICE SERVICES</td>\n",
       "      <td>09</td>\n",
       "    </tr>\n",
       "    <tr>\n",
       "      <th>35</th>\n",
       "      <td>7410542</td>\n",
       "      <td>43</td>\n",
       "      <td>0542</td>\n",
       "      <td>452</td>\n",
       "      <td>0542</td>\n",
       "      <td>UNSPECIFIED WORKS OR FACTORIES</td>\n",
       "      <td>41</td>\n",
       "    </tr>\n",
       "    <tr>\n",
       "      <th>36</th>\n",
       "      <td>5280365</td>\n",
       "      <td>42</td>\n",
       "      <td>0365</td>\n",
       "      <td>289</td>\n",
       "      <td>0365</td>\n",
       "      <td>CLINICS AND HEALTH CENTRES</td>\n",
       "      <td>28</td>\n",
       "    </tr>\n",
       "    <tr>\n",
       "      <th>37</th>\n",
       "      <td>2130212</td>\n",
       "      <td>40</td>\n",
       "      <td>0212</td>\n",
       "      <td>167</td>\n",
       "      <td>0212</td>\n",
       "      <td>VEHICLE REPAIR, TESTING AND SERVICING</td>\n",
       "      <td>13</td>\n",
       "    </tr>\n",
       "    <tr>\n",
       "      <th>38</th>\n",
       "      <td>9470661</td>\n",
       "      <td>39</td>\n",
       "      <td>0661</td>\n",
       "      <td>525</td>\n",
       "      <td>0661</td>\n",
       "      <td>BAKERIES</td>\n",
       "      <td>47</td>\n",
       "    </tr>\n",
       "    <tr>\n",
       "      <th>39</th>\n",
       "      <td>2140214</td>\n",
       "      <td>39</td>\n",
       "      <td>0214</td>\n",
       "      <td>169</td>\n",
       "      <td>0214</td>\n",
       "      <td>DESIGN SERVICES</td>\n",
       "      <td>14</td>\n",
       "    </tr>\n",
       "    <tr>\n",
       "      <th>40</th>\n",
       "      <td>4220279</td>\n",
       "      <td>39</td>\n",
       "      <td>0279</td>\n",
       "      <td>232</td>\n",
       "      <td>0279</td>\n",
       "      <td>BOOKMAKERS</td>\n",
       "      <td>22</td>\n",
       "    </tr>\n",
       "    <tr>\n",
       "      <th>41</th>\n",
       "      <td>10540730</td>\n",
       "      <td>38</td>\n",
       "      <td>0730</td>\n",
       "      <td>592</td>\n",
       "      <td>0730</td>\n",
       "      <td>BRIDGES</td>\n",
       "      <td>54</td>\n",
       "    </tr>\n",
       "    <tr>\n",
       "      <th>42</th>\n",
       "      <td>1020020</td>\n",
       "      <td>38</td>\n",
       "      <td>0020</td>\n",
       "      <td>12</td>\n",
       "      <td>0020</td>\n",
       "      <td>FISH AND CHIP SHOPS</td>\n",
       "      <td>02</td>\n",
       "    </tr>\n",
       "    <tr>\n",
       "      <th>43</th>\n",
       "      <td>9480686</td>\n",
       "      <td>37</td>\n",
       "      <td>0686</td>\n",
       "      <td>553</td>\n",
       "      <td>0686</td>\n",
       "      <td>HOBBY, SPORTS AND PASTIME PRODUCTS</td>\n",
       "      <td>48</td>\n",
       "    </tr>\n",
       "    <tr>\n",
       "      <th>44</th>\n",
       "      <td>4250312</td>\n",
       "      <td>37</td>\n",
       "      <td>0312</td>\n",
       "      <td>261</td>\n",
       "      <td>0312</td>\n",
       "      <td>NIGHTCLUBS</td>\n",
       "      <td>25</td>\n",
       "    </tr>\n",
       "    <tr>\n",
       "      <th>45</th>\n",
       "      <td>6340456</td>\n",
       "      <td>37</td>\n",
       "      <td>0456</td>\n",
       "      <td>362</td>\n",
       "      <td>0456</td>\n",
       "      <td>HALLS AND COMMUNITY CENTRES</td>\n",
       "      <td>34</td>\n",
       "    </tr>\n",
       "    <tr>\n",
       "      <th>46</th>\n",
       "      <td>2100170</td>\n",
       "      <td>36</td>\n",
       "      <td>0170</td>\n",
       "      <td>127</td>\n",
       "      <td>0170</td>\n",
       "      <td>LOCK, KEY AND SECURITY SERVICES</td>\n",
       "      <td>10</td>\n",
       "    </tr>\n",
       "    <tr>\n",
       "      <th>47</th>\n",
       "      <td>5280364</td>\n",
       "      <td>34</td>\n",
       "      <td>0364</td>\n",
       "      <td>288</td>\n",
       "      <td>0364</td>\n",
       "      <td>CHEMISTS AND PHARMACIES</td>\n",
       "      <td>28</td>\n",
       "    </tr>\n",
       "    <tr>\n",
       "      <th>48</th>\n",
       "      <td>2090149</td>\n",
       "      <td>34</td>\n",
       "      <td>0149</td>\n",
       "      <td>106</td>\n",
       "      <td>0149</td>\n",
       "      <td>INSURERS AND SUPPORT ACTIVITIES</td>\n",
       "      <td>09</td>\n",
       "    </tr>\n",
       "    <tr>\n",
       "      <th>49</th>\n",
       "      <td>1010009</td>\n",
       "      <td>34</td>\n",
       "      <td>0009</td>\n",
       "      <td>7</td>\n",
       "      <td>0009</td>\n",
       "      <td>YOUTH ACCOMMODATION</td>\n",
       "      <td>01</td>\n",
       "    </tr>\n",
       "  </tbody>\n",
       "</table>\n",
       "</div>"
      ],
      "text/plain": [
       "       class  number class_4d   ID Class Number  \\\n",
       "0   10590732     536     0732  619         0732   \n",
       "1    6340433     415     0433  350         0433   \n",
       "2    1020034     383     0034   14         0034   \n",
       "3    2100156     315     0156  118         0156   \n",
       "4    1020018     247     0018   10         0018   \n",
       "5    1020043     234     0043   15         0043   \n",
       "6    3200269     231     0269  217         0269   \n",
       "7    9470699     223     0699  536         0699   \n",
       "8    1020013     215     0013    9         0013   \n",
       "9    2090141     166     0141   98         0141   \n",
       "10   9460656     138     0656  520         0656   \n",
       "11   6340457     131     0457  363         0457   \n",
       "12   2090154     121     0154  109         0154   \n",
       "13   6340459     106     0459  365         0459   \n",
       "14  10540736     101     0736  596         0736   \n",
       "15   2090811      90     0811  113         0811   \n",
       "16   6340802      79     0802  369         0802   \n",
       "17   2050078      78     0078   49         0078   \n",
       "18   2100167      75     0167  125         0167   \n",
       "19   6350816      66     0816  378         0816   \n",
       "20  10550747      65     0747  NaN          NaN   \n",
       "21   2040063      64     0063   35         0063   \n",
       "22   1010006      63     0006    4         0006   \n",
       "23   2080117      53     0117   77         0117   \n",
       "24   9460659      51     0659  522         0659   \n",
       "25   2090135      51     0135   94         0135   \n",
       "26   2110190      50     0190  150         0190   \n",
       "27   2110192      49     0192  152         0192   \n",
       "28  10560753      48     0753  609         0753   \n",
       "29   5320403      48     0403  330         0403   \n",
       "30   4240293      48     0293  247         0293   \n",
       "31   2110191      47     0191  151         0191   \n",
       "32   3170245      44     0245  200         0245   \n",
       "33   2040064      44     0064   36         0064   \n",
       "34   2090147      43     0147  104         0147   \n",
       "35   7410542      43     0542  452         0542   \n",
       "36   5280365      42     0365  289         0365   \n",
       "37   2130212      40     0212  167         0212   \n",
       "38   9470661      39     0661  525         0661   \n",
       "39   2140214      39     0214  169         0214   \n",
       "40   4220279      39     0279  232         0279   \n",
       "41  10540730      38     0730  592         0730   \n",
       "42   1020020      38     0020   12         0020   \n",
       "43   9480686      37     0686  553         0686   \n",
       "44   4250312      37     0312  261         0312   \n",
       "45   6340456      37     0456  362         0456   \n",
       "46   2100170      36     0170  127         0170   \n",
       "47   5280364      34     0364  288         0364   \n",
       "48   2090149      34     0149  106         0149   \n",
       "49   1010009      34     0009    7         0009   \n",
       "\n",
       "                          Classification Description  \\\n",
       "0                                          BUS STOPS   \n",
       "1                                ELECTRICAL FEATURES   \n",
       "2                                PUBS, BARS AND INNS   \n",
       "3                           HAIR AND BEAUTY SERVICES   \n",
       "4                     FAST FOOD AND TAKEAWAY OUTLETS   \n",
       "5                                        RESTAURANTS   \n",
       "6                  UNSPECIFIED AND OTHER ATTRACTIONS   \n",
       "7    CONVENIENCE STORES AND INDEPENDENT SUPERMARKETS   \n",
       "8                    CAFES, SNACK BARS AND TEA ROOMS   \n",
       "9                                      CASH MACHINES   \n",
       "10                                          CLOTHING   \n",
       "11                                      LETTER BOXES   \n",
       "12         SOLICITORS, ADVOCATES AND NOTARIES PUBLIC   \n",
       "13                                 PLACES OF WORSHIP   \n",
       "14                                           PARKING   \n",
       "15                                PAYPOINT LOCATIONS   \n",
       "16                                     WIFI HOTSPOTS   \n",
       "17                               EMPLOYMENT AGENCIES   \n",
       "18  HEADQUARTERS, ADMINISTRATION AND CENTRAL OFFICES   \n",
       "19                          CHARITABLE ORGANISATIONS   \n",
       "20                                               NaN   \n",
       "21    ARCHITECTURAL AND BUILDING RELATED CONSULTANTS   \n",
       "22           HOTELS, MOTELS, COUNTRY HOUSES AND INNS   \n",
       "23                         COMPUTER SYSTEMS SERVICES   \n",
       "24                 JEWELLERY AND FASHION ACCESSORIES   \n",
       "25                          ACCOUNTANTS AND AUDITORS   \n",
       "26                                    PROPERTY SALES   \n",
       "27                                  PROPERTY LETTING   \n",
       "28                 MOORINGS AND UNLOADING FACILITIES   \n",
       "29                    TRAINING PROVIDERS AND CENTRES   \n",
       "30      GYMNASIUMS, SPORTS HALLS AND LEISURE CENTRES   \n",
       "31                    ESTATE AND PROPERTY MANAGEMENT   \n",
       "32                HISTORIC AND CEREMONIAL STRUCTURES   \n",
       "33                      BUSINESS RELATED CONSULTANTS   \n",
       "34                         FINANCIAL ADVICE SERVICES   \n",
       "35                    UNSPECIFIED WORKS OR FACTORIES   \n",
       "36                        CLINICS AND HEALTH CENTRES   \n",
       "37             VEHICLE REPAIR, TESTING AND SERVICING   \n",
       "38                                          BAKERIES   \n",
       "39                                   DESIGN SERVICES   \n",
       "40                                        BOOKMAKERS   \n",
       "41                                           BRIDGES   \n",
       "42                               FISH AND CHIP SHOPS   \n",
       "43                HOBBY, SPORTS AND PASTIME PRODUCTS   \n",
       "44                                        NIGHTCLUBS   \n",
       "45                       HALLS AND COMMUNITY CENTRES   \n",
       "46                   LOCK, KEY AND SECURITY SERVICES   \n",
       "47                           CHEMISTS AND PHARMACIES   \n",
       "48                   INSURERS AND SUPPORT ACTIVITIES   \n",
       "49                               YOUTH ACCOMMODATION   \n",
       "\n",
       "   Category Number Foreign Key  \n",
       "0                           59  \n",
       "1                           34  \n",
       "2                           02  \n",
       "3                           10  \n",
       "4                           02  \n",
       "5                           02  \n",
       "6                           20  \n",
       "7                           47  \n",
       "8                           02  \n",
       "9                           09  \n",
       "10                          46  \n",
       "11                          34  \n",
       "12                          09  \n",
       "13                          34  \n",
       "14                          54  \n",
       "15                          09  \n",
       "16                          34  \n",
       "17                          05  \n",
       "18                          10  \n",
       "19                          35  \n",
       "20                         NaN  \n",
       "21                          04  \n",
       "22                          01  \n",
       "23                          08  \n",
       "24                          46  \n",
       "25                          09  \n",
       "26                          11  \n",
       "27                          11  \n",
       "28                          56  \n",
       "29                          32  \n",
       "30                          24  \n",
       "31                          11  \n",
       "32                          17  \n",
       "33                          04  \n",
       "34                          09  \n",
       "35                          41  \n",
       "36                          28  \n",
       "37                          13  \n",
       "38                          47  \n",
       "39                          14  \n",
       "40                          22  \n",
       "41                          54  \n",
       "42                          02  \n",
       "43                          48  \n",
       "44                          25  \n",
       "45                          34  \n",
       "46                          10  \n",
       "47                          28  \n",
       "48                          09  \n",
       "49                          01  "
      ]
     },
     "execution_count": 8,
     "metadata": {},
     "output_type": "execute_result"
    }
   ],
   "source": [
    "df_poi_by_class.head(50)"
   ]
  },
  {
   "cell_type": "code",
   "execution_count": 9,
   "id": "b4409a64-b269-4263-b63c-f08d8891d74d",
   "metadata": {},
   "outputs": [
    {
     "data": {
      "text/plain": [
       "(7693, 25)"
      ]
     },
     "execution_count": 9,
     "metadata": {},
     "output_type": "execute_result"
    }
   ],
   "source": [
    "df_poi.shape\n",
    "# 7693 POIs in total"
   ]
  },
  {
   "cell_type": "markdown",
   "id": "4c4b9c0c-e8cb-42b3-ae48-4e8e695f6f5b",
   "metadata": {},
   "source": [
    "## Selecting several types of POI as candidate sites for the case study"
   ]
  },
  {
   "cell_type": "markdown",
   "id": "2e16908e-cba2-464d-8bfc-6a95eec71258",
   "metadata": {},
   "source": [
    "First, types of POIs used in the location-allocation analysis in Feng et al. 2021:\n",
    "\n",
    "```\n",
    "The U.S. Geological Survey maintains the National Structures Dataset that contains data on Fire/Police Stations, Hospital/Medical Centers, Ambulance Services, etc. We used this data in defining possible drone sites. Fig. 4 shows the 520 potential stations in the study area, among which the stations are selected to equip drones.\n",
    "\n",
    "40 stations are selected to equip the drones.\n",
    "```"
   ]
  },
  {
   "cell_type": "markdown",
   "id": "9aea5f86-b0d0-4216-a1aa-0a5180725103",
   "metadata": {},
   "source": [
    "We select the following types of POIs:\n",
    "- 343|\"0422\"|\"POLICE STATIONS\"|\"33\"\n",
    "- 337|\"0414\"|\"FIRE BRIGADE STATIONS\"|\"33\"\n",
    "- 301|\"0106\"|\"MEDICAL EQUIPMENT RENTAL AND LEASING\"|\"29\"\n",
    "- 302|\"0356\"|\"AMBULANCE AND MEDICAL TRANSPORTATION SERVICES\"|\"29\"\n",
    "- 613|\"0731\"|\"BUS AND COACH STATIONS, DEPOTS AND COMPANIES\"|\"57\"\n",
    "- 614|\"0738\"|\"RAILWAY STATIONS, JUNCTIONS AND HALTS\"|\"57\"\n",
    "- 615|\"0756\"|\"TRAM, METRO AND LIGHT RAILWAY STATIONS AND STOPS\"|\"57\"\n",
    "- 616|\"0758\"|\"TAXI RANKS\"|\"57\"\n",
    "- 617|\"0761\"|\"UNDERGROUND NETWORK STATIONS\"|\"57\"\n",
    "- 618|\"0794\"|\"LONDON UNDERGROUND ENTRANCES\"|\"57\"\n",
    "- 247|\"0293\"|\"GYMNASIUMS, SPORTS HALLS AND LEISURE CENTRES\"|\"24\"\n",
    "- 362|\"0456\"|\"HALLS AND COMMUNITY CENTRES\"|\"34\""
   ]
  },
  {
   "cell_type": "code",
   "execution_count": 10,
   "id": "9f647596-8264-4f39-acc9-c35b8862dfa3",
   "metadata": {},
   "outputs": [],
   "source": [
    "def check_number_POI(list_poi_class):\n",
    "    print(df_poi[df_poi[\"pointx_class\"].astype(str).str.contains('|'.join(list_poi_class))].shape[0])"
   ]
  },
  {
   "cell_type": "code",
   "execution_count": 11,
   "id": "310dd56f-ae43-4679-ad22-a3729ff1660e",
   "metadata": {},
   "outputs": [
    {
     "name": "stdout",
     "output_type": "stream",
     "text": [
      "93\n"
     ]
    }
   ],
   "source": [
    "# how many sites are in these types? Only 8\n",
    "list_poi_class = [\"0422\",\"0414\",\"0106\",\"0356\",\"0293\", \"0456\"]\n",
    "\n",
    "check_number_POI(list_poi_class)"
   ]
  },
  {
   "cell_type": "markdown",
   "id": "c4b53fae-e3c4-4651-b918-e422b2332492",
   "metadata": {},
   "source": [
    "This can be the case study: **SELECT 10 out of 93 candidate sites in the p-median problem (PMP).**"
   ]
  },
  {
   "cell_type": "code",
   "execution_count": 12,
   "id": "0dda0fe1-ec17-4fe4-a63b-d424048e037f",
   "metadata": {},
   "outputs": [],
   "source": [
    "# visualise the map of these POIs\n",
    "list_poi_class = [\"0422\",\"0414\",\"0106\",\"0356\",\"0293\", \"0456\"]\n",
    "df_poi_subset = df_poi[df_poi[\"pointx_class\"].astype(str).str.contains('|'.join(list_poi_class))]"
   ]
  },
  {
   "cell_type": "code",
   "execution_count": 13,
   "id": "990b6e03-9529-445c-a5df-f0578b1d24d9",
   "metadata": {},
   "outputs": [
    {
     "name": "stdout",
     "output_type": "stream",
     "text": [
      "Index(['ref_no', 'name', 'pointx_class', 'feature_easting', 'feature_northing',\n",
      "       'pos_accuracy', 'uprn', 'topo_toid', 'topo_toid_version', 'usrn',\n",
      "       'usrn_mi', 'distance', 'address_detail', 'street_name', 'locality',\n",
      "       'geographic_county', 'postcode', 'admin_boundary', 'telephone_number',\n",
      "       'url', 'brand', 'qualifier_type', 'qualifier_data', 'provenance',\n",
      "       'supply_date'],\n",
      "      dtype='object')\n",
      "93\n"
     ]
    }
   ],
   "source": [
    "print(df_poi_subset.columns)\n",
    "print(df_poi_subset.shape[0])"
   ]
  },
  {
   "cell_type": "code",
   "execution_count": 14,
   "id": "70bfb960-41c8-4ac1-ae42-8601e18d8770",
   "metadata": {},
   "outputs": [],
   "source": [
    "%%script false --no-raise-error\n",
    "gdf_poi = gpd.GeoDataFrame(\n",
    "    df_poi_subset, geometry=gpd.points_from_xy(df_poi_subset.feature_easting, df_poi_subset.feature_northing))\n",
    "gdf_poi = gdf_poi.set_crs('epsg:27700')\n",
    "\n",
    "%%script false --no-raise-error\n",
    "# add a column of 'site_id' to gdf_poi. get a dataframe of lat, long, easting, northing\n",
    "gdf_poi[\"site_id\"] = np.arange(len(gdf_poi))\n",
    "gdf_poi_wgs = gdf_poi.to_crs(\"epsg:4326\")\n",
    "gdf_poi[\"long\"],gdf_poi[\"lat\"] = gdf_poi_wgs.geometry.x, gdf_poi_wgs.geometry.y\n",
    "# write gdf_poi to geojson\n",
    "gdf_poi.to_file(\"Sites_Liverpool_hub_four.geojson\", driver = 'GeoJSON')"
   ]
  },
  {
   "cell_type": "code",
   "execution_count": 15,
   "id": "3ba7f9ed",
   "metadata": {},
   "outputs": [
    {
     "name": "stdout",
     "output_type": "stream",
     "text": [
      "Index(['ref_no', 'name', 'pointx_class', 'feature_easting', 'feature_northing',\n",
      "       'pos_accuracy', 'uprn', 'topo_toid', 'topo_toid_version', 'usrn',\n",
      "       'usrn_mi', 'distance', 'address_detail', 'street_name', 'locality',\n",
      "       'geographic_county', 'postcode', 'admin_boundary', 'telephone_number',\n",
      "       'url', 'brand', 'qualifier_type', 'qualifier_data', 'provenance',\n",
      "       'supply_date', 'site_id', 'long', 'lat', 'geometry'],\n",
      "      dtype='object')\n"
     ]
    }
   ],
   "source": [
    "gdf_poi = gpd.read_file(\"Sites_Liverpool_hub_four.geojson\")\n",
    "print(gdf_poi.columns)"
   ]
  },
  {
   "cell_type": "code",
   "execution_count": 16,
   "id": "dafca35b-ef5a-4f6e-a851-a07939aacb24",
   "metadata": {},
   "outputs": [
    {
     "data": {
      "image/png": "[encoded data removed]",
      "text/plain": [
       "<Figure size 640x480 with 1 Axes>"
      ]
     },
     "metadata": {},
     "output_type": "display_data"
    }
   ],
   "source": [
    "# plot gdf_poi\n",
    "# read the boundary of Liverpool Hub Four\n",
    "gdf_liverpool_hub_four = gpd.read_file(\"Liverpool_hub_four_neighbourhood.geojson\")\n",
    "ax = gdf_liverpool_hub_four.plot(color='white', edgecolor='black')\n",
    "gdf_poi.plot(ax=ax, color='red')\n",
    "plt.title(\"Candidate sites in Liverpool Hub Four (93 sites)\")\n",
    "plt.show()"
   ]
  },
  {
   "cell_type": "markdown",
   "id": "9fdb1d7a-bff9-40b8-938b-b2f4702d81da",
   "metadata": {},
   "source": [
    "## Calculate distance matrix"
   ]
  },
  {
   "cell_type": "code",
   "execution_count": 17,
   "id": "acfeb575-37f9-43a6-afdf-58c2319fa6f4",
   "metadata": {},
   "outputs": [],
   "source": [
    "# read in street segments\n",
    "gdf_street_segments = gpd.read_file(\"nkde_crime_Liverpool_hub_four.geojson\")"
   ]
  },
  {
   "cell_type": "code",
   "execution_count": 18,
   "id": "9808c07e-63e4-4b61-85cd-c3c4f9c54103",
   "metadata": {},
   "outputs": [
    {
     "data": {
      "text/plain": [
       "<Projected CRS: EPSG:27700>\n",
       "Name: OSGB36 / British National Grid\n",
       "Axis Info [cartesian]:\n",
       "- E[east]: Easting (metre)\n",
       "- N[north]: Northing (metre)\n",
       "Area of Use:\n",
       "- name: United Kingdom (UK) - offshore to boundary of UKCS within 49°45'N to 61°N and 9°W to 2°E; onshore Great Britain (England, Wales and Scotland). Isle of Man onshore.\n",
       "- bounds: (-9.0, 49.75, 2.01, 61.01)\n",
       "Coordinate Operation:\n",
       "- name: British National Grid\n",
       "- method: Transverse Mercator\n",
       "Datum: Ordnance Survey of Great Britain 1936\n",
       "- Ellipsoid: Airy 1830\n",
       "- Prime Meridian: Greenwich"
      ]
     },
     "execution_count": 18,
     "metadata": {},
     "output_type": "execute_result"
    }
   ],
   "source": [
    "gdf_street_segments.crs"
   ]
  },
  {
   "cell_type": "code",
   "execution_count": 19,
   "id": "80d832ef",
   "metadata": {},
   "outputs": [
    {
     "data": {
      "text/plain": [
       "Index(['lineID', 'osm_id', 'name', 'X3', 'abandoned', 'abandoned.', 'abutters',\n",
       "       'access', 'addr.city', 'addr.house',\n",
       "       ...\n",
       "       'length', 'density', 'demand_id', 'feature_ea', 'feature_no', 'long',\n",
       "       'lat', 'feature_easting', 'feature_northing', 'geometry'],\n",
       "      dtype='object', length=203)"
      ]
     },
     "execution_count": 19,
     "metadata": {},
     "output_type": "execute_result"
    }
   ],
   "source": [
    "gdf_street_segments.columns"
   ]
  },
  {
   "cell_type": "code",
   "execution_count": 20,
   "id": "6bdbf47a-e86f-4ae6-85be-0474d484b341",
   "metadata": {},
   "outputs": [],
   "source": [
    "%%script false --no-raise-error\n",
    "# add demand_id\n",
    "gdf_street_segments[\"demand_id\"] = np.arange(len(gdf_street_segments))\n",
    "# add feature_easting and feature_northing from geometry data\n",
    "gdf_street_segments[\"feature_easting\"], gdf_street_segments[\"feature_northing\"] = gdf_street_segments.geometry.x, gdf_street_segments.geometry.y\n",
    "# transform to WGS84 \n",
    "gdf_street_segments_wgs = gdf_street_segments.to_crs(\"epsg:4326\")\n",
    "gdf_street_segments[\"long\"],gdf_street_segments[\"lat\"] = gdf_street_segments_wgs.geometry.x, gdf_street_segments_wgs.geometry.y "
   ]
  },
  {
   "cell_type": "code",
   "execution_count": 21,
   "id": "165258e4-72cd-4fa4-b350-8858f4a83b6a",
   "metadata": {},
   "outputs": [],
   "source": [
    "%%script false --no-raise-error\n",
    "gdf_street_segments.to_file(\"nkde_crime_Liverpool_hub_four.geojson\", driver = \"GeoJSON\")"
   ]
  },
  {
   "cell_type": "code",
   "execution_count": 22,
   "id": "2674d033-0160-49d3-a5b5-9d9bc2a66db4",
   "metadata": {},
   "outputs": [],
   "source": [
    "df_site = gdf_poi[[\"site_id\", \"long\", \"lat\", \"feature_easting\", \"feature_northing\"]].rename(columns={\"long\":\"site_long\", \"lat\":\"site_lat\", \"feature_easting\":\"site_easting\", \"feature_northing\":\"site_northing\" })"
   ]
  },
  {
   "cell_type": "code",
   "execution_count": 23,
   "id": "65eb9c3b-f773-484b-a486-7a96cf1a0117",
   "metadata": {},
   "outputs": [],
   "source": [
    "df_demand = gdf_street_segments[[\"demand_id\", \"long\", \"lat\", \"feature_easting\", \"feature_northing\"]].rename(columns={\"long\":\"demand_long\", \"lat\":\"demand_lat\", \"feature_easting\":\"demand_easting\", \"feature_northing\":\"demand_northing\" })"
   ]
  },
  {
   "cell_type": "code",
   "execution_count": 24,
   "id": "cbd214e0-8716-494d-844a-08d01c286ad1",
   "metadata": {},
   "outputs": [
    {
     "data": {
      "text/plain": [
       "Index(['site_id', 'site_long', 'site_lat', 'site_easting', 'site_northing',\n",
       "       'demand_id', 'demand_long', 'demand_lat', 'demand_easting',\n",
       "       'demand_northing'],\n",
       "      dtype='object')"
      ]
     },
     "execution_count": 24,
     "metadata": {},
     "output_type": "execute_result"
    }
   ],
   "source": [
    "# cartesian product in pandas\n",
    "df_distance = df_site.merge(df_demand, how='cross')\n",
    "df_distance.columns"
   ]
  },
  {
   "cell_type": "code",
   "execution_count": 25,
   "id": "8159311d-408b-48af-b040-4b5fe3dbf62f",
   "metadata": {},
   "outputs": [
    {
     "name": "stdout",
     "output_type": "stream",
     "text": [
      "93\n",
      "1710\n",
      "0\n"
     ]
    }
   ],
   "source": [
    "print(df_site.shape[0])\n",
    "print(df_demand.shape[0])\n",
    "print(df_distance.shape[0] - df_site.shape[0]*df_demand.shape[0])"
   ]
  },
  {
   "cell_type": "markdown",
   "id": "aa35849a-6e04-47ae-9510-bbae4703dbe1",
   "metadata": {},
   "source": [
    "### Euclidean distance"
   ]
  },
  {
   "cell_type": "code",
   "execution_count": 26,
   "id": "1a0d97d9-647b-455f-a355-178893de75bb",
   "metadata": {},
   "outputs": [
    {
     "data": {
      "text/plain": [
       "site_id              int64\n",
       "site_long          float64\n",
       "site_lat           float64\n",
       "site_easting       float64\n",
       "site_northing      float64\n",
       "demand_id            int64\n",
       "demand_long        float64\n",
       "demand_lat         float64\n",
       "demand_easting     float64\n",
       "demand_northing    float64\n",
       "dtype: object"
      ]
     },
     "execution_count": 26,
     "metadata": {},
     "output_type": "execute_result"
    }
   ],
   "source": [
    "df_distance.dtypes"
   ]
  },
  {
   "cell_type": "code",
   "execution_count": 27,
   "id": "f1e8aa94-04e4-4f4b-bb7b-045b764f5e34",
   "metadata": {},
   "outputs": [],
   "source": [
    "df_distance['Euclidean'] = np.sqrt(np.square(df_distance.demand_easting - df_distance.site_easting) + \n",
    "                                   np.square(df_distance.demand_northing - df_distance.site_northing))"
   ]
  },
  {
   "cell_type": "code",
   "execution_count": 28,
   "id": "80ba00f3-3cd1-4213-964e-20dec03420aa",
   "metadata": {},
   "outputs": [],
   "source": [
    "# test pivot_table\n",
    "df_test = df_distance.iloc[:5,]"
   ]
  },
  {
   "cell_type": "code",
   "execution_count": 29,
   "id": "4e5b3030-90b8-452f-a969-061baabe953e",
   "metadata": {},
   "outputs": [
    {
     "name": "stdout",
     "output_type": "stream",
     "text": [
      "   site_id  site_long   site_lat  site_easting  site_northing  demand_id  \\\n",
      "0        0  -2.962924  53.387355      336054.0       388267.0          0   \n",
      "1        0  -2.962924  53.387355      336054.0       388267.0          1   \n",
      "2        0  -2.962924  53.387355      336054.0       388267.0          2   \n",
      "3        0  -2.962924  53.387355      336054.0       388267.0          3   \n",
      "4        0  -2.962924  53.387355      336054.0       388267.0          4   \n",
      "\n",
      "   demand_long  demand_lat  demand_easting  demand_northing    Euclidean  \n",
      "0    -2.913968   53.394686   339320.415381    389039.829352  3356.595693  \n",
      "1    -2.911148   53.394061   339507.021123    388967.900086  3523.438066  \n",
      "2    -2.908332   53.393432   339693.431628    388895.457235  3693.294068  \n",
      "3    -2.905632   53.392660   339871.898002    388807.293089  3855.938508  \n",
      "4    -2.903148   53.391646   340035.599615    388692.461849  4004.266884  \n"
     ]
    }
   ],
   "source": [
    "print(df_test)"
   ]
  },
  {
   "cell_type": "code",
   "execution_count": 30,
   "id": "11f5fc1a-0b7d-447e-bb75-7f819983878d",
   "metadata": {},
   "outputs": [],
   "source": [
    "df_test_pivot = pd.pivot_table(df_test, values='Euclidean', index=['site_id'],\n",
    "                    columns=['demand_id'], aggfunc=np.sum)"
   ]
  },
  {
   "cell_type": "code",
   "execution_count": 31,
   "id": "00404cf7-0f73-4f4b-9d15-a96ef32870e7",
   "metadata": {},
   "outputs": [
    {
     "data": {
      "text/plain": [
       "Int64Index([0, 1, 2, 3, 4], dtype='int64', name='demand_id')"
      ]
     },
     "execution_count": 31,
     "metadata": {},
     "output_type": "execute_result"
    }
   ],
   "source": [
    "df_test_pivot.columns"
   ]
  },
  {
   "cell_type": "code",
   "execution_count": 32,
   "id": "edde528e-d27d-47b2-97b7-572a8f36ee35",
   "metadata": {},
   "outputs": [
    {
     "data": {
      "text/plain": [
       "Index(['site_id', 'site_long', 'site_lat', 'site_easting', 'site_northing',\n",
       "       'demand_id', 'demand_long', 'demand_lat', 'demand_easting',\n",
       "       'demand_northing', 'Euclidean'],\n",
       "      dtype='object')"
      ]
     },
     "execution_count": 32,
     "metadata": {},
     "output_type": "execute_result"
    }
   ],
   "source": [
    "df_distance.columns"
   ]
  },
  {
   "cell_type": "code",
   "execution_count": 33,
   "id": "b1c5ff17-5988-4649-9c9b-72d04ca8a788",
   "metadata": {},
   "outputs": [],
   "source": [
    "# The distance matrix required by spopt is a M*N matrix, with M rows and N columns corresponding to demands and sites\n",
    "df_distance_pivot_Euclidean = pd.pivot_table(df_distance, values='Euclidean', index=['demand_id'],\n",
    "                    columns=['site_id'], aggfunc=np.sum)"
   ]
  },
  {
   "cell_type": "code",
   "execution_count": 35,
   "id": "fe09bb58-8066-42ab-8d66-277877782d3f",
   "metadata": {},
   "outputs": [],
   "source": [
    "# save as Euclidean_distance_site_demand.csv\n",
    "file_distance_Euclidean = 'distance_matrix_demand_site_Euclidean.csv'\n",
    "df_distance_pivot_Euclidean.to_csv(file_distance_Euclidean)"
   ]
  },
  {
   "cell_type": "code",
   "execution_count": 36,
   "id": "1fdfbcab",
   "metadata": {},
   "outputs": [
    {
     "data": {
      "text/plain": [
       "DescribeResult(nobs=159030, minmax=(6.857566107243913, 8363.349912077383), mean=2629.3906459657437, variance=2342088.4896041877, skewness=0.46472054949008373, kurtosis=-0.6030650967716884)"
      ]
     },
     "execution_count": 36,
     "metadata": {},
     "output_type": "execute_result"
    }
   ],
   "source": [
    "# check this dataset - is it correct?\n",
    "from scipy import stats\n",
    "stats.describe(df_distance_pivot_Euclidean.to_numpy().flatten())"
   ]
  },
  {
   "cell_type": "code",
   "execution_count": 37,
   "id": "48c424eb-97c7-4365-90ce-a13bcd3a37b9",
   "metadata": {},
   "outputs": [],
   "source": [
    "# read in this csv and transform it into an ndarray. \n",
    "array_distance_Eudlidean = utilities.read_distance_matrix_as_np_array(file_distance_Euclidean)\n",
    "# array_distance_Eudlidean is a numpy array, with rows and columns corresponding to demands and sites, respectively"
   ]
  },
  {
   "cell_type": "code",
   "execution_count": 38,
   "id": "4294ca01-e885-408c-a58d-47da1003eeb2",
   "metadata": {},
   "outputs": [],
   "source": [
    "assert(array_distance_Eudlidean.shape == (1710, 93))"
   ]
  },
  {
   "cell_type": "markdown",
   "id": "08de4d3c-145f-4bdf-905f-a19827c225d7",
   "metadata": {},
   "source": [
    "### Network distance"
   ]
  },
  {
   "cell_type": "code",
   "execution_count": 39,
   "id": "9eae3e7b",
   "metadata": {},
   "outputs": [
    {
     "data": {
      "text/plain": [
       "8363.349912077383"
      ]
     },
     "execution_count": 39,
     "metadata": {},
     "output_type": "execute_result"
    }
   ],
   "source": [
    "# the largest Euclidean distance\n",
    "array_distance_Eudlidean.max().max()"
   ]
  },
  {
   "cell_type": "code",
   "execution_count": 40,
   "id": "0a6aff2a",
   "metadata": {},
   "outputs": [
    {
     "name": "stdout",
     "output_type": "stream",
     "text": [
      "Index(['site_id', 'site_long', 'site_lat', 'site_easting', 'site_northing'], dtype='object')\n",
      "Index(['demand_id', 'demand_long', 'demand_lat', 'demand_easting',\n",
      "       'demand_northing'],\n",
      "      dtype='object')\n"
     ]
    }
   ],
   "source": [
    "print(df_site.columns)\n",
    "print(df_demand.columns)"
   ]
  },
  {
   "cell_type": "code",
   "execution_count": 41,
   "id": "d9e113ae",
   "metadata": {},
   "outputs": [
    {
     "data": {
      "text/plain": [
       "pandas.core.frame.DataFrame"
      ]
     },
     "execution_count": 41,
     "metadata": {},
     "output_type": "execute_result"
    }
   ],
   "source": [
    "df_demand[['demand_id', 'demand_long', 'demand_lat']].__class__"
   ]
  },
  {
   "cell_type": "code",
   "execution_count": 44,
   "id": "634e9a26-fc15-42f4-9386-bb6e313f22fc",
   "metadata": {},
   "outputs": [
    {
     "name": "stderr",
     "output_type": "stream",
     "text": [
      "Progress bar:: 100%|██████████| 159030/159030 [17:10<00:00, 154.39it/s]\n"
     ]
    }
   ],
   "source": [
    "# using OSRM\n",
    "cutoff_distance = 100000\n",
    "df_distance_network = compute_pairwise_distance(df_demand[['demand_id', 'demand_long', 'demand_lat']], df_site[['site_id', 'site_long', 'site_lat']], cutoff_distance, False, True)\n"
   ]
  },
  {
   "cell_type": "code",
   "execution_count": 45,
   "id": "c4417b93",
   "metadata": {},
   "outputs": [
    {
     "name": "stdout",
     "output_type": "stream",
     "text": [
      "Index(['origin_id', 'dest_id', 'distance'], dtype='object')\n",
      "Index(['site_id', 'site_long', 'site_lat', 'site_easting', 'site_northing',\n",
      "       'demand_id', 'demand_long', 'demand_lat', 'demand_easting',\n",
      "       'demand_northing', 'Euclidean'],\n",
      "      dtype='object')\n"
     ]
    }
   ],
   "source": [
    "print(df_distance_network.columns)\n",
    "print(df_distance.columns)"
   ]
  },
  {
   "cell_type": "code",
   "execution_count": 46,
   "id": "608f4289-c4c2-47a1-a5b4-b8a9b158fb10",
   "metadata": {},
   "outputs": [],
   "source": [
    "# rename\n",
    "df_distance_network = df_distance_network.rename(columns={'distance':'network', 'origin_id':'demand_id', 'dest_id':'site_id'})\n",
    "# check if network distance is always larger than Euclidean distance\n",
    "df_distance = df_distance.merge(df_distance_network, how = 'left')"
   ]
  },
  {
   "cell_type": "code",
   "execution_count": 49,
   "id": "6dbd949c",
   "metadata": {},
   "outputs": [
    {
     "data": {
      "text/plain": [
       "Euclidean         0\n",
       "network      158817\n",
       "dtype: int64"
      ]
     },
     "execution_count": 49,
     "metadata": {},
     "output_type": "execute_result"
    }
   ],
   "source": [
    "df_diff_Euclidean_network = df_distance[['Euclidean', 'network']].diff(axis=1)\n",
    "df_diff_Euclidean_network[df_diff_Euclidean_network < 0.0].count()"
   ]
  },
  {
   "cell_type": "code",
   "execution_count": 50,
   "id": "8e2947da",
   "metadata": {},
   "outputs": [],
   "source": [
    "# The distance matrix required by spopt is a M*N matrix, with M rows and N columns corresponding to demands and sites\n",
    "df_distance_pivot_network = pd.pivot_table(df_distance, values='network', index=['demand_id'],\n",
    "                    columns=['site_id'], aggfunc=np.max)"
   ]
  },
  {
   "cell_type": "code",
   "execution_count": 51,
   "id": "a322583d-d72d-42f4-b8df-a3c3c2d28a67",
   "metadata": {},
   "outputs": [
    {
     "name": "stdout",
     "output_type": "stream",
     "text": [
      "Int64Index([   0,    1,    2,    3,    4,    5,    6,    7,    8,    9,\n",
      "            ...\n",
      "            1700, 1701, 1702, 1703, 1704, 1705, 1706, 1707, 1708, 1709],\n",
      "           dtype='int64', name='demand_id', length=1710)\n",
      "Int64Index([ 0,  1,  2,  3,  4,  5,  6,  7,  8,  9, 10, 11, 12, 13, 14, 15, 16,\n",
      "            17, 18, 19, 20, 21, 22, 23, 24, 25, 26, 27, 28, 29, 30, 31, 32, 33,\n",
      "            34, 35, 36, 37, 38, 39, 40, 41, 42, 43, 44, 45, 46, 47, 48, 49, 50,\n",
      "            51, 52, 53, 54, 55, 56, 57, 58, 59, 60, 61, 62, 63, 64, 65, 66, 67,\n",
      "            68, 69, 70, 71, 72, 73, 74, 75, 76, 77, 78, 79, 80, 81, 82, 83, 84,\n",
      "            85, 86, 87, 88, 89, 90, 91, 92],\n",
      "           dtype='int64', name='site_id')\n"
     ]
    }
   ],
   "source": [
    "print(df_distance_pivot_network.index)\n",
    "print(df_distance_pivot_network.columns)"
   ]
  },
  {
   "cell_type": "code",
   "execution_count": 52,
   "id": "02d5353c-5490-49b8-9858-8210623ba789",
   "metadata": {},
   "outputs": [],
   "source": [
    "# save as distance_matrix_demand_site_network.csv\n",
    "file_distance_network = 'distance_matrix_demand_site_network.csv'\n",
    "df_distance_pivot_network.to_csv(file_distance_network)"
   ]
  },
  {
   "cell_type": "code",
   "execution_count": 53,
   "id": "1fdfbcab",
   "metadata": {},
   "outputs": [
    {
     "data": {
      "text/plain": [
       "DescribeResult(nobs=159030, minmax=(0.4, 16771.3), mean=3644.056078098472, variance=3959168.731285362, skewness=0.9212967699052389, kurtosis=1.7169753266711005)"
      ]
     },
     "execution_count": 53,
     "metadata": {},
     "output_type": "execute_result"
    }
   ],
   "source": [
    "# check this dataset - is it correct?\n",
    "from scipy import stats\n",
    "stats.describe(df_distance_pivot_network.to_numpy().flatten())"
   ]
  },
  {
   "cell_type": "code",
   "execution_count": 54,
   "id": "7ecdba49-9d9f-4d18-84ee-53edbac393ac",
   "metadata": {},
   "outputs": [],
   "source": [
    "array_distance_Eudlidean = utilities.read_distance_matrix_as_np_array(file_distance_network)\n",
    "assert(array_distance_Eudlidean.shape == (1710, 93))"
   ]
  },
  {
   "cell_type": "code",
   "execution_count": 59,
   "id": "9cc71861",
   "metadata": {},
   "outputs": [
    {
     "name": "stdout",
     "output_type": "stream",
     "text": [
      "Cloning into 'PythonRobotics'...\n",
      "remote: Enumerating objects: 10682, done.\u001b[K\n",
      "remote: Counting objects: 100% (201/201), done.\u001b[K\n",
      "remote: Compressing objects: 100% (101/101), done.\u001b[K\n",
      "remote: Total 10682 (delta 79), reused 188 (delta 74), pack-reused 10481\u001b[K\n",
      "Receiving objects: 100% (10682/10682), 290.01 MiB | 13.25 MiB/s, done.\n",
      "Resolving deltas: 100% (6055/6055), done.\n",
      "Checking connectivity... done.\n"
     ]
    }
   ],
   "source": [
    "# install PythonRobotics library\n",
    "# !mkdir tmp_folder\n",
    "# !git clone https://github.com/AtsushiSakai/PythonRobotics.git"
   ]
  },
  {
   "cell_type": "code",
   "execution_count": 78,
   "id": "7d3968be",
   "metadata": {},
   "outputs": [
    {
     "name": "stdout",
     "output_type": "stream",
     "text": [
      "Collecting raster2xyz\n",
      "  Downloading raster2xyz-0.1.3.tar.gz (4.1 kB)\n",
      "Requirement already satisfied: numpy in /home/spacetimelab/anaconda3/envs/travel_mode_pred/lib/python3.7/site-packages (from raster2xyz) (1.20.3)\n",
      "Requirement already satisfied: pandas in /home/spacetimelab/anaconda3/envs/travel_mode_pred/lib/python3.7/site-packages (from raster2xyz) (1.2.0)\n",
      "Requirement already satisfied: GDAL in /home/spacetimelab/anaconda3/envs/travel_mode_pred/lib/python3.7/site-packages (from raster2xyz) (1.11.2)\n",
      "Requirement already satisfied: python-dateutil>=2.7.3 in /home/spacetimelab/anaconda3/envs/travel_mode_pred/lib/python3.7/site-packages (from pandas->raster2xyz) (2.8.1)\n",
      "Requirement already satisfied: pytz>=2017.3 in /home/spacetimelab/anaconda3/envs/travel_mode_pred/lib/python3.7/site-packages (from pandas->raster2xyz) (2019.3)\n",
      "Requirement already satisfied: six>=1.5 in /home/spacetimelab/anaconda3/envs/travel_mode_pred/lib/python3.7/site-packages (from python-dateutil>=2.7.3->pandas->raster2xyz) (1.16.0)\n",
      "Building wheels for collected packages: raster2xyz\n",
      "  Building wheel for raster2xyz (setup.py) ... \u001b[?25ldone\n",
      "\u001b[?25h  Created wheel for raster2xyz: filename=raster2xyz-0.1.3-py3-none-any.whl size=5964 sha256=5abe0ac6650785232dc116567a9d3737c53195536157e9974875115a47b00fa2\n",
      "  Stored in directory: /tmp/pip-ephem-wheel-cache-bbm7endx/wheels/07/4b/5d/fc666340cb735a7a79d149be0acd64dff8edec947dba612d70\n",
      "Successfully built raster2xyz\n",
      "Installing collected packages: raster2xyz\n",
      "Successfully installed raster2xyz-0.1.3\n"
     ]
    }
   ],
   "source": [
    "# !pip3 --no-cache-dir install raster2xyz"
   ]
  },
  {
   "cell_type": "markdown",
   "id": "ab8f11ae",
   "metadata": {},
   "source": [
    "### Download the DTM data"
   ]
  },
  {
   "cell_type": "code",
   "execution_count": 28,
   "id": "594871e9",
   "metadata": {},
   "outputs": [],
   "source": [
    "def raster_to_csv(input_raster, out_csv):\n",
    "    # import raster2xyz\n",
    "    from raster2xyz.raster2xyz import Raster2xyz\n",
    "    rtxyz = Raster2xyz()\n",
    "    rtxyz.translate(input_raster, out_csv)\n",
    "    df_raster = pd.read_csv(out_csv)\n",
    "    return(df_raster) "
   ]
  },
  {
   "cell_type": "code",
   "execution_count": 29,
   "id": "e61cb101",
   "metadata": {},
   "outputs": [],
   "source": [
    "%%script false --no-raise-error\n",
    "%%bash\n",
    "# extract the tif files from the zip files\n",
    "cd DTM\n",
    "for file in *.zip\n",
    "do\n",
    "tiff_file_name=$(echo $file | grep -oE 'SJ[[:alnum:]]+')_DTM_2m.tif\n",
    "unzip -p $file $tiff_file_name > $tiff_file_name\n",
    "done\n",
    "# !unzip './DTM/LIDAR-DTM-2m-2020-SJ38ne.zip'"
   ]
  },
  {
   "cell_type": "code",
   "execution_count": 30,
   "id": "764e2038",
   "metadata": {},
   "outputs": [],
   "source": [
    "%%script false --no-raise-error\n",
    "# merge the tiff files into DTM/DTM_merge.tif\n",
    "!ls DTM/*.tif\n",
    "!python gdal_merge.py -o DTM/DTM_merge.tif DTM/*.tif"
   ]
  },
  {
   "cell_type": "code",
   "execution_count": 31,
   "id": "3f46cc9e",
   "metadata": {},
   "outputs": [
    {
     "name": "stdout",
     "output_type": "stream",
     "text": [
      "pixel width: 2.0\n",
      "pixel height: 2.0\n",
      "(330000.0, 2.0, 0.0, 395000.0, 0.0, -2.0)\n"
     ]
    }
   ],
   "source": [
    "# the original resolution is 2m, x_size = 7500, y_size = 7500\n",
    "# resample to 20m?\n",
    "from osgeo import gdal\n",
    "\n",
    "# open reference file and get resolution\n",
    "input_tiff = \"DTM/DTM_merge.tif\"\n",
    "input_tiff = gdal.Open(input_tiff, 0)  # this opens the file in only reading mode\n",
    "resolution = input_tiff.GetGeoTransform()\n",
    "# see https://gdal.org/user/raster_data_model.html\n",
    "# https://gdal.org/python/osgeo.gdal-module.html#WarpOptions\n",
    "print(\"pixel width: {}\".format(resolution[1]))\n",
    "print(\"pixel height: {}\".format(-resolution[5]))\n",
    "print(resolution)\n",
    "# the X and Y resolution are 2m and 2m"
   ]
  },
  {
   "cell_type": "markdown",
   "id": "382ac51c",
   "metadata": {},
   "source": [
    "Downsampling the pixels by 10 times does not work. Instead, a three-step approach is used that downsamples the pixels by 2.5, 2, and 2 times, respectively."
   ]
  },
  {
   "cell_type": "code",
   "execution_count": 44,
   "id": "8eaa5965",
   "metadata": {},
   "outputs": [],
   "source": [
    "## The code does not work\n",
    "#  times = 10\n",
    "# x_res_new = resolution[1] * times # new resolution is 20m and 20m\n",
    "# y_res_new = -resolution[5] * times  # make sure this value is positive\n",
    "\n",
    "# # specify input and output filenames\n",
    "# inputFile = \"DTM/DTM_merge.tif\"\n",
    "# outputFile = \"DTM/DTM_merge_{}m_{}m.tif\".format(int(x_res_new), int(y_res_new))\n",
    "# # outputFile = \"DTM/DTM_merge_6m_6m.tif\"\n",
    "\n",
    "# # call gdal Warp\n",
    "# kwargs = {\"format\": \"GTiff\", \"xRes\": x_res_new, \"yRes\": y_res_new, \"resampleAlg\": 'max', 'srcNodata': 'np.nan'}\n",
    "# ds = gdal.Warp(outputFile, inputFile, **kwargs)"
   ]
  },
  {
   "cell_type": "code",
   "execution_count": 32,
   "id": "da6e814c",
   "metadata": {},
   "outputs": [],
   "source": [
    "%%script false --no-raise-error\n",
    "# A three-step approach: downsample by 2.5, 2, and 2 times\n",
    "list_times = [2.5,2,2]\n",
    "list_x_res = [resolution[1] * i for i in list_times]\n",
    "list_y_res = [-resolution[5] * i for i in list_times] \n",
    "inputFile = \"DTM/DTM_merge.tif\"\n",
    "for times, x_res, y_res in zip(list_times, list_x_res, list_y_res):\n",
    "    outputFile = \"DTM/DTM_merge_{}m_{}m.tif\".format(int(x_res), int(y_res))\n",
    "    kwargs = {\"format\": \"GTiff\", \"xRes\": x_res, \"yRes\": y_res, \"resampleAlg\": 'max'}\n",
    "    ds = gdal.Warp(outputFile, inputFile, **kwargs)\n",
    "    inputFile = outputFile"
   ]
  },
  {
   "cell_type": "code",
   "execution_count": 33,
   "id": "03977d97",
   "metadata": {},
   "outputs": [
    {
     "name": "stdout",
     "output_type": "stream",
     "text": [
      "Width: 750, Height: 750\n",
      "band count: 1\n"
     ]
    }
   ],
   "source": [
    "# check the new tiff and resample\n",
    "outputFile = \"DTM/DTM_merge_20m_20m.tif\"\n",
    "from osgeo import gdal\n",
    "raster_DTM = gdal.Open(\"DTM/DTM_merge_20m_20m.tif\")\n",
    "raster_DTM = gdal.Open(outputFile)\n",
    "# raster_DTM = gdal.Open(\"DTM/DTM_merge.tif\")\n",
    "# number of raster bands\n",
    "# print(raster_DTM.RasterCount)\n",
    "print(\"Width: {}, Height: {}\".format(raster_DTM.RasterXSize,raster_DTM.RasterYSize))\n",
    "# print(\"crs: {}\".format(raster_DTM.GetProjection()))\n",
    "print(\"band count:\", raster_DTM.RasterCount)\n"
   ]
  },
  {
   "cell_type": "code",
   "execution_count": 34,
   "id": "9a7abffd",
   "metadata": {},
   "outputs": [
    {
     "name": "stdout",
     "output_type": "stream",
     "text": [
      "<class 'osgeo.gdal.Band'>\n",
      "[-7.348299026489258, 92.55000305175781, 26.110641168043763, 18.809611938689525]\n",
      "[ NO DATA VALUE ] =  0.0\n",
      "-7.3482990264893\n",
      "92.550003051758\n",
      "{'STATISTICS_MAXIMUM': '92.550003051758', 'STATISTICS_MEAN': '26.110641168044', 'STATISTICS_MINIMUM': '-7.3482990264893', 'STATISTICS_STDDEV': '18.80961193869'}\n"
     ]
    }
   ],
   "source": [
    "# check band statistics\n",
    "# Read the raster band as separate variable\n",
    "band = raster_DTM.GetRasterBand(1)\n",
    "print(type(band))\n",
    "print(band.ComputeStatistics(0))\n",
    "print (\"[ NO DATA VALUE ] = \", band.GetNoDataValue())\n",
    "print(band.GetMinimum())\n",
    "print(band.GetMaximum())\n",
    "print(band.GetMetadata())"
   ]
  },
  {
   "cell_type": "code",
   "execution_count": 35,
   "id": "84be5cb4",
   "metadata": {},
   "outputs": [
    {
     "name": "stderr",
     "output_type": "stream",
     "text": [
      "[2022-06-21 11:48:57 - INFO] - Getting geotransform and data...\n",
      "[2022-06-21 11:48:57 - INFO] - Getting XYZ data...\n",
      "[2022-06-21 11:48:57 - INFO] - Getting geotransformed coordinates...\n",
      "[2022-06-21 11:48:57 - INFO] - Building XYZ data...\n",
      "[2022-06-21 11:48:58 - INFO] - New XYZ (csv file) created...\n"
     ]
    }
   ],
   "source": [
    "# transform the merged tiff into csv file\n",
    "# df_dtm = raster_to_csv('DTM/DTM_merge.tif', 'DTM/DTM_merge.csv')\n",
    "df_dtm = raster_to_csv('DTM/DTM_merge_20m_20m.tif', 'DTM/DTM_merge_20m_20m.csv')"
   ]
  },
  {
   "cell_type": "code",
   "execution_count": 36,
   "id": "30fdd8e1",
   "metadata": {},
   "outputs": [
    {
     "name": "stdout",
     "output_type": "stream",
     "text": [
      "Shape of df_dtm: (562500, 3)\n",
      "summary of height data\n",
      "count    562500.000000\n",
      "mean         26.110641\n",
      "std          18.809629\n",
      "min          -7.348299\n",
      "25%           8.982500\n",
      "50%          27.008874\n",
      "75%          39.312812\n",
      "max          92.550000\n",
      "Name: z, dtype: float64\n"
     ]
    }
   ],
   "source": [
    "# check df_dtm\n",
    "print(\"Shape of df_dtm:\", df_dtm.shape)\n",
    "print(\"summary of height data\")\n",
    "print(df_dtm.z.describe())"
   ]
  },
  {
   "cell_type": "markdown",
   "id": "e2115f23",
   "metadata": {},
   "source": [
    "### Test the A* distance"
   ]
  },
  {
   "cell_type": "markdown",
   "id": "9bae244f",
   "metadata": {},
   "source": [
    "The D* distance is not suitable for this project as it is very inefficient for a map with 750*750 cells."
   ]
  },
  {
   "cell_type": "code",
   "execution_count": 37,
   "id": "3ac297b9",
   "metadata": {},
   "outputs": [],
   "source": [
    "import a_star\n",
    "from importlib import reload\n",
    "reload(a_star) \n",
    "import a_star"
   ]
  },
  {
   "cell_type": "code",
   "execution_count": 60,
   "id": "94fd3b65",
   "metadata": {},
   "outputs": [
    {
     "name": "stdout",
     "output_type": "stream",
     "text": [
      "/home/spacetimelab/hf_chen/drone_station_pmp/a_star.py start!!\n",
      "min_x: -10\n",
      "min_y: -10\n",
      "max_x: 60\n",
      "max_y: 60\n",
      "x_width: 35\n",
      "y_width: 35\n",
      "Find goal\n",
      "len of route: 104.56854249492378\n"
     ]
    }
   ],
   "source": [
    "a_star.show_animation = False\n",
    "a_star.main()"
   ]
  },
  {
   "cell_type": "code",
   "execution_count": 66,
   "id": "5424034d",
   "metadata": {},
   "outputs": [
    {
     "name": "stdout",
     "output_type": "stream",
     "text": [
      "min_x: 330010.0\n",
      "min_y: 380010.0\n",
      "max_x: 344990.0\n",
      "max_y: 394990.0\n",
      "resolution: 20.0\n",
      "x_width: 750\n",
      "y_width: 750\n"
     ]
    }
   ],
   "source": [
    "# using the data from df_dtm\n",
    "# height_no_fly = df_dtm.z.quantile(.9)\n",
    "height_no_fly = df_dtm.z.quantile(.95)\n",
    "size_x = df_dtm.x.unique().size\n",
    "size_y = df_dtm.y.unique().size\n",
    "step_len_x = (df_dtm.x.max() - df_dtm.x.min()) / (size_x - 1)\n",
    "step_len_y = (df_dtm.y.max() - df_dtm.y.min()) / (size_y - 1)\n",
    "\n",
    "# x_ind and y_ind indicate the integer index of each grid relative to the origin of (0,0), respectively\n",
    "df_dtm['x_ind'] = (df_dtm.x - df_dtm.x.min()) / step_len_x\n",
    "df_dtm['y_ind'] = (df_dtm.y - df_dtm.y.min()) / step_len_y\n",
    "df_dtm['x_ind'] = df_dtm['x_ind'].astype('int64')\n",
    "df_dtm['y_ind'] = df_dtm['x_ind'].astype('int64')\n",
    "\n",
    "# set the barriers or no-fly zone\n",
    "df_dtm_over_height_no_fly = df_dtm.loc[df_dtm.z > height_no_fly]\n",
    "# # create a map\n",
    "# m = dstar.Map(size_x, size_y)\n",
    "# # set obstacle\n",
    "# m.set_obstacle([(i, j) for i, j in zip(df_dtm_over_height_no_fly.x_ind, df_dtm_over_height_no_fly.y_ind)])\n",
    "\n",
    "# using step_len_x as grid_size (step_len_x = step_len_y = 20 m)\n",
    "# assuming that robot_radius is the same as grid_size\n",
    "ox = df_dtm_over_height_no_fly.x.tolist()\n",
    "oy = df_dtm_over_height_no_fly.y.tolist()\n",
    "\n",
    "a_star_planner = a_star.AStarPlanner(ox = ox, oy = oy, \n",
    "resolution = step_len_x, rr = None, \n",
    "min_x = df_dtm.x.min(), max_x = df_dtm.x.max(), min_y = df_dtm.y.min(), max_y = df_dtm.y.max()\n",
    ")"
   ]
  },
  {
   "cell_type": "code",
   "execution_count": 37,
   "id": "b13afd2e",
   "metadata": {},
   "outputs": [
    {
     "name": "stdout",
     "output_type": "stream",
     "text": [
      "count    562500.000000\n",
      "mean        374.500000\n",
      "std         216.506351\n",
      "min           0.000000\n",
      "25%         187.000000\n",
      "50%         374.500000\n",
      "75%         562.000000\n",
      "max         749.000000\n",
      "Name: x_ind, dtype: float64\n",
      "750\n",
      "749.0\n",
      "330010.0\n"
     ]
    }
   ],
   "source": [
    "print(df_dtm['x_ind'].describe())\n",
    "print(size_x)\n",
    "print((df_dtm.y.max() - df_dtm.y.min()) / step_len_y)\n",
    "print(df_dtm.x.min())"
   ]
  },
  {
   "cell_type": "code",
   "execution_count": 107,
   "id": "7417515f",
   "metadata": {},
   "outputs": [
    {
     "name": "stdout",
     "output_type": "stream",
     "text": [
      "Number of cells 562500\n",
      "Number of obstacle:  140625\n"
     ]
    }
   ],
   "source": [
    "print(\"Number of cells\", np.array(a_star_planner.obstacle_map).size)\n",
    "print(\"Number of obstacle: \", np.array(a_star_planner.obstacle_map).sum().sum())"
   ]
  },
  {
   "cell_type": "code",
   "execution_count": 44,
   "id": "bad73e3c",
   "metadata": {},
   "outputs": [
    {
     "name": "stdout",
     "output_type": "stream",
     "text": [
      "starting: 331010.0, 381010.0\n",
      "ending: 342500, 392000\n",
      "The number of nodes on this path: 1\n",
      "first point: 342490.0, 391990.0\n",
      "route length in m:  0.0\n"
     ]
    }
   ],
   "source": [
    "# test the time of one origin-destination pair\n",
    "# note that if the start or end note is in the no-fly zone (i.e. obstacle), the computation will go on forever\n",
    "# set start and goal\n",
    "a_star.show_animation = False\n",
    "sx = df_dtm.x.min() + 1000\n",
    "sy = df_dtm.y.min() + 1000\n",
    "gx = df_dtm.x.min() + 5000\n",
    "gy = df_dtm.y.min() + 5000\n",
    "gx = 342500\n",
    "gy = 392000\n",
    "\n",
    "print(\"starting: {}, {}\".format(sx, sy))\n",
    "print(\"ending: {}, {}\".format(gx, gy))\n",
    "\n",
    "rx, ry, route_len = a_star_planner.planning(sx, sy, gx, gy)\n",
    "\n",
    "print(\"The number of nodes on this path: {}\".format(len(rx)))\n",
    "print(\"first point: {}, {}\".format(rx[0], ry[0]))\n",
    "print(\"route length in m: \", route_len)"
   ]
  },
  {
   "cell_type": "code",
   "execution_count": 45,
   "id": "9d11ce8d",
   "metadata": {},
   "outputs": [
    {
     "data": {
      "image/png": "[encoded data removed]",
      "text/plain": [
       "<Figure size 640x480 with 1 Axes>"
      ]
     },
     "metadata": {},
     "output_type": "display_data"
    }
   ],
   "source": [
    "# plot the route??\n",
    "# plt.plot(ox, oy, \".k\")\n",
    "# plt.plot(sx, sy, \"og\")\n",
    "# plt.plot(gx, gy, \"ob\")\n",
    "# plot route\n",
    "for indx, indy in zip(rx, ry):\n",
    "    plt.plot(rx, ry, \"xc\")\n",
    "\n",
    "plt.grid(True)\n",
    "plt.axis(\"equal\")\n",
    "\n",
    "# plot the demand and supply points\n",
    "plt.plot(df_demand.demand_easting.tolist(), df_demand.demand_northing.tolist(), \"og\")\n",
    "plt.plot(df_site.site_easting.tolist(), df_site.site_northing.tolist(), \"og\")\n",
    "\n",
    "plt.plot(ox, oy, \".k\", alpha = 0.1)\n",
    "\n",
    "plt.show()"
   ]
  },
  {
   "cell_type": "markdown",
   "id": "f20a25ae",
   "metadata": {},
   "source": [
    "## Compute the pairwise A* distance"
   ]
  },
  {
   "cell_type": "code",
   "execution_count": 78,
   "id": "38ac9ffe",
   "metadata": {},
   "outputs": [],
   "source": [
    "import a_star\n",
    "from importlib import reload\n",
    "reload(a_star) \n",
    "import a_star"
   ]
  },
  {
   "cell_type": "code",
   "execution_count": 79,
   "id": "da3b2b92",
   "metadata": {},
   "outputs": [
    {
     "name": "stdout",
     "output_type": "stream",
     "text": [
      "/home/spacetimelab/hf_chen/drone_station_pmp/a_star.py start!!\n",
      "min_x: -10\n",
      "min_y: -10\n",
      "max_x: 60\n",
      "max_y: 60\n",
      "x_width: 35\n",
      "y_width: 35\n",
      "len of route: 104.56854249492378\n",
      "len of route in 3D: 104.56854249492378\n"
     ]
    }
   ],
   "source": [
    "# set show_animiation as False. Test the a_star main() function\n",
    "a_star.show_animation = False\n",
    "a_star.main()"
   ]
  },
  {
   "cell_type": "code",
   "execution_count": 80,
   "id": "0c35aa8f",
   "metadata": {},
   "outputs": [
    {
     "name": "stdout",
     "output_type": "stream",
     "text": [
      "min_x: 332450.0\n",
      "min_y: 385230.0\n",
      "max_x: 340570.0\n",
      "max_y: 391470.0\n",
      "resolution: 20.0\n",
      "x_width: 407\n",
      "y_width: 313\n"
     ]
    }
   ],
   "source": [
    "# using the data from df_dtm\n",
    "# height_no_fly = df_dtm.z.quantile(.9)\n",
    "\n",
    "# using a subset of df_dtm: using the boundary of de_demand and df_site\n",
    "tolerance = 20\n",
    "max_x = np.maximum(df_demand.demand_easting.max(), df_site.site_easting.max()) + tolerance\n",
    "max_y = np.maximum(df_demand.demand_northing.max(), df_site.site_northing.max()) + tolerance\n",
    "min_x = np.minimum(df_demand.demand_easting.min(), df_site.site_easting.min()) - tolerance\n",
    "min_y = np.minimum(df_demand.demand_northing.min(), df_site.site_northing.min()) - tolerance\n",
    "\n",
    "df_dtm_subset = df_dtm.loc[(df_dtm.x >= min_x) & (df_dtm.x <= max_x) & (df_dtm.y >= min_y) & (df_dtm.y <= max_y)]\n",
    "\n",
    "# if the whole df_dtm is used, uncommon the following command\n",
    "# df_dtm_subset = df_dtm\n",
    "\n",
    "# if a cell has a elevation higher than *threshold_quantile*, it is considered as the no-fly zone\n",
    "threshold_quantile = 1\n",
    "height_no_fly = df_dtm_subset.z.quantile(threshold_quantile)\n",
    "size_x = df_dtm_subset.x.unique().size\n",
    "size_y = df_dtm_subset.y.unique().size\n",
    "step_len_x = (df_dtm_subset.x.max() - df_dtm_subset.x.min()) / (size_x - 1)\n",
    "step_len_y = (df_dtm_subset.y.max() - df_dtm_subset.y.min()) / (size_y - 1)\n",
    "\n",
    "# set the barriers or no-fly zone\n",
    "df_dtm_over_height_no_fly = df_dtm_subset.loc[df_dtm_subset.z > height_no_fly]\n",
    "\n",
    "# using step_len_x as grid_size (step_len_x = step_len_y = 20 m)\n",
    "# assuming that robot_radius is the same as grid_size\n",
    "ox = df_dtm_over_height_no_fly.x.tolist()\n",
    "oy = df_dtm_over_height_no_fly.y.tolist()\n",
    "\n",
    "a_star_planner = a_star.AStarPlanner(ox = ox, oy = oy, \n",
    "resolution = step_len_x, rr = None, \n",
    "min_x = df_dtm_subset.x.min(), max_x = df_dtm_subset.x.max(), min_y = df_dtm_subset.y.min(), max_y = df_dtm_subset.y.max(),\n",
    "list_x = df_dtm_subset.x, list_y = df_dtm_subset.y, list_z = df_dtm_subset.z\n",
    ")"
   ]
  },
  {
   "cell_type": "code",
   "execution_count": 81,
   "id": "e456a0ce",
   "metadata": {},
   "outputs": [
    {
     "data": {
      "text/plain": [
       "count    127391.000000\n",
       "mean         28.629826\n",
       "std          20.314679\n",
       "min          -7.348299\n",
       "25%           7.313250\n",
       "50%          29.698000\n",
       "75%          47.219250\n",
       "max          69.494510\n",
       "Name: z, dtype: float64"
      ]
     },
     "execution_count": 81,
     "metadata": {},
     "output_type": "execute_result"
    }
   ],
   "source": [
    "# describe the variation of df_dtm_subset\n",
    "df_dtm_subset.z.describe()"
   ]
  },
  {
   "cell_type": "code",
   "execution_count": 82,
   "id": "9d11ce8d",
   "metadata": {},
   "outputs": [
    {
     "data": {
      "image/png": "[encoded data removed]",
      "text/plain": [
       "<Figure size 640x480 with 1 Axes>"
      ]
     },
     "metadata": {},
     "output_type": "display_data"
    }
   ],
   "source": [
    "plt.grid(True)\n",
    "plt.axis(\"equal\")\n",
    "\n",
    "# plot the demand and supply points\n",
    "plt.plot(df_demand.demand_easting.tolist(), df_demand.demand_northing.tolist(), \"og\")\n",
    "plt.plot(df_site.site_easting.tolist(), df_site.site_northing.tolist(), \"ob\")\n",
    "\n",
    "plt.plot(ox, oy, \".k\", alpha = 0.3)\n",
    "\n",
    "plt.show()"
   ]
  },
  {
   "cell_type": "code",
   "execution_count": null,
   "id": "2049a45a",
   "metadata": {},
   "outputs": [],
   "source": [
    "# plot the DTM"
   ]
  },
  {
   "cell_type": "code",
   "execution_count": 41,
   "id": "6390956f",
   "metadata": {},
   "outputs": [
    {
     "name": "stdout",
     "output_type": "stream",
     "text": [
      "number of invalid demand: 0\n",
      "number of invalide supply: 0\n"
     ]
    }
   ],
   "source": [
    "# are all demand points valid?\n",
    "series_demand = df_demand.apply(lambda x: a_star_planner.verify_xy(x['demand_easting'], x['demand_northing']), axis=1)\n",
    "print(\"number of invalid demand:\", df_demand.shape[0] - series_demand.sum())\n",
    "# are all supply points valid?\n",
    "series_supply = df_site.apply(lambda x: a_star_planner.verify_xy(x['site_easting'], x['site_northing']), axis=1)\n",
    "print(\"number of invalide supply:\", df_site.shape[0] - series_supply.sum())"
   ]
  },
  {
   "cell_type": "code",
   "execution_count": 66,
   "id": "24638b69",
   "metadata": {},
   "outputs": [
    {
     "name": "stdout",
     "output_type": "stream",
     "text": [
      "Number of demand in no-fly zone 0\n",
      "Number of site in no-fly zone 0\n"
     ]
    }
   ],
   "source": [
    "# any demand or supply point in the no-fly zone?\n",
    "df_demand['in_nofly'] = df_demand.apply(lambda x: a_star_planner.is_in_obstacle_cell(x['demand_easting'], x['demand_northing']), axis=1)\n",
    "print(\"Number of demand in no-fly zone\", df_demand.in_nofly.sum())\n",
    "df_site['in_nofly'] = df_site.apply(lambda x: a_star_planner.is_in_obstacle_cell(x['site_easting'], x['site_northing']), axis=1)\n",
    "print(\"Number of site in no-fly zone\", df_site.in_nofly.sum())"
   ]
  },
  {
   "cell_type": "code",
   "execution_count": 67,
   "id": "4683abda",
   "metadata": {},
   "outputs": [],
   "source": [
    "# if a cell is in the no-fly zone and contains a demand or pontential site points, this cell should be removed from the no-fly zone\n",
    "# reset\n",
    "a_star_planner.reset(df_demand['demand_easting'].tolist(), df_demand['demand_northing'].tolist())\n",
    "a_star_planner.reset(df_site['site_easting'].tolist(), df_site['site_northing'].tolist())"
   ]
  },
  {
   "cell_type": "code",
   "execution_count": 68,
   "id": "cb0bbd53",
   "metadata": {},
   "outputs": [
    {
     "name": "stdout",
     "output_type": "stream",
     "text": [
      "Number of demand in no-fly zone 0\n",
      "Number of site in no-fly zone 0\n"
     ]
    }
   ],
   "source": [
    "# confirm: all demand and supply points should be outside no-fly zone\n",
    "df_demand['in_nofly'] = df_demand.apply(lambda x: a_star_planner.is_in_obstacle_cell(x['demand_easting'], x['demand_northing']), axis=1)\n",
    "print(\"Number of demand in no-fly zone\", df_demand.in_nofly.sum())\n",
    "assert(df_demand.in_nofly.sum() == 0)\n",
    "df_site['in_nofly'] = df_site.apply(lambda x: a_star_planner.is_in_obstacle_cell(x['site_easting'], x['site_northing']), axis=1)\n",
    "print(\"Number of site in no-fly zone\", df_site.in_nofly.sum())\n",
    "assert(df_site.in_nofly.sum() == 0)"
   ]
  },
  {
   "cell_type": "code",
   "execution_count": null,
   "id": "301ae571",
   "metadata": {},
   "outputs": [],
   "source": [
    "# !pip3 install swifter"
   ]
  },
  {
   "cell_type": "code",
   "execution_count": null,
   "id": "f330db25",
   "metadata": {},
   "outputs": [],
   "source": [
    "%%script false --no-raise-error\n",
    "from tqdm import tqdm\n",
    "# tqdm.pandas()\n",
    "import swifter\n",
    "df_distance_ss = df_distance.iloc[1:1000,]\n",
    "df_distance_ss['constrained'] = df_distance_ss.swifter.apply(lambda x: a_star_planner.planning(x['demand_easting'], x['demand_northing'],x['site_easting'], x['site_northing']), axis=1)"
   ]
  },
  {
   "cell_type": "code",
   "execution_count": 59,
   "id": "b99545ef",
   "metadata": {},
   "outputs": [
    {
     "name": "stderr",
     "output_type": "stream",
     "text": [
      "100%|██████████| 999/999 [07:16<00:00,  2.29it/s]\n",
      "/home/spacetimelab/anaconda3/envs/travel_mode_pred/lib/python3.7/site-packages/ipykernel_launcher.py:5: SettingWithCopyWarning: \n",
      "A value is trying to be set on a copy of a slice from a DataFrame.\n",
      "Try using .loc[row_indexer,col_indexer] = value instead\n",
      "\n",
      "See the caveats in the documentation: https://pandas.pydata.org/pandas-docs/stable/user_guide/indexing.html#returning-a-view-versus-a-copy\n",
      "  \"\"\"\n"
     ]
    }
   ],
   "source": [
    "from tqdm import tqdm\n",
    "tqdm.pandas()\n",
    "# df_distance_ss_2 = df_distance.iloc[1:1000,]\n",
    "df_distance['constrained'] = df_distance.progress_apply(lambda x: a_star_planner.planning(x['demand_easting'], x['demand_northing'],x['site_easting'], x['site_northing']), axis=1)"
   ]
  },
  {
   "cell_type": "code",
   "execution_count": 1,
   "id": "3afa3f99",
   "metadata": {},
   "outputs": [],
   "source": [
    "%%script false --no-raise-error\n",
    "# test dask. Not work well\n",
    "import dask.dataframe as dd\n",
    "df_distance_ss_2 = df_distance.iloc[1:1000,]\n",
    "ddf = dd.from_pandas(df_distance_ss_2, npartitions=13) # find your own number of partitions\n",
    "ddf_update = ddf.apply(lambda x: a_star_planner.planning(x['demand_easting'], x['demand_northing'],x['site_easting'], x['site_northing']), axis=1).compute()\n",
    "# ddf_update = ddf.apply(your_func, axis=1).compute()"
   ]
  },
  {
   "cell_type": "code",
   "execution_count": null,
   "id": "6efcf933",
   "metadata": {},
   "outputs": [],
   "source": [
    "# !pip3 install mapply"
   ]
  },
  {
   "cell_type": "code",
   "execution_count": null,
   "id": "271fae86",
   "metadata": {},
   "outputs": [],
   "source": [
    "# test mapplly\n",
    "import mapply\n",
    "# use all cores\n",
    "mapply.init(n_workers=-1)\n",
    "# df_distance_ss_2 = df_distance.iloc[1:1000,]\n",
    "df_distance['constrained'] = df_distance.mapply(lambda x: a_star_planner.planning(x['demand_easting'], x['demand_northing'],x['site_easting'], x['site_northing']), axis=1)"
   ]
  },
  {
   "cell_type": "code",
   "execution_count": 84,
   "id": "9cab7c20",
   "metadata": {},
   "outputs": [
    {
     "data": {
      "application/vnd.jupyter.widget-view+json": {
       "model_id": "616839a5ce1743fd96b7ce61ab7f3ceb",
       "version_major": 2,
       "version_minor": 0
      },
      "text/plain": [
       "  0%|          | 0/9 [00:00<?, ?it/s]"
      ]
     },
     "metadata": {},
     "output_type": "display_data"
    },
    {
     "name": "stdout",
     "output_type": "stream",
     "text": [
      "4\n",
      "174\n",
      "174\n",
      "3749.9494936611645\n",
      "3753.193444575922\n"
     ]
    },
    {
     "name": "stderr",
     "output_type": "stream",
     "text": [
      "/home/spacetimelab/anaconda3/envs/travel_mode_pred/lib/python3.7/site-packages/ipykernel_launcher.py:6: SettingWithCopyWarning: \n",
      "A value is trying to be set on a copy of a slice from a DataFrame.\n",
      "Try using .loc[row_indexer,col_indexer] = value instead\n",
      "\n",
      "See the caveats in the documentation: https://pandas.pydata.org/pandas-docs/stable/user_guide/indexing.html#returning-a-view-versus-a-copy\n",
      "  \n"
     ]
    }
   ],
   "source": [
    "# test mapplly\n",
    "import mapply\n",
    "# use all cores\n",
    "mapply.init(n_workers=-1)\n",
    "df_distance_ss_2 = df_distance.iloc[1:1000,]\n",
    "df_distance_ss_2['constrained'] = df_distance_ss_2.mapply(lambda x: a_star_planner.planning(x['demand_easting'], x['demand_northing'],x['site_easting'], x['site_northing']), axis=1)\n",
    "\n",
    "print(len(df_distance_ss_2['constrained'].iloc[0]))\n",
    "print(len(df_distance_ss_2['constrained'].iloc[0][0]))\n",
    "print(len(df_distance_ss_2['constrained'].iloc[0][1]))\n",
    "print(df_distance_ss_2['constrained'].iloc[0][2])\n",
    "print(df_distance_ss_2['constrained'].iloc[0][3])"
   ]
  },
  {
   "cell_type": "code",
   "execution_count": 93,
   "id": "bda3bec8",
   "metadata": {},
   "outputs": [
    {
     "data": {
      "text/plain": [
       "Index(['site_id', 'site_long', 'site_lat', 'site_easting', 'site_northing',\n",
       "       'demand_id', 'demand_long', 'demand_lat', 'demand_easting',\n",
       "       'demand_northing', 'constrained'],\n",
       "      dtype='object')"
      ]
     },
     "execution_count": 93,
     "metadata": {},
     "output_type": "execute_result"
    }
   ],
   "source": [
    "df_distance_ss_2.columns"
   ]
  },
  {
   "cell_type": "code",
   "execution_count": 94,
   "id": "9ef88659",
   "metadata": {},
   "outputs": [
    {
     "data": {
      "application/vnd.jupyter.widget-view+json": {
       "model_id": "f95e697a2bf84d2bbeabc8d109033c00",
       "version_major": 2,
       "version_minor": 0
      },
      "text/plain": [
       "  0%|          | 0/168 [00:00<?, ?it/s]"
      ]
     },
     "metadata": {},
     "output_type": "display_data"
    },
    {
     "ename": "TypeError",
     "evalue": "'int' object is not subscriptable",
     "output_type": "error",
     "traceback": [
      "\u001b[0;31m---------------------------------------------------------------------------\u001b[0m",
      "\u001b[0;31mTypeError\u001b[0m                                 Traceback (most recent call last)",
      "\u001b[0;32m<ipython-input-94-4fdc8c481f38>\u001b[0m in \u001b[0;36m<module>\u001b[0;34m\u001b[0m\n\u001b[1;32m      6\u001b[0m \u001b[0mseries_distance_constrained\u001b[0m \u001b[0;34m=\u001b[0m \u001b[0mdf_distance\u001b[0m\u001b[0;34m.\u001b[0m\u001b[0mmapply\u001b[0m\u001b[0;34m(\u001b[0m\u001b[0;32mlambda\u001b[0m \u001b[0mx\u001b[0m\u001b[0;34m:\u001b[0m \u001b[0ma_star_planner\u001b[0m\u001b[0;34m.\u001b[0m\u001b[0mplanning\u001b[0m\u001b[0;34m(\u001b[0m\u001b[0mx\u001b[0m\u001b[0;34m[\u001b[0m\u001b[0;34m'demand_easting'\u001b[0m\u001b[0;34m]\u001b[0m\u001b[0;34m,\u001b[0m \u001b[0mx\u001b[0m\u001b[0;34m[\u001b[0m\u001b[0;34m'demand_northing'\u001b[0m\u001b[0;34m]\u001b[0m\u001b[0;34m,\u001b[0m\u001b[0mx\u001b[0m\u001b[0;34m[\u001b[0m\u001b[0;34m'site_easting'\u001b[0m\u001b[0;34m]\u001b[0m\u001b[0;34m,\u001b[0m \u001b[0mx\u001b[0m\u001b[0;34m[\u001b[0m\u001b[0;34m'site_northing'\u001b[0m\u001b[0;34m]\u001b[0m\u001b[0;34m)\u001b[0m\u001b[0;34m,\u001b[0m \u001b[0maxis\u001b[0m\u001b[0;34m=\u001b[0m\u001b[0;36m1\u001b[0m\u001b[0;34m)\u001b[0m\u001b[0;34m\u001b[0m\u001b[0;34m\u001b[0m\u001b[0m\n\u001b[1;32m      7\u001b[0m \u001b[0;34m\u001b[0m\u001b[0m\n\u001b[0;32m----> 8\u001b[0;31m \u001b[0mratio_2D_3D_distance\u001b[0m \u001b[0;34m=\u001b[0m \u001b[0mpd\u001b[0m\u001b[0;34m.\u001b[0m\u001b[0mSeries\u001b[0m\u001b[0;34m(\u001b[0m\u001b[0;34m[\u001b[0m\u001b[0mx\u001b[0m\u001b[0;34m[\u001b[0m\u001b[0;36m3\u001b[0m\u001b[0;34m]\u001b[0m\u001b[0;34m/\u001b[0m\u001b[0mx\u001b[0m\u001b[0;34m[\u001b[0m\u001b[0;36m2\u001b[0m\u001b[0;34m]\u001b[0m \u001b[0;32mfor\u001b[0m \u001b[0mx\u001b[0m \u001b[0;32min\u001b[0m \u001b[0mseries_distance_constrained\u001b[0m\u001b[0;34m]\u001b[0m\u001b[0;34m)\u001b[0m\u001b[0;34m\u001b[0m\u001b[0;34m\u001b[0m\u001b[0m\n\u001b[0m\u001b[1;32m      9\u001b[0m \u001b[0mratio_2D_3D_distance\u001b[0m\u001b[0;34m.\u001b[0m\u001b[0mdescribe\u001b[0m\u001b[0;34m(\u001b[0m\u001b[0;34m)\u001b[0m\u001b[0;34m\u001b[0m\u001b[0;34m\u001b[0m\u001b[0m\n",
      "\u001b[0;32m<ipython-input-94-4fdc8c481f38>\u001b[0m in \u001b[0;36m<listcomp>\u001b[0;34m(.0)\u001b[0m\n\u001b[1;32m      6\u001b[0m \u001b[0mseries_distance_constrained\u001b[0m \u001b[0;34m=\u001b[0m \u001b[0mdf_distance\u001b[0m\u001b[0;34m.\u001b[0m\u001b[0mmapply\u001b[0m\u001b[0;34m(\u001b[0m\u001b[0;32mlambda\u001b[0m \u001b[0mx\u001b[0m\u001b[0;34m:\u001b[0m \u001b[0ma_star_planner\u001b[0m\u001b[0;34m.\u001b[0m\u001b[0mplanning\u001b[0m\u001b[0;34m(\u001b[0m\u001b[0mx\u001b[0m\u001b[0;34m[\u001b[0m\u001b[0;34m'demand_easting'\u001b[0m\u001b[0;34m]\u001b[0m\u001b[0;34m,\u001b[0m \u001b[0mx\u001b[0m\u001b[0;34m[\u001b[0m\u001b[0;34m'demand_northing'\u001b[0m\u001b[0;34m]\u001b[0m\u001b[0;34m,\u001b[0m\u001b[0mx\u001b[0m\u001b[0;34m[\u001b[0m\u001b[0;34m'site_easting'\u001b[0m\u001b[0;34m]\u001b[0m\u001b[0;34m,\u001b[0m \u001b[0mx\u001b[0m\u001b[0;34m[\u001b[0m\u001b[0;34m'site_northing'\u001b[0m\u001b[0;34m]\u001b[0m\u001b[0;34m)\u001b[0m\u001b[0;34m,\u001b[0m \u001b[0maxis\u001b[0m\u001b[0;34m=\u001b[0m\u001b[0;36m1\u001b[0m\u001b[0;34m)\u001b[0m\u001b[0;34m\u001b[0m\u001b[0;34m\u001b[0m\u001b[0m\n\u001b[1;32m      7\u001b[0m \u001b[0;34m\u001b[0m\u001b[0m\n\u001b[0;32m----> 8\u001b[0;31m \u001b[0mratio_2D_3D_distance\u001b[0m \u001b[0;34m=\u001b[0m \u001b[0mpd\u001b[0m\u001b[0;34m.\u001b[0m\u001b[0mSeries\u001b[0m\u001b[0;34m(\u001b[0m\u001b[0;34m[\u001b[0m\u001b[0mx\u001b[0m\u001b[0;34m[\u001b[0m\u001b[0;36m3\u001b[0m\u001b[0;34m]\u001b[0m\u001b[0;34m/\u001b[0m\u001b[0mx\u001b[0m\u001b[0;34m[\u001b[0m\u001b[0;36m2\u001b[0m\u001b[0;34m]\u001b[0m \u001b[0;32mfor\u001b[0m \u001b[0mx\u001b[0m \u001b[0;32min\u001b[0m \u001b[0mseries_distance_constrained\u001b[0m\u001b[0;34m]\u001b[0m\u001b[0;34m)\u001b[0m\u001b[0;34m\u001b[0m\u001b[0;34m\u001b[0m\u001b[0m\n\u001b[0m\u001b[1;32m      9\u001b[0m \u001b[0mratio_2D_3D_distance\u001b[0m\u001b[0;34m.\u001b[0m\u001b[0mdescribe\u001b[0m\u001b[0;34m(\u001b[0m\u001b[0;34m)\u001b[0m\u001b[0;34m\u001b[0m\u001b[0;34m\u001b[0m\u001b[0m\n",
      "\u001b[0;31mTypeError\u001b[0m: 'int' object is not subscriptable"
     ]
    }
   ],
   "source": [
    "# test mapplly\n",
    "import mapply\n",
    "# use all cores\n",
    "mapply.init(n_workers=-1)\n",
    "# df_distance_ss_2 = df_distance.iloc[1:1000,]\n",
    "series_distance_constrained = df_distance.mapply(lambda x: a_star_planner.planning(x['demand_easting'], x['demand_northing'],x['site_easting'], x['site_northing']), axis=1)"
   ]
  },
  {
   "cell_type": "code",
   "execution_count": 113,
   "id": "c9538de6",
   "metadata": {},
   "outputs": [
    {
     "name": "stdout",
     "output_type": "stream",
     "text": [
      "Columns in this dataframe:  168\n",
      "Number of NAN values in each column\n",
      "0      158083\n",
      "1      158083\n",
      "2      158083\n",
      "3      158083\n",
      "4      158083\n",
      "        ...  \n",
      "163    158084\n",
      "164    158084\n",
      "165    158084\n",
      "166    158084\n",
      "167    158084\n",
      "Length: 168, dtype: int64\n"
     ]
    }
   ],
   "source": [
    "# There are 168 columns in the series_distance_constrained, corresponding to 168 chunks\n",
    "print(\"Columns in this dataframe: \", series_distance_constrained.shape[1])\n",
    "# each column has a 1/168 proportion of non-na values\n",
    "print(\"Number of NAN values in each column\")\n",
    "print(series_distance_constrained.isna().sum())"
   ]
  },
  {
   "cell_type": "code",
   "execution_count": 115,
   "id": "c88c2acd",
   "metadata": {},
   "outputs": [
    {
     "name": "stderr",
     "output_type": "stream",
     "text": [
      "/home/spacetimelab/anaconda3/envs/travel_mode_pred/lib/python3.7/site-packages/ipykernel_launcher.py:5: RuntimeWarning: invalid value encountered in double_scalars\n",
      "  \"\"\"\n"
     ]
    },
    {
     "data": {
      "text/plain": [
       "count    159027.000000\n",
       "mean          1.001028\n",
       "std           0.001159\n",
       "min           1.000000\n",
       "25%           1.000456\n",
       "50%           1.000716\n",
       "75%           1.001205\n",
       "max           1.116436\n",
       "dtype: float64"
      ]
     },
     "execution_count": 115,
     "metadata": {},
     "output_type": "execute_result"
    }
   ],
   "source": [
    "# to get the non-na value in each row\n",
    "series_df_3D_distance = series_distance_constrained.fillna(method='bfill', axis=1).iloc[:, 0]\n",
    "\n",
    "# compute the ratio of 2D and 3D distance\n",
    "ratio_2D_3D_distance = pd.Series([x[3]/x[2] for x in series_df_3D_distance])\n",
    "ratio_2D_3D_distance.describe()"
   ]
  },
  {
   "cell_type": "code",
   "execution_count": 116,
   "id": "fd68c971",
   "metadata": {},
   "outputs": [],
   "source": [
    "# assign the values of 3D distance to df_distance\n",
    "list_3D_distance = [x[3] for x in series_df_3D_distance]"
   ]
  },
  {
   "cell_type": "code",
   "execution_count": null,
   "id": "ead929d8",
   "metadata": {},
   "outputs": [],
   "source": [
    "series_distance_constrained.to_csv('df_distance_3D.csv')"
   ]
  },
  {
   "cell_type": "code",
   "execution_count": 92,
   "id": "bfcca073",
   "metadata": {},
   "outputs": [
    {
     "data": {
      "text/plain": [
       "Index(['site_id', 'site_long', 'site_lat', 'site_easting', 'site_northing',\n",
       "       'demand_id', 'demand_long', 'demand_lat', 'demand_easting',\n",
       "       'demand_northing'],\n",
       "      dtype='object')"
      ]
     },
     "execution_count": 92,
     "metadata": {},
     "output_type": "execute_result"
    }
   ],
   "source": [
    "df_distance.columns"
   ]
  },
  {
   "cell_type": "code",
   "execution_count": 86,
   "id": "8b2f4958",
   "metadata": {},
   "outputs": [
    {
     "data": {
      "text/plain": [
       "count    999.000000\n",
       "mean       1.000740\n",
       "std        0.000617\n",
       "min        1.000089\n",
       "25%        1.000327\n",
       "50%        1.000594\n",
       "75%        1.000874\n",
       "max        1.004734\n",
       "dtype: float64"
      ]
     },
     "execution_count": 86,
     "metadata": {},
     "output_type": "execute_result"
    }
   ],
   "source": [
    "\n",
    "# not much difference"
   ]
  },
  {
   "cell_type": "code",
   "execution_count": null,
   "id": "99bdc796",
   "metadata": {},
   "outputs": [],
   "source": [
    "df_distance.to_csv('df_distance.csv')"
   ]
  },
  {
   "cell_type": "code",
   "execution_count": null,
   "id": "fd6bdac3",
   "metadata": {},
   "outputs": [],
   "source": [
    "df_distance['constrained_3D'] = df_distance.apply(lambda x: x['constrained'].iloc[0][3])\n",
    "df_distance[['constrained_3D']].to_csv('df_distance_3D.csv')\n",
    "df_distance.to_csv('df_distance.csv')"
   ]
  },
  {
   "cell_type": "code",
   "execution_count": null,
   "id": "90400ea4",
   "metadata": {},
   "outputs": [],
   "source": [
    "df_distance['constrained'] = df_distance.progress_apply(lambda x: a_star_planner.planning(x['demand_easting'], x['demand_northing'],x['site_easting'], x['site_northing']), axis=1)"
   ]
  },
  {
   "cell_type": "markdown",
   "id": "ab8f11ae",
   "metadata": {},
   "source": [
    "## Download the DTM data (Not run the code in this part)"
   ]
  },
  {
   "cell_type": "code",
   "execution_count": 144,
   "id": "5c2aa95c",
   "metadata": {},
   "outputs": [
    {
     "name": "stdout",
     "output_type": "stream",
     "text": [
      "1\n",
      "Width: 7500, Height: 7500\n",
      "crs: PROJCS[\"OSGB 1936 / British National Grid\",GEOGCS[\"OSGB 1936\",DATUM[\"OSGB_1936\",SPHEROID[\"Airy 1830\",6377563.396,299.3249646000044,AUTHORITY[\"EPSG\",\"7001\"]],AUTHORITY[\"EPSG\",\"6277\"]],PRIMEM[\"Greenwich\",0],UNIT[\"degree\",0.0174532925199433],AUTHORITY[\"EPSG\",\"4277\"]],PROJECTION[\"Transverse_Mercator\"],PARAMETER[\"latitude_of_origin\",49],PARAMETER[\"central_meridian\",-2],PARAMETER[\"scale_factor\",0.9996012717],PARAMETER[\"false_easting\",400000],PARAMETER[\"false_northing\",-100000],UNIT[\"metre\",1,AUTHORITY[\"EPSG\",\"9001\"]],AUTHORITY[\"EPSG\",\"27700\"]]\n"
     ]
    }
   ],
   "source": [
    "# check the new tiff and resample\n",
    "from osgeo import gdal\n",
    "raster_DTM = gdal.Open(\"DTM/DTM_merge.tif\")\n",
    "# number of raster bands\n",
    "print(raster_DTM.RasterCount)\n",
    "print(\"Width: {}, Height: {}\".format(raster_DTM.RasterXSize,raster_DTM.RasterYSize))\n",
    "print(\"crs: {}\".format(raster_DTM.GetProjection()))"
   ]
  },
  {
   "cell_type": "code",
   "execution_count": 112,
   "id": "9721878d",
   "metadata": {},
   "outputs": [
    {
     "ename": "KeyboardInterrupt",
     "evalue": "",
     "output_type": "error",
     "traceback": [
      "\u001b[0;31m---------------------------------------------------------------------------\u001b[0m",
      "\u001b[0;31mKeyboardInterrupt\u001b[0m                         Traceback (most recent call last)",
      "\u001b[0;32m<ipython-input-112-84828242b0e9>\u001b[0m in \u001b[0;36m<module>\u001b[0;34m\u001b[0m\n\u001b[1;32m      2\u001b[0m \u001b[0mfig\u001b[0m\u001b[0;34m,\u001b[0m \u001b[0max\u001b[0m \u001b[0;34m=\u001b[0m \u001b[0mplt\u001b[0m\u001b[0;34m.\u001b[0m\u001b[0msubplots\u001b[0m\u001b[0;34m(\u001b[0m\u001b[0mfigsize\u001b[0m\u001b[0;34m=\u001b[0m\u001b[0;34m(\u001b[0m\u001b[0;36m6\u001b[0m\u001b[0;34m,\u001b[0m \u001b[0;36m6\u001b[0m\u001b[0;34m)\u001b[0m\u001b[0;34m)\u001b[0m\u001b[0;34m\u001b[0m\u001b[0;34m\u001b[0m\u001b[0m\n\u001b[1;32m      3\u001b[0m \u001b[0mgdf_liverpool_hub_four\u001b[0m\u001b[0;34m.\u001b[0m\u001b[0mplot\u001b[0m\u001b[0;34m(\u001b[0m\u001b[0max\u001b[0m\u001b[0;34m=\u001b[0m\u001b[0max\u001b[0m\u001b[0;34m,\u001b[0m \u001b[0mcolor\u001b[0m\u001b[0;34m=\u001b[0m\u001b[0;34m'white'\u001b[0m\u001b[0;34m,\u001b[0m \u001b[0medgecolor\u001b[0m\u001b[0;34m=\u001b[0m\u001b[0;34m'black'\u001b[0m\u001b[0;34m)\u001b[0m\u001b[0;34m\u001b[0m\u001b[0;34m\u001b[0m\u001b[0m\n\u001b[0;32m----> 4\u001b[0;31m \u001b[0mgdf_dtm_1\u001b[0m\u001b[0;34m.\u001b[0m\u001b[0mplot\u001b[0m\u001b[0;34m(\u001b[0m\u001b[0max\u001b[0m\u001b[0;34m=\u001b[0m\u001b[0max\u001b[0m\u001b[0;34m)\u001b[0m\u001b[0;34m\u001b[0m\u001b[0;34m\u001b[0m\u001b[0m\n\u001b[0m\u001b[1;32m      5\u001b[0m \u001b[0mplt\u001b[0m\u001b[0;34m.\u001b[0m\u001b[0mshow\u001b[0m\u001b[0;34m(\u001b[0m\u001b[0;34m)\u001b[0m\u001b[0;34m\u001b[0m\u001b[0;34m\u001b[0m\u001b[0m\n",
      "\u001b[0;32m~/anaconda3/envs/travel_mode_pred/lib/python3.7/site-packages/geopandas/plotting.py\u001b[0m in \u001b[0;36m__call__\u001b[0;34m(self, *args, **kwargs)\u001b[0m\n\u001b[1;32m    948\u001b[0m         \u001b[0mkind\u001b[0m \u001b[0;34m=\u001b[0m \u001b[0mkwargs\u001b[0m\u001b[0;34m.\u001b[0m\u001b[0mpop\u001b[0m\u001b[0;34m(\u001b[0m\u001b[0;34m\"kind\"\u001b[0m\u001b[0;34m,\u001b[0m \u001b[0;34m\"geo\"\u001b[0m\u001b[0;34m)\u001b[0m\u001b[0;34m\u001b[0m\u001b[0;34m\u001b[0m\u001b[0m\n\u001b[1;32m    949\u001b[0m         \u001b[0;32mif\u001b[0m \u001b[0mkind\u001b[0m \u001b[0;34m==\u001b[0m \u001b[0;34m\"geo\"\u001b[0m\u001b[0;34m:\u001b[0m\u001b[0;34m\u001b[0m\u001b[0;34m\u001b[0m\u001b[0m\n\u001b[0;32m--> 950\u001b[0;31m             \u001b[0;32mreturn\u001b[0m \u001b[0mplot_dataframe\u001b[0m\u001b[0;34m(\u001b[0m\u001b[0mdata\u001b[0m\u001b[0;34m,\u001b[0m \u001b[0;34m*\u001b[0m\u001b[0margs\u001b[0m\u001b[0;34m,\u001b[0m \u001b[0;34m**\u001b[0m\u001b[0mkwargs\u001b[0m\u001b[0;34m)\u001b[0m\u001b[0;34m\u001b[0m\u001b[0;34m\u001b[0m\u001b[0m\n\u001b[0m\u001b[1;32m    951\u001b[0m         \u001b[0;32mif\u001b[0m \u001b[0mkind\u001b[0m \u001b[0;32min\u001b[0m \u001b[0mself\u001b[0m\u001b[0;34m.\u001b[0m\u001b[0m_pandas_kinds\u001b[0m\u001b[0;34m:\u001b[0m\u001b[0;34m\u001b[0m\u001b[0;34m\u001b[0m\u001b[0m\n\u001b[1;32m    952\u001b[0m             \u001b[0;31m# Access pandas plots\u001b[0m\u001b[0;34m\u001b[0m\u001b[0;34m\u001b[0m\u001b[0;34m\u001b[0m\u001b[0m\n",
      "\u001b[0;32m~/anaconda3/envs/travel_mode_pred/lib/python3.7/site-packages/geopandas/plotting.py\u001b[0m in \u001b[0;36mplot_dataframe\u001b[0;34m(df, column, cmap, color, ax, cax, categorical, legend, scheme, k, vmin, vmax, markersize, figsize, legend_kwds, categories, classification_kwds, missing_kwds, aspect, **style_kwds)\u001b[0m\n\u001b[1;32m    698\u001b[0m             \u001b[0mmarkersize\u001b[0m\u001b[0;34m=\u001b[0m\u001b[0mmarkersize\u001b[0m\u001b[0;34m,\u001b[0m\u001b[0;34m\u001b[0m\u001b[0;34m\u001b[0m\u001b[0m\n\u001b[1;32m    699\u001b[0m             \u001b[0maspect\u001b[0m\u001b[0;34m=\u001b[0m\u001b[0maspect\u001b[0m\u001b[0;34m,\u001b[0m\u001b[0;34m\u001b[0m\u001b[0;34m\u001b[0m\u001b[0m\n\u001b[0;32m--> 700\u001b[0;31m             \u001b[0;34m**\u001b[0m\u001b[0mstyle_kwds\u001b[0m\u001b[0;34m,\u001b[0m\u001b[0;34m\u001b[0m\u001b[0;34m\u001b[0m\u001b[0m\n\u001b[0m\u001b[1;32m    701\u001b[0m         )\n\u001b[1;32m    702\u001b[0m \u001b[0;34m\u001b[0m\u001b[0m\n",
      "\u001b[0;32m~/anaconda3/envs/travel_mode_pred/lib/python3.7/site-packages/geopandas/plotting.py\u001b[0m in \u001b[0;36mplot_series\u001b[0;34m(s, cmap, color, ax, figsize, aspect, **style_kwds)\u001b[0m\n\u001b[1;32m    465\u001b[0m         \u001b[0mvalues_\u001b[0m \u001b[0;34m=\u001b[0m \u001b[0mvalues\u001b[0m\u001b[0;34m[\u001b[0m\u001b[0mpoint_idx\u001b[0m\u001b[0;34m]\u001b[0m \u001b[0;32mif\u001b[0m \u001b[0mcmap\u001b[0m \u001b[0;32melse\u001b[0m \u001b[0;32mNone\u001b[0m\u001b[0;34m\u001b[0m\u001b[0;34m\u001b[0m\u001b[0m\n\u001b[1;32m    466\u001b[0m         _plot_point_collection(\n\u001b[0;32m--> 467\u001b[0;31m             \u001b[0max\u001b[0m\u001b[0;34m,\u001b[0m \u001b[0mpoints\u001b[0m\u001b[0;34m,\u001b[0m \u001b[0mvalues_\u001b[0m\u001b[0;34m,\u001b[0m \u001b[0mcolor\u001b[0m\u001b[0;34m=\u001b[0m\u001b[0mcolor\u001b[0m\u001b[0;34m,\u001b[0m \u001b[0mcmap\u001b[0m\u001b[0;34m=\u001b[0m\u001b[0mcmap\u001b[0m\u001b[0;34m,\u001b[0m \u001b[0;34m**\u001b[0m\u001b[0mstyle_kwds\u001b[0m\u001b[0;34m\u001b[0m\u001b[0;34m\u001b[0m\u001b[0m\n\u001b[0m\u001b[1;32m    468\u001b[0m         )\n\u001b[1;32m    469\u001b[0m \u001b[0;34m\u001b[0m\u001b[0m\n",
      "\u001b[0;32m~/anaconda3/envs/travel_mode_pred/lib/python3.7/site-packages/geopandas/plotting.py\u001b[0m in \u001b[0;36m_plot_point_collection\u001b[0;34m(ax, geoms, values, color, cmap, vmin, vmax, marker, markersize, **kwargs)\u001b[0m\n\u001b[1;32m    287\u001b[0m     \u001b[0;31m# values are expanded below as kwargs[\"c\"]\u001b[0m\u001b[0;34m\u001b[0m\u001b[0;34m\u001b[0m\u001b[0;34m\u001b[0m\u001b[0m\n\u001b[1;32m    288\u001b[0m \u001b[0;34m\u001b[0m\u001b[0m\n\u001b[0;32m--> 289\u001b[0;31m     \u001b[0mx\u001b[0m \u001b[0;34m=\u001b[0m \u001b[0;34m[\u001b[0m\u001b[0mp\u001b[0m\u001b[0;34m.\u001b[0m\u001b[0mx\u001b[0m \u001b[0;32mif\u001b[0m \u001b[0;32mnot\u001b[0m \u001b[0mp\u001b[0m\u001b[0;34m.\u001b[0m\u001b[0mis_empty\u001b[0m \u001b[0;32melse\u001b[0m \u001b[0;32mNone\u001b[0m \u001b[0;32mfor\u001b[0m \u001b[0mp\u001b[0m \u001b[0;32min\u001b[0m \u001b[0mgeoms\u001b[0m\u001b[0;34m]\u001b[0m\u001b[0;34m\u001b[0m\u001b[0;34m\u001b[0m\u001b[0m\n\u001b[0m\u001b[1;32m    290\u001b[0m     \u001b[0my\u001b[0m \u001b[0;34m=\u001b[0m \u001b[0;34m[\u001b[0m\u001b[0mp\u001b[0m\u001b[0;34m.\u001b[0m\u001b[0my\u001b[0m \u001b[0;32mif\u001b[0m \u001b[0;32mnot\u001b[0m \u001b[0mp\u001b[0m\u001b[0;34m.\u001b[0m\u001b[0mis_empty\u001b[0m \u001b[0;32melse\u001b[0m \u001b[0;32mNone\u001b[0m \u001b[0;32mfor\u001b[0m \u001b[0mp\u001b[0m \u001b[0;32min\u001b[0m \u001b[0mgeoms\u001b[0m\u001b[0;34m]\u001b[0m\u001b[0;34m\u001b[0m\u001b[0;34m\u001b[0m\u001b[0m\n\u001b[1;32m    291\u001b[0m \u001b[0;34m\u001b[0m\u001b[0m\n",
      "\u001b[0;32m~/anaconda3/envs/travel_mode_pred/lib/python3.7/site-packages/geopandas/plotting.py\u001b[0m in \u001b[0;36m<listcomp>\u001b[0;34m(.0)\u001b[0m\n\u001b[1;32m    287\u001b[0m     \u001b[0;31m# values are expanded below as kwargs[\"c\"]\u001b[0m\u001b[0;34m\u001b[0m\u001b[0;34m\u001b[0m\u001b[0;34m\u001b[0m\u001b[0m\n\u001b[1;32m    288\u001b[0m \u001b[0;34m\u001b[0m\u001b[0m\n\u001b[0;32m--> 289\u001b[0;31m     \u001b[0mx\u001b[0m \u001b[0;34m=\u001b[0m \u001b[0;34m[\u001b[0m\u001b[0mp\u001b[0m\u001b[0;34m.\u001b[0m\u001b[0mx\u001b[0m \u001b[0;32mif\u001b[0m \u001b[0;32mnot\u001b[0m \u001b[0mp\u001b[0m\u001b[0;34m.\u001b[0m\u001b[0mis_empty\u001b[0m \u001b[0;32melse\u001b[0m \u001b[0;32mNone\u001b[0m \u001b[0;32mfor\u001b[0m \u001b[0mp\u001b[0m \u001b[0;32min\u001b[0m \u001b[0mgeoms\u001b[0m\u001b[0;34m]\u001b[0m\u001b[0;34m\u001b[0m\u001b[0;34m\u001b[0m\u001b[0m\n\u001b[0m\u001b[1;32m    290\u001b[0m     \u001b[0my\u001b[0m \u001b[0;34m=\u001b[0m \u001b[0;34m[\u001b[0m\u001b[0mp\u001b[0m\u001b[0;34m.\u001b[0m\u001b[0my\u001b[0m \u001b[0;32mif\u001b[0m \u001b[0;32mnot\u001b[0m \u001b[0mp\u001b[0m\u001b[0;34m.\u001b[0m\u001b[0mis_empty\u001b[0m \u001b[0;32melse\u001b[0m \u001b[0;32mNone\u001b[0m \u001b[0;32mfor\u001b[0m \u001b[0mp\u001b[0m \u001b[0;32min\u001b[0m \u001b[0mgeoms\u001b[0m\u001b[0;34m]\u001b[0m\u001b[0;34m\u001b[0m\u001b[0;34m\u001b[0m\u001b[0m\n\u001b[1;32m    291\u001b[0m \u001b[0;34m\u001b[0m\u001b[0m\n",
      "\u001b[0;32m~/anaconda3/envs/travel_mode_pred/lib/python3.7/site-packages/shapely/geometry/point.py\u001b[0m in \u001b[0;36mx\u001b[0;34m(self)\u001b[0m\n\u001b[1;32m     64\u001b[0m     \u001b[0;32mdef\u001b[0m \u001b[0mx\u001b[0m\u001b[0;34m(\u001b[0m\u001b[0mself\u001b[0m\u001b[0;34m)\u001b[0m\u001b[0;34m:\u001b[0m\u001b[0;34m\u001b[0m\u001b[0;34m\u001b[0m\u001b[0m\n\u001b[1;32m     65\u001b[0m         \u001b[0;34m\"\"\"Return x coordinate.\"\"\"\u001b[0m\u001b[0;34m\u001b[0m\u001b[0;34m\u001b[0m\u001b[0m\n\u001b[0;32m---> 66\u001b[0;31m         \u001b[0;32mreturn\u001b[0m \u001b[0mself\u001b[0m\u001b[0;34m.\u001b[0m\u001b[0mcoords\u001b[0m\u001b[0;34m[\u001b[0m\u001b[0;36m0\u001b[0m\u001b[0;34m]\u001b[0m\u001b[0;34m[\u001b[0m\u001b[0;36m0\u001b[0m\u001b[0;34m]\u001b[0m\u001b[0;34m\u001b[0m\u001b[0;34m\u001b[0m\u001b[0m\n\u001b[0m\u001b[1;32m     67\u001b[0m \u001b[0;34m\u001b[0m\u001b[0m\n\u001b[1;32m     68\u001b[0m     \u001b[0;34m@\u001b[0m\u001b[0mproperty\u001b[0m\u001b[0;34m\u001b[0m\u001b[0;34m\u001b[0m\u001b[0m\n",
      "\u001b[0;32m~/anaconda3/envs/travel_mode_pred/lib/python3.7/site-packages/shapely/coords.py\u001b[0m in \u001b[0;36m__getitem__\u001b[0;34m(self, key)\u001b[0m\n\u001b[1;32m     75\u001b[0m \u001b[0;34m\u001b[0m\u001b[0m\n\u001b[1;32m     76\u001b[0m     \u001b[0;32mdef\u001b[0m \u001b[0m__getitem__\u001b[0m\u001b[0;34m(\u001b[0m\u001b[0mself\u001b[0m\u001b[0;34m,\u001b[0m \u001b[0mkey\u001b[0m\u001b[0;34m)\u001b[0m\u001b[0;34m:\u001b[0m\u001b[0;34m\u001b[0m\u001b[0;34m\u001b[0m\u001b[0m\n\u001b[0;32m---> 77\u001b[0;31m         \u001b[0mself\u001b[0m\u001b[0;34m.\u001b[0m\u001b[0m_update\u001b[0m\u001b[0;34m(\u001b[0m\u001b[0;34m)\u001b[0m\u001b[0;34m\u001b[0m\u001b[0;34m\u001b[0m\u001b[0m\n\u001b[0m\u001b[1;32m     78\u001b[0m         \u001b[0mdx\u001b[0m \u001b[0;34m=\u001b[0m \u001b[0mc_double\u001b[0m\u001b[0;34m(\u001b[0m\u001b[0;34m)\u001b[0m\u001b[0;34m\u001b[0m\u001b[0;34m\u001b[0m\u001b[0m\n\u001b[1;32m     79\u001b[0m         \u001b[0mdy\u001b[0m \u001b[0;34m=\u001b[0m \u001b[0mc_double\u001b[0m\u001b[0;34m(\u001b[0m\u001b[0;34m)\u001b[0m\u001b[0;34m\u001b[0m\u001b[0;34m\u001b[0m\u001b[0m\n",
      "\u001b[0;32m~/anaconda3/envs/travel_mode_pred/lib/python3.7/site-packages/shapely/coords.py\u001b[0m in \u001b[0;36m_update\u001b[0;34m(self)\u001b[0m\n\u001b[1;32m     47\u001b[0m         \u001b[0;32melse\u001b[0m\u001b[0;34m:\u001b[0m\u001b[0;34m\u001b[0m\u001b[0;34m\u001b[0m\u001b[0m\n\u001b[1;32m     48\u001b[0m             \u001b[0mself\u001b[0m\u001b[0;34m.\u001b[0m\u001b[0m_ndim\u001b[0m \u001b[0;34m=\u001b[0m \u001b[0mself\u001b[0m\u001b[0;34m.\u001b[0m\u001b[0m__p__\u001b[0m\u001b[0;34m.\u001b[0m\u001b[0m_ndim\u001b[0m\u001b[0;34m\u001b[0m\u001b[0;34m\u001b[0m\u001b[0m\n\u001b[0;32m---> 49\u001b[0;31m             \u001b[0mself\u001b[0m\u001b[0;34m.\u001b[0m\u001b[0m_cseq\u001b[0m \u001b[0;34m=\u001b[0m \u001b[0mlgeos\u001b[0m\u001b[0;34m.\u001b[0m\u001b[0mGEOSGeom_getCoordSeq\u001b[0m\u001b[0;34m(\u001b[0m\u001b[0mself\u001b[0m\u001b[0;34m.\u001b[0m\u001b[0m__p__\u001b[0m\u001b[0;34m.\u001b[0m\u001b[0m_geom\u001b[0m\u001b[0;34m)\u001b[0m\u001b[0;34m\u001b[0m\u001b[0;34m\u001b[0m\u001b[0m\n\u001b[0m\u001b[1;32m     50\u001b[0m \u001b[0;34m\u001b[0m\u001b[0m\n\u001b[1;32m     51\u001b[0m     \u001b[0;32mdef\u001b[0m \u001b[0m__len__\u001b[0m\u001b[0;34m(\u001b[0m\u001b[0mself\u001b[0m\u001b[0;34m)\u001b[0m\u001b[0;34m:\u001b[0m\u001b[0;34m\u001b[0m\u001b[0;34m\u001b[0m\u001b[0m\n",
      "\u001b[0;31mKeyboardInterrupt\u001b[0m: "
     ]
    }
   ],
   "source": [
    "# plot \n",
    "fig, ax = plt.subplots(figsize=(6, 6))\n",
    "gdf_liverpool_hub_four.plot(ax=ax, color='white', edgecolor='black')\n",
    "gdf_dtm_1.plot(ax=ax)\n",
    "plt.show()"
   ]
  },
  {
   "cell_type": "code",
   "execution_count": 101,
   "id": "16d54f1e",
   "metadata": {},
   "outputs": [],
   "source": [
    "# create a dataframe of the bounding box of gdf_liverpool_hub_four\n",
    "# gdf_bbox = gpd.GeoDataFrame(gdf_liverpool_hub_four.total_bounds)\n",
    "# gdf_bbox.to_file(\"bbox_Liverpool_hub_four.shp\")\n",
    "\n",
    "bbox = gdf_liverpool_hub_four.envelope\n",
    "gdf_bbox = gpd.GeoDataFrame(gpd.GeoSeries(bbox), columns=['geometry'])\n",
    "gdf_bbox.to_file(\"bbox_Liverpool_hub_four.shp\")"
   ]
  },
  {
   "cell_type": "code",
   "execution_count": 92,
   "id": "a159bc62",
   "metadata": {},
   "outputs": [],
   "source": [
    "# clip it using the bounding box of the case study area\n",
    "from shapely.geometry import box\n",
    "\n",
    "bbox = box(*gdf_liverpool_hub_four.total_bounds)\n",
    "# print(gdf_liverpool_hub_four.total_bounds)\n",
    "# print(gdf_dtm.total_bounds)\n",
    "\n",
    "# gdf_dtm_clipped = gpd.clip(gdf_dtm, mask=bbox)\n"
   ]
  },
  {
   "cell_type": "code",
   "execution_count": 96,
   "id": "7a45bba3",
   "metadata": {},
   "outputs": [
    {
     "name": "stdout",
     "output_type": "stream",
     "text": [
      "(16, 4)\n"
     ]
    },
    {
     "data": {
      "image/png": "[encoded data removed]",
      "text/plain": [
       "<Figure size 640x480 with 1 Axes>"
      ]
     },
     "metadata": {},
     "output_type": "display_data"
    }
   ],
   "source": [
    "# plot this subset\n",
    "# gdf_dtm_clipped.plot(\"z\", cmap=\"Blues\")\n",
    "print(gdf_dtm_clipped.shape)\n",
    "gdf_dtm_clipped.plot()\n",
    "plt.show()\n",
    "# if a pixel is outside the case study area, it is assign with a infinity value\n"
   ]
  },
  {
   "cell_type": "markdown",
   "id": "e8d2aa38-381b-437c-b431-9cfcc5d96d44",
   "metadata": {},
   "source": [
    "## 3D Euclidean distance"
   ]
  },
  {
   "cell_type": "code",
   "execution_count": 117,
   "id": "b2949631-88f3-46f0-bf9b-9489a1ac2392",
   "metadata": {},
   "outputs": [],
   "source": [
    "df_distance['3D'] = list_3D_distance"
   ]
  },
  {
   "cell_type": "code",
   "execution_count": 118,
   "id": "199e3e4e-a082-491a-a463-7390bcc4615a",
   "metadata": {},
   "outputs": [],
   "source": [
    "# The distance matrix required by spopt is a M*N matrix, with M rows and N columns corresponding to demands and sites\n",
    "df_distance_pivot_constrained = pd.pivot_table(df_distance, values='3D', index=['demand_id'],\n",
    "                    columns=['site_id'], aggfunc=np.sum)"
   ]
  },
  {
   "cell_type": "code",
   "execution_count": 119,
   "id": "456846f9-8301-43a3-ae88-510f1aa4c304",
   "metadata": {},
   "outputs": [
    {
     "name": "stdout",
     "output_type": "stream",
     "text": [
      "Int64Index([   0,    1,    2,    3,    4,    5,    6,    7,    8,    9,\n",
      "            ...\n",
      "            1700, 1701, 1702, 1703, 1704, 1705, 1706, 1707, 1708, 1709],\n",
      "           dtype='int64', name='demand_id', length=1710)\n",
      "Int64Index([ 0,  1,  2,  3,  4,  5,  6,  7,  8,  9, 10, 11, 12, 13, 14, 15, 16,\n",
      "            17, 18, 19, 20, 21, 22, 23, 24, 25, 26, 27, 28, 29, 30, 31, 32, 33,\n",
      "            34, 35, 36, 37, 38, 39, 40, 41, 42, 43, 44, 45, 46, 47, 48, 49, 50,\n",
      "            51, 52, 53, 54, 55, 56, 57, 58, 59, 60, 61, 62, 63, 64, 65, 66, 67,\n",
      "            68, 69, 70, 71, 72, 73, 74, 75, 76, 77, 78, 79, 80, 81, 82, 83, 84,\n",
      "            85, 86, 87, 88, 89, 90, 91, 92],\n",
      "           dtype='int64', name='site_id')\n"
     ]
    }
   ],
   "source": [
    "print(df_distance_pivot_constrained.index)\n",
    "print(df_distance_pivot_constrained.columns)"
   ]
  },
  {
   "cell_type": "code",
   "execution_count": 120,
   "id": "d0bfb9bb-95b9-4afa-bd09-a4cf4f3c4931",
   "metadata": {},
   "outputs": [],
   "source": [
    "# save as Euclidean_distance_site_demand.csv\n",
    "file_distance_cons = 'distance_matrix_demand_site_3D.csv'\n",
    "df_distance_pivot_constrained.to_csv(file_distance_cons)"
   ]
  },
  {
   "cell_type": "code",
   "execution_count": 121,
   "id": "0ff201c3-88dc-4051-8e66-5cbc0c1c7cdc",
   "metadata": {},
   "outputs": [],
   "source": [
    "array_distance_Eudlidean = utilities.read_distance_matrix_as_np_array(file_distance_cons)\n",
    "assert(array_distance_Eudlidean.shape == (1710, 93))"
   ]
  },
  {
   "cell_type": "markdown",
   "id": "1f540c3e-0565-42ca-83a4-b058c3025306",
   "metadata": {},
   "source": [
    "## Save distance dataframe"
   ]
  }
 ],
 "metadata": {
  "kernelspec": {
   "display_name": "Python 3 (ipykernel)",
   "language": "python",
   "name": "python3"
  },
  "language_info": {
   "codemirror_mode": {
    "name": "ipython",
    "version": 3
   },
   "file_extension": ".py",
   "mimetype": "text/x-python",
   "name": "python",
   "nbconvert_exporter": "python",
   "pygments_lexer": "ipython3",
   "version": "3.9.6"
  }
 },
 "nbformat": 4,
 "nbformat_minor": 5
}
