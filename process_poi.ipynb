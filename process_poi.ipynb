{
 "cells": [
  {
   "cell_type": "markdown",
   "id": "4c859cf9-4855-4196-8237-ede2cf401bb1",
   "metadata": {},
   "source": [
    "# Processing POI data from Liverpool"
   ]
  },
  {
   "cell_type": "markdown",
   "id": "2b25072b-5aa8-4142-99bc-44c184eaaed5",
   "metadata": {},
   "source": [
    "## Import packages"
   ]
  },
  {
   "cell_type": "code",
   "execution_count": 76,
   "id": "19acef0d-f346-47b2-b3dc-6967eed54152",
   "metadata": {},
   "outputs": [],
   "source": [
    "import pandas as pd\n",
    "import geopandas as gpd\n",
    "import matplotlib.pyplot as plt\n",
    "import numpy as np\n",
    "import utilities"
   ]
  },
  {
   "cell_type": "markdown",
   "id": "8046f91d-722a-4c6a-a451-a997610e5a15",
   "metadata": {},
   "source": [
    "## Read in POI data"
   ]
  },
  {
   "cell_type": "code",
   "execution_count": 2,
   "id": "181ade13-e43b-49be-94e7-62cad3470a7d",
   "metadata": {},
   "outputs": [],
   "source": [
    "# read the POI data\n",
    "df_poi = pd.read_csv(\"Liverpool_hub_four_POI/poi_4565130/poi-extract-2022_03.csv\", sep=\"|\")"
   ]
  },
  {
   "cell_type": "code",
   "execution_count": 3,
   "id": "486f71bf-0227-4891-96de-4aecaf53f29d",
   "metadata": {},
   "outputs": [
    {
     "data": {
      "text/plain": [
       "Index(['ref_no', 'name', 'pointx_class', 'feature_easting', 'feature_northing',\n",
       "       'pos_accuracy', 'uprn', 'topo_toid', 'topo_toid_version', 'usrn',\n",
       "       'usrn_mi', 'distance', 'address_detail', 'street_name', 'locality',\n",
       "       'geographic_county', 'postcode', 'admin_boundary', 'telephone_number',\n",
       "       'url', 'brand', 'qualifier_type', 'qualifier_data', 'provenance',\n",
       "       'supply_date'],\n",
       "      dtype='object')"
      ]
     },
     "execution_count": 3,
     "metadata": {},
     "output_type": "execute_result"
    }
   ],
   "source": [
    "df_poi.columns"
   ]
  },
  {
   "cell_type": "code",
   "execution_count": 4,
   "id": "efd7208f-a44f-4fc1-bb55-90e8ecdedc86",
   "metadata": {},
   "outputs": [],
   "source": [
    "df_poi_by_class = df_poi.pointx_class.value_counts().to_frame().reset_index().rename(columns={\"index\": \"class\", \"pointx_class\": \"number\"})\n",
    "df_poi_by_class['class_4d'] = df_poi_by_class['class'].apply(lambda x: str(x)[-4:])"
   ]
  },
  {
   "cell_type": "code",
   "execution_count": 5,
   "id": "467c6ad9-6337-4043-a960-361634cb7baa",
   "metadata": {},
   "outputs": [
    {
     "data": {
      "text/html": [
       "<div>\n",
       "<style scoped>\n",
       "    .dataframe tbody tr th:only-of-type {\n",
       "        vertical-align: middle;\n",
       "    }\n",
       "\n",
       "    .dataframe tbody tr th {\n",
       "        vertical-align: top;\n",
       "    }\n",
       "\n",
       "    .dataframe thead th {\n",
       "        text-align: right;\n",
       "    }\n",
       "</style>\n",
       "<table border=\"1\" class=\"dataframe\">\n",
       "  <thead>\n",
       "    <tr style=\"text-align: right;\">\n",
       "      <th></th>\n",
       "      <th>class</th>\n",
       "      <th>number</th>\n",
       "      <th>class_4d</th>\n",
       "    </tr>\n",
       "  </thead>\n",
       "  <tbody>\n",
       "    <tr>\n",
       "      <th>0</th>\n",
       "      <td>10590732</td>\n",
       "      <td>536</td>\n",
       "      <td>0732</td>\n",
       "    </tr>\n",
       "    <tr>\n",
       "      <th>1</th>\n",
       "      <td>6340433</td>\n",
       "      <td>415</td>\n",
       "      <td>0433</td>\n",
       "    </tr>\n",
       "    <tr>\n",
       "      <th>2</th>\n",
       "      <td>1020034</td>\n",
       "      <td>383</td>\n",
       "      <td>0034</td>\n",
       "    </tr>\n",
       "    <tr>\n",
       "      <th>3</th>\n",
       "      <td>2100156</td>\n",
       "      <td>315</td>\n",
       "      <td>0156</td>\n",
       "    </tr>\n",
       "    <tr>\n",
       "      <th>4</th>\n",
       "      <td>1020018</td>\n",
       "      <td>247</td>\n",
       "      <td>0018</td>\n",
       "    </tr>\n",
       "    <tr>\n",
       "      <th>...</th>\n",
       "      <td>...</td>\n",
       "      <td>...</td>\n",
       "      <td>...</td>\n",
       "    </tr>\n",
       "    <tr>\n",
       "      <th>391</th>\n",
       "      <td>7420585</td>\n",
       "      <td>1</td>\n",
       "      <td>0585</td>\n",
       "    </tr>\n",
       "    <tr>\n",
       "      <th>392</th>\n",
       "      <td>7370464</td>\n",
       "      <td>1</td>\n",
       "      <td>0464</td>\n",
       "    </tr>\n",
       "    <tr>\n",
       "      <th>393</th>\n",
       "      <td>7420783</td>\n",
       "      <td>1</td>\n",
       "      <td>0783</td>\n",
       "    </tr>\n",
       "    <tr>\n",
       "      <th>394</th>\n",
       "      <td>9480824</td>\n",
       "      <td>1</td>\n",
       "      <td>0824</td>\n",
       "    </tr>\n",
       "    <tr>\n",
       "      <th>395</th>\n",
       "      <td>2130206</td>\n",
       "      <td>1</td>\n",
       "      <td>0206</td>\n",
       "    </tr>\n",
       "  </tbody>\n",
       "</table>\n",
       "<p>396 rows × 3 columns</p>\n",
       "</div>"
      ],
      "text/plain": [
       "        class  number class_4d\n",
       "0    10590732     536     0732\n",
       "1     6340433     415     0433\n",
       "2     1020034     383     0034\n",
       "3     2100156     315     0156\n",
       "4     1020018     247     0018\n",
       "..        ...     ...      ...\n",
       "391   7420585       1     0585\n",
       "392   7370464       1     0464\n",
       "393   7420783       1     0783\n",
       "394   9480824       1     0824\n",
       "395   2130206       1     0206\n",
       "\n",
       "[396 rows x 3 columns]"
      ]
     },
     "execution_count": 5,
     "metadata": {},
     "output_type": "execute_result"
    }
   ],
   "source": [
    "df_poi_by_class"
   ]
  },
  {
   "cell_type": "markdown",
   "id": "96a4b79d-5d79-4862-b888-3b1108fa4820",
   "metadata": {},
   "source": [
    "## Read in POI classifications and join the POI data with classifications"
   ]
  },
  {
   "cell_type": "code",
   "execution_count": 6,
   "id": "28f2fd58-f671-4b16-9165-758bce9f2241",
   "metadata": {},
   "outputs": [
    {
     "data": {
      "text/plain": [
       "Index(['ID', 'Class Number', 'Classification Description',\n",
       "       'Category Number Foreign Key'],\n",
       "      dtype='object')"
      ]
     },
     "execution_count": 6,
     "metadata": {},
     "output_type": "execute_result"
    }
   ],
   "source": [
    "df_poi_class_table = pd.read_csv(\"Liverpool_hub_four_POI/poi_4565130/docs/POI_CLASSIFICATIONS.txt\", sep = \"|\", dtype=object)\n",
    "# .[\"Class Number\",\"Classification Description\"]\n",
    "df_poi_class_table.columns"
   ]
  },
  {
   "cell_type": "code",
   "execution_count": 7,
   "id": "80458fe5-0bfd-4fe7-be4e-8aab5f8ff644",
   "metadata": {},
   "outputs": [],
   "source": [
    "df_poi_by_class = pd.merge(how='left',\n",
    "         left= df_poi_by_class, \n",
    "         right=df_poi_class_table, \n",
    "         left_on='class_4d', right_on='Class Number')"
   ]
  },
  {
   "cell_type": "code",
   "execution_count": 8,
   "id": "54999562-8caa-4386-a170-c261551542d7",
   "metadata": {},
   "outputs": [
    {
     "data": {
      "text/html": [
       "<div>\n",
       "<style scoped>\n",
       "    .dataframe tbody tr th:only-of-type {\n",
       "        vertical-align: middle;\n",
       "    }\n",
       "\n",
       "    .dataframe tbody tr th {\n",
       "        vertical-align: top;\n",
       "    }\n",
       "\n",
       "    .dataframe thead th {\n",
       "        text-align: right;\n",
       "    }\n",
       "</style>\n",
       "<table border=\"1\" class=\"dataframe\">\n",
       "  <thead>\n",
       "    <tr style=\"text-align: right;\">\n",
       "      <th></th>\n",
       "      <th>class</th>\n",
       "      <th>number</th>\n",
       "      <th>class_4d</th>\n",
       "      <th>ID</th>\n",
       "      <th>Class Number</th>\n",
       "      <th>Classification Description</th>\n",
       "      <th>Category Number Foreign Key</th>\n",
       "    </tr>\n",
       "  </thead>\n",
       "  <tbody>\n",
       "    <tr>\n",
       "      <th>0</th>\n",
       "      <td>10590732</td>\n",
       "      <td>536</td>\n",
       "      <td>0732</td>\n",
       "      <td>619</td>\n",
       "      <td>0732</td>\n",
       "      <td>BUS STOPS</td>\n",
       "      <td>59</td>\n",
       "    </tr>\n",
       "    <tr>\n",
       "      <th>1</th>\n",
       "      <td>6340433</td>\n",
       "      <td>415</td>\n",
       "      <td>0433</td>\n",
       "      <td>350</td>\n",
       "      <td>0433</td>\n",
       "      <td>ELECTRICAL FEATURES</td>\n",
       "      <td>34</td>\n",
       "    </tr>\n",
       "    <tr>\n",
       "      <th>2</th>\n",
       "      <td>1020034</td>\n",
       "      <td>383</td>\n",
       "      <td>0034</td>\n",
       "      <td>14</td>\n",
       "      <td>0034</td>\n",
       "      <td>PUBS, BARS AND INNS</td>\n",
       "      <td>02</td>\n",
       "    </tr>\n",
       "    <tr>\n",
       "      <th>3</th>\n",
       "      <td>2100156</td>\n",
       "      <td>315</td>\n",
       "      <td>0156</td>\n",
       "      <td>118</td>\n",
       "      <td>0156</td>\n",
       "      <td>HAIR AND BEAUTY SERVICES</td>\n",
       "      <td>10</td>\n",
       "    </tr>\n",
       "    <tr>\n",
       "      <th>4</th>\n",
       "      <td>1020018</td>\n",
       "      <td>247</td>\n",
       "      <td>0018</td>\n",
       "      <td>10</td>\n",
       "      <td>0018</td>\n",
       "      <td>FAST FOOD AND TAKEAWAY OUTLETS</td>\n",
       "      <td>02</td>\n",
       "    </tr>\n",
       "    <tr>\n",
       "      <th>5</th>\n",
       "      <td>1020043</td>\n",
       "      <td>234</td>\n",
       "      <td>0043</td>\n",
       "      <td>15</td>\n",
       "      <td>0043</td>\n",
       "      <td>RESTAURANTS</td>\n",
       "      <td>02</td>\n",
       "    </tr>\n",
       "    <tr>\n",
       "      <th>6</th>\n",
       "      <td>3200269</td>\n",
       "      <td>231</td>\n",
       "      <td>0269</td>\n",
       "      <td>217</td>\n",
       "      <td>0269</td>\n",
       "      <td>UNSPECIFIED AND OTHER ATTRACTIONS</td>\n",
       "      <td>20</td>\n",
       "    </tr>\n",
       "    <tr>\n",
       "      <th>7</th>\n",
       "      <td>9470699</td>\n",
       "      <td>223</td>\n",
       "      <td>0699</td>\n",
       "      <td>536</td>\n",
       "      <td>0699</td>\n",
       "      <td>CONVENIENCE STORES AND INDEPENDENT SUPERMARKETS</td>\n",
       "      <td>47</td>\n",
       "    </tr>\n",
       "    <tr>\n",
       "      <th>8</th>\n",
       "      <td>1020013</td>\n",
       "      <td>215</td>\n",
       "      <td>0013</td>\n",
       "      <td>9</td>\n",
       "      <td>0013</td>\n",
       "      <td>CAFES, SNACK BARS AND TEA ROOMS</td>\n",
       "      <td>02</td>\n",
       "    </tr>\n",
       "    <tr>\n",
       "      <th>9</th>\n",
       "      <td>2090141</td>\n",
       "      <td>166</td>\n",
       "      <td>0141</td>\n",
       "      <td>98</td>\n",
       "      <td>0141</td>\n",
       "      <td>CASH MACHINES</td>\n",
       "      <td>09</td>\n",
       "    </tr>\n",
       "    <tr>\n",
       "      <th>10</th>\n",
       "      <td>9460656</td>\n",
       "      <td>138</td>\n",
       "      <td>0656</td>\n",
       "      <td>520</td>\n",
       "      <td>0656</td>\n",
       "      <td>CLOTHING</td>\n",
       "      <td>46</td>\n",
       "    </tr>\n",
       "    <tr>\n",
       "      <th>11</th>\n",
       "      <td>6340457</td>\n",
       "      <td>131</td>\n",
       "      <td>0457</td>\n",
       "      <td>363</td>\n",
       "      <td>0457</td>\n",
       "      <td>LETTER BOXES</td>\n",
       "      <td>34</td>\n",
       "    </tr>\n",
       "    <tr>\n",
       "      <th>12</th>\n",
       "      <td>2090154</td>\n",
       "      <td>121</td>\n",
       "      <td>0154</td>\n",
       "      <td>109</td>\n",
       "      <td>0154</td>\n",
       "      <td>SOLICITORS, ADVOCATES AND NOTARIES PUBLIC</td>\n",
       "      <td>09</td>\n",
       "    </tr>\n",
       "    <tr>\n",
       "      <th>13</th>\n",
       "      <td>6340459</td>\n",
       "      <td>106</td>\n",
       "      <td>0459</td>\n",
       "      <td>365</td>\n",
       "      <td>0459</td>\n",
       "      <td>PLACES OF WORSHIP</td>\n",
       "      <td>34</td>\n",
       "    </tr>\n",
       "    <tr>\n",
       "      <th>14</th>\n",
       "      <td>10540736</td>\n",
       "      <td>101</td>\n",
       "      <td>0736</td>\n",
       "      <td>596</td>\n",
       "      <td>0736</td>\n",
       "      <td>PARKING</td>\n",
       "      <td>54</td>\n",
       "    </tr>\n",
       "    <tr>\n",
       "      <th>15</th>\n",
       "      <td>2090811</td>\n",
       "      <td>90</td>\n",
       "      <td>0811</td>\n",
       "      <td>113</td>\n",
       "      <td>0811</td>\n",
       "      <td>PAYPOINT LOCATIONS</td>\n",
       "      <td>09</td>\n",
       "    </tr>\n",
       "    <tr>\n",
       "      <th>16</th>\n",
       "      <td>6340802</td>\n",
       "      <td>79</td>\n",
       "      <td>0802</td>\n",
       "      <td>369</td>\n",
       "      <td>0802</td>\n",
       "      <td>WIFI HOTSPOTS</td>\n",
       "      <td>34</td>\n",
       "    </tr>\n",
       "    <tr>\n",
       "      <th>17</th>\n",
       "      <td>2050078</td>\n",
       "      <td>78</td>\n",
       "      <td>0078</td>\n",
       "      <td>49</td>\n",
       "      <td>0078</td>\n",
       "      <td>EMPLOYMENT AGENCIES</td>\n",
       "      <td>05</td>\n",
       "    </tr>\n",
       "    <tr>\n",
       "      <th>18</th>\n",
       "      <td>2100167</td>\n",
       "      <td>75</td>\n",
       "      <td>0167</td>\n",
       "      <td>125</td>\n",
       "      <td>0167</td>\n",
       "      <td>HEADQUARTERS, ADMINISTRATION AND CENTRAL OFFICES</td>\n",
       "      <td>10</td>\n",
       "    </tr>\n",
       "    <tr>\n",
       "      <th>19</th>\n",
       "      <td>6350816</td>\n",
       "      <td>66</td>\n",
       "      <td>0816</td>\n",
       "      <td>378</td>\n",
       "      <td>0816</td>\n",
       "      <td>CHARITABLE ORGANISATIONS</td>\n",
       "      <td>35</td>\n",
       "    </tr>\n",
       "    <tr>\n",
       "      <th>20</th>\n",
       "      <td>10550747</td>\n",
       "      <td>65</td>\n",
       "      <td>0747</td>\n",
       "      <td>NaN</td>\n",
       "      <td>NaN</td>\n",
       "      <td>NaN</td>\n",
       "      <td>NaN</td>\n",
       "    </tr>\n",
       "    <tr>\n",
       "      <th>21</th>\n",
       "      <td>2040063</td>\n",
       "      <td>64</td>\n",
       "      <td>0063</td>\n",
       "      <td>35</td>\n",
       "      <td>0063</td>\n",
       "      <td>ARCHITECTURAL AND BUILDING RELATED CONSULTANTS</td>\n",
       "      <td>04</td>\n",
       "    </tr>\n",
       "    <tr>\n",
       "      <th>22</th>\n",
       "      <td>1010006</td>\n",
       "      <td>63</td>\n",
       "      <td>0006</td>\n",
       "      <td>4</td>\n",
       "      <td>0006</td>\n",
       "      <td>HOTELS, MOTELS, COUNTRY HOUSES AND INNS</td>\n",
       "      <td>01</td>\n",
       "    </tr>\n",
       "    <tr>\n",
       "      <th>23</th>\n",
       "      <td>2080117</td>\n",
       "      <td>53</td>\n",
       "      <td>0117</td>\n",
       "      <td>77</td>\n",
       "      <td>0117</td>\n",
       "      <td>COMPUTER SYSTEMS SERVICES</td>\n",
       "      <td>08</td>\n",
       "    </tr>\n",
       "    <tr>\n",
       "      <th>24</th>\n",
       "      <td>2090135</td>\n",
       "      <td>51</td>\n",
       "      <td>0135</td>\n",
       "      <td>94</td>\n",
       "      <td>0135</td>\n",
       "      <td>ACCOUNTANTS AND AUDITORS</td>\n",
       "      <td>09</td>\n",
       "    </tr>\n",
       "    <tr>\n",
       "      <th>25</th>\n",
       "      <td>9460659</td>\n",
       "      <td>51</td>\n",
       "      <td>0659</td>\n",
       "      <td>522</td>\n",
       "      <td>0659</td>\n",
       "      <td>JEWELLERY AND FASHION ACCESSORIES</td>\n",
       "      <td>46</td>\n",
       "    </tr>\n",
       "    <tr>\n",
       "      <th>26</th>\n",
       "      <td>2110190</td>\n",
       "      <td>50</td>\n",
       "      <td>0190</td>\n",
       "      <td>150</td>\n",
       "      <td>0190</td>\n",
       "      <td>PROPERTY SALES</td>\n",
       "      <td>11</td>\n",
       "    </tr>\n",
       "    <tr>\n",
       "      <th>27</th>\n",
       "      <td>2110192</td>\n",
       "      <td>49</td>\n",
       "      <td>0192</td>\n",
       "      <td>152</td>\n",
       "      <td>0192</td>\n",
       "      <td>PROPERTY LETTING</td>\n",
       "      <td>11</td>\n",
       "    </tr>\n",
       "    <tr>\n",
       "      <th>28</th>\n",
       "      <td>4240293</td>\n",
       "      <td>48</td>\n",
       "      <td>0293</td>\n",
       "      <td>247</td>\n",
       "      <td>0293</td>\n",
       "      <td>GYMNASIUMS, SPORTS HALLS AND LEISURE CENTRES</td>\n",
       "      <td>24</td>\n",
       "    </tr>\n",
       "    <tr>\n",
       "      <th>29</th>\n",
       "      <td>10560753</td>\n",
       "      <td>48</td>\n",
       "      <td>0753</td>\n",
       "      <td>609</td>\n",
       "      <td>0753</td>\n",
       "      <td>MOORINGS AND UNLOADING FACILITIES</td>\n",
       "      <td>56</td>\n",
       "    </tr>\n",
       "    <tr>\n",
       "      <th>30</th>\n",
       "      <td>5320403</td>\n",
       "      <td>48</td>\n",
       "      <td>0403</td>\n",
       "      <td>330</td>\n",
       "      <td>0403</td>\n",
       "      <td>TRAINING PROVIDERS AND CENTRES</td>\n",
       "      <td>32</td>\n",
       "    </tr>\n",
       "    <tr>\n",
       "      <th>31</th>\n",
       "      <td>2110191</td>\n",
       "      <td>47</td>\n",
       "      <td>0191</td>\n",
       "      <td>151</td>\n",
       "      <td>0191</td>\n",
       "      <td>ESTATE AND PROPERTY MANAGEMENT</td>\n",
       "      <td>11</td>\n",
       "    </tr>\n",
       "    <tr>\n",
       "      <th>32</th>\n",
       "      <td>3170245</td>\n",
       "      <td>44</td>\n",
       "      <td>0245</td>\n",
       "      <td>200</td>\n",
       "      <td>0245</td>\n",
       "      <td>HISTORIC AND CEREMONIAL STRUCTURES</td>\n",
       "      <td>17</td>\n",
       "    </tr>\n",
       "    <tr>\n",
       "      <th>33</th>\n",
       "      <td>2040064</td>\n",
       "      <td>44</td>\n",
       "      <td>0064</td>\n",
       "      <td>36</td>\n",
       "      <td>0064</td>\n",
       "      <td>BUSINESS RELATED CONSULTANTS</td>\n",
       "      <td>04</td>\n",
       "    </tr>\n",
       "    <tr>\n",
       "      <th>34</th>\n",
       "      <td>2090147</td>\n",
       "      <td>43</td>\n",
       "      <td>0147</td>\n",
       "      <td>104</td>\n",
       "      <td>0147</td>\n",
       "      <td>FINANCIAL ADVICE SERVICES</td>\n",
       "      <td>09</td>\n",
       "    </tr>\n",
       "    <tr>\n",
       "      <th>35</th>\n",
       "      <td>7410542</td>\n",
       "      <td>43</td>\n",
       "      <td>0542</td>\n",
       "      <td>452</td>\n",
       "      <td>0542</td>\n",
       "      <td>UNSPECIFIED WORKS OR FACTORIES</td>\n",
       "      <td>41</td>\n",
       "    </tr>\n",
       "    <tr>\n",
       "      <th>36</th>\n",
       "      <td>5280365</td>\n",
       "      <td>42</td>\n",
       "      <td>0365</td>\n",
       "      <td>289</td>\n",
       "      <td>0365</td>\n",
       "      <td>CLINICS AND HEALTH CENTRES</td>\n",
       "      <td>28</td>\n",
       "    </tr>\n",
       "    <tr>\n",
       "      <th>37</th>\n",
       "      <td>2130212</td>\n",
       "      <td>40</td>\n",
       "      <td>0212</td>\n",
       "      <td>167</td>\n",
       "      <td>0212</td>\n",
       "      <td>VEHICLE REPAIR, TESTING AND SERVICING</td>\n",
       "      <td>13</td>\n",
       "    </tr>\n",
       "    <tr>\n",
       "      <th>38</th>\n",
       "      <td>2140214</td>\n",
       "      <td>39</td>\n",
       "      <td>0214</td>\n",
       "      <td>169</td>\n",
       "      <td>0214</td>\n",
       "      <td>DESIGN SERVICES</td>\n",
       "      <td>14</td>\n",
       "    </tr>\n",
       "    <tr>\n",
       "      <th>39</th>\n",
       "      <td>4220279</td>\n",
       "      <td>39</td>\n",
       "      <td>0279</td>\n",
       "      <td>232</td>\n",
       "      <td>0279</td>\n",
       "      <td>BOOKMAKERS</td>\n",
       "      <td>22</td>\n",
       "    </tr>\n",
       "    <tr>\n",
       "      <th>40</th>\n",
       "      <td>9470661</td>\n",
       "      <td>39</td>\n",
       "      <td>0661</td>\n",
       "      <td>525</td>\n",
       "      <td>0661</td>\n",
       "      <td>BAKERIES</td>\n",
       "      <td>47</td>\n",
       "    </tr>\n",
       "    <tr>\n",
       "      <th>41</th>\n",
       "      <td>1020020</td>\n",
       "      <td>38</td>\n",
       "      <td>0020</td>\n",
       "      <td>12</td>\n",
       "      <td>0020</td>\n",
       "      <td>FISH AND CHIP SHOPS</td>\n",
       "      <td>02</td>\n",
       "    </tr>\n",
       "    <tr>\n",
       "      <th>42</th>\n",
       "      <td>10540730</td>\n",
       "      <td>38</td>\n",
       "      <td>0730</td>\n",
       "      <td>592</td>\n",
       "      <td>0730</td>\n",
       "      <td>BRIDGES</td>\n",
       "      <td>54</td>\n",
       "    </tr>\n",
       "    <tr>\n",
       "      <th>43</th>\n",
       "      <td>9480686</td>\n",
       "      <td>37</td>\n",
       "      <td>0686</td>\n",
       "      <td>553</td>\n",
       "      <td>0686</td>\n",
       "      <td>HOBBY, SPORTS AND PASTIME PRODUCTS</td>\n",
       "      <td>48</td>\n",
       "    </tr>\n",
       "    <tr>\n",
       "      <th>44</th>\n",
       "      <td>4250312</td>\n",
       "      <td>37</td>\n",
       "      <td>0312</td>\n",
       "      <td>261</td>\n",
       "      <td>0312</td>\n",
       "      <td>NIGHTCLUBS</td>\n",
       "      <td>25</td>\n",
       "    </tr>\n",
       "    <tr>\n",
       "      <th>45</th>\n",
       "      <td>6340456</td>\n",
       "      <td>37</td>\n",
       "      <td>0456</td>\n",
       "      <td>362</td>\n",
       "      <td>0456</td>\n",
       "      <td>HALLS AND COMMUNITY CENTRES</td>\n",
       "      <td>34</td>\n",
       "    </tr>\n",
       "    <tr>\n",
       "      <th>46</th>\n",
       "      <td>2100170</td>\n",
       "      <td>36</td>\n",
       "      <td>0170</td>\n",
       "      <td>127</td>\n",
       "      <td>0170</td>\n",
       "      <td>LOCK, KEY AND SECURITY SERVICES</td>\n",
       "      <td>10</td>\n",
       "    </tr>\n",
       "    <tr>\n",
       "      <th>47</th>\n",
       "      <td>2090149</td>\n",
       "      <td>34</td>\n",
       "      <td>0149</td>\n",
       "      <td>106</td>\n",
       "      <td>0149</td>\n",
       "      <td>INSURERS AND SUPPORT ACTIVITIES</td>\n",
       "      <td>09</td>\n",
       "    </tr>\n",
       "    <tr>\n",
       "      <th>48</th>\n",
       "      <td>5280364</td>\n",
       "      <td>34</td>\n",
       "      <td>0364</td>\n",
       "      <td>288</td>\n",
       "      <td>0364</td>\n",
       "      <td>CHEMISTS AND PHARMACIES</td>\n",
       "      <td>28</td>\n",
       "    </tr>\n",
       "    <tr>\n",
       "      <th>49</th>\n",
       "      <td>1010009</td>\n",
       "      <td>34</td>\n",
       "      <td>0009</td>\n",
       "      <td>7</td>\n",
       "      <td>0009</td>\n",
       "      <td>YOUTH ACCOMMODATION</td>\n",
       "      <td>01</td>\n",
       "    </tr>\n",
       "  </tbody>\n",
       "</table>\n",
       "</div>"
      ],
      "text/plain": [
       "       class  number class_4d   ID Class Number  \\\n",
       "0   10590732     536     0732  619         0732   \n",
       "1    6340433     415     0433  350         0433   \n",
       "2    1020034     383     0034   14         0034   \n",
       "3    2100156     315     0156  118         0156   \n",
       "4    1020018     247     0018   10         0018   \n",
       "5    1020043     234     0043   15         0043   \n",
       "6    3200269     231     0269  217         0269   \n",
       "7    9470699     223     0699  536         0699   \n",
       "8    1020013     215     0013    9         0013   \n",
       "9    2090141     166     0141   98         0141   \n",
       "10   9460656     138     0656  520         0656   \n",
       "11   6340457     131     0457  363         0457   \n",
       "12   2090154     121     0154  109         0154   \n",
       "13   6340459     106     0459  365         0459   \n",
       "14  10540736     101     0736  596         0736   \n",
       "15   2090811      90     0811  113         0811   \n",
       "16   6340802      79     0802  369         0802   \n",
       "17   2050078      78     0078   49         0078   \n",
       "18   2100167      75     0167  125         0167   \n",
       "19   6350816      66     0816  378         0816   \n",
       "20  10550747      65     0747  NaN          NaN   \n",
       "21   2040063      64     0063   35         0063   \n",
       "22   1010006      63     0006    4         0006   \n",
       "23   2080117      53     0117   77         0117   \n",
       "24   2090135      51     0135   94         0135   \n",
       "25   9460659      51     0659  522         0659   \n",
       "26   2110190      50     0190  150         0190   \n",
       "27   2110192      49     0192  152         0192   \n",
       "28   4240293      48     0293  247         0293   \n",
       "29  10560753      48     0753  609         0753   \n",
       "30   5320403      48     0403  330         0403   \n",
       "31   2110191      47     0191  151         0191   \n",
       "32   3170245      44     0245  200         0245   \n",
       "33   2040064      44     0064   36         0064   \n",
       "34   2090147      43     0147  104         0147   \n",
       "35   7410542      43     0542  452         0542   \n",
       "36   5280365      42     0365  289         0365   \n",
       "37   2130212      40     0212  167         0212   \n",
       "38   2140214      39     0214  169         0214   \n",
       "39   4220279      39     0279  232         0279   \n",
       "40   9470661      39     0661  525         0661   \n",
       "41   1020020      38     0020   12         0020   \n",
       "42  10540730      38     0730  592         0730   \n",
       "43   9480686      37     0686  553         0686   \n",
       "44   4250312      37     0312  261         0312   \n",
       "45   6340456      37     0456  362         0456   \n",
       "46   2100170      36     0170  127         0170   \n",
       "47   2090149      34     0149  106         0149   \n",
       "48   5280364      34     0364  288         0364   \n",
       "49   1010009      34     0009    7         0009   \n",
       "\n",
       "                          Classification Description  \\\n",
       "0                                          BUS STOPS   \n",
       "1                                ELECTRICAL FEATURES   \n",
       "2                                PUBS, BARS AND INNS   \n",
       "3                           HAIR AND BEAUTY SERVICES   \n",
       "4                     FAST FOOD AND TAKEAWAY OUTLETS   \n",
       "5                                        RESTAURANTS   \n",
       "6                  UNSPECIFIED AND OTHER ATTRACTIONS   \n",
       "7    CONVENIENCE STORES AND INDEPENDENT SUPERMARKETS   \n",
       "8                    CAFES, SNACK BARS AND TEA ROOMS   \n",
       "9                                      CASH MACHINES   \n",
       "10                                          CLOTHING   \n",
       "11                                      LETTER BOXES   \n",
       "12         SOLICITORS, ADVOCATES AND NOTARIES PUBLIC   \n",
       "13                                 PLACES OF WORSHIP   \n",
       "14                                           PARKING   \n",
       "15                                PAYPOINT LOCATIONS   \n",
       "16                                     WIFI HOTSPOTS   \n",
       "17                               EMPLOYMENT AGENCIES   \n",
       "18  HEADQUARTERS, ADMINISTRATION AND CENTRAL OFFICES   \n",
       "19                          CHARITABLE ORGANISATIONS   \n",
       "20                                               NaN   \n",
       "21    ARCHITECTURAL AND BUILDING RELATED CONSULTANTS   \n",
       "22           HOTELS, MOTELS, COUNTRY HOUSES AND INNS   \n",
       "23                         COMPUTER SYSTEMS SERVICES   \n",
       "24                          ACCOUNTANTS AND AUDITORS   \n",
       "25                 JEWELLERY AND FASHION ACCESSORIES   \n",
       "26                                    PROPERTY SALES   \n",
       "27                                  PROPERTY LETTING   \n",
       "28      GYMNASIUMS, SPORTS HALLS AND LEISURE CENTRES   \n",
       "29                 MOORINGS AND UNLOADING FACILITIES   \n",
       "30                    TRAINING PROVIDERS AND CENTRES   \n",
       "31                    ESTATE AND PROPERTY MANAGEMENT   \n",
       "32                HISTORIC AND CEREMONIAL STRUCTURES   \n",
       "33                      BUSINESS RELATED CONSULTANTS   \n",
       "34                         FINANCIAL ADVICE SERVICES   \n",
       "35                    UNSPECIFIED WORKS OR FACTORIES   \n",
       "36                        CLINICS AND HEALTH CENTRES   \n",
       "37             VEHICLE REPAIR, TESTING AND SERVICING   \n",
       "38                                   DESIGN SERVICES   \n",
       "39                                        BOOKMAKERS   \n",
       "40                                          BAKERIES   \n",
       "41                               FISH AND CHIP SHOPS   \n",
       "42                                           BRIDGES   \n",
       "43                HOBBY, SPORTS AND PASTIME PRODUCTS   \n",
       "44                                        NIGHTCLUBS   \n",
       "45                       HALLS AND COMMUNITY CENTRES   \n",
       "46                   LOCK, KEY AND SECURITY SERVICES   \n",
       "47                   INSURERS AND SUPPORT ACTIVITIES   \n",
       "48                           CHEMISTS AND PHARMACIES   \n",
       "49                               YOUTH ACCOMMODATION   \n",
       "\n",
       "   Category Number Foreign Key  \n",
       "0                           59  \n",
       "1                           34  \n",
       "2                           02  \n",
       "3                           10  \n",
       "4                           02  \n",
       "5                           02  \n",
       "6                           20  \n",
       "7                           47  \n",
       "8                           02  \n",
       "9                           09  \n",
       "10                          46  \n",
       "11                          34  \n",
       "12                          09  \n",
       "13                          34  \n",
       "14                          54  \n",
       "15                          09  \n",
       "16                          34  \n",
       "17                          05  \n",
       "18                          10  \n",
       "19                          35  \n",
       "20                         NaN  \n",
       "21                          04  \n",
       "22                          01  \n",
       "23                          08  \n",
       "24                          09  \n",
       "25                          46  \n",
       "26                          11  \n",
       "27                          11  \n",
       "28                          24  \n",
       "29                          56  \n",
       "30                          32  \n",
       "31                          11  \n",
       "32                          17  \n",
       "33                          04  \n",
       "34                          09  \n",
       "35                          41  \n",
       "36                          28  \n",
       "37                          13  \n",
       "38                          14  \n",
       "39                          22  \n",
       "40                          47  \n",
       "41                          02  \n",
       "42                          54  \n",
       "43                          48  \n",
       "44                          25  \n",
       "45                          34  \n",
       "46                          10  \n",
       "47                          09  \n",
       "48                          28  \n",
       "49                          01  "
      ]
     },
     "execution_count": 8,
     "metadata": {},
     "output_type": "execute_result"
    }
   ],
   "source": [
    "df_poi_by_class.head(50)"
   ]
  },
  {
   "cell_type": "code",
   "execution_count": 9,
   "id": "b4409a64-b269-4263-b63c-f08d8891d74d",
   "metadata": {},
   "outputs": [
    {
     "data": {
      "text/plain": [
       "(7693, 25)"
      ]
     },
     "execution_count": 9,
     "metadata": {},
     "output_type": "execute_result"
    }
   ],
   "source": [
    "df_poi.shape\n",
    "# 7693 POIs in total"
   ]
  },
  {
   "cell_type": "markdown",
   "id": "4c4b9c0c-e8cb-42b3-ae48-4e8e695f6f5b",
   "metadata": {},
   "source": [
    "## Selecting several types of POI as candidate sites for the case study"
   ]
  },
  {
   "cell_type": "markdown",
   "id": "2e16908e-cba2-464d-8bfc-6a95eec71258",
   "metadata": {},
   "source": [
    "First, types of POIs used in the location-allocation analysis in Feng et al. 2021:\n",
    "\n",
    "```\n",
    "The U.S. Geological Survey maintains the National Structures Dataset that contains data on Fire/Police Stations, Hospital/Medical Centers, Ambulance Services, etc. We used this data in defining possible drone sites. Fig. 4 shows the 520 potential stations in the study area, among which the stations are selected to equip drones.\n",
    "\n",
    "40 stations are selected to equip the drones.\n",
    "```"
   ]
  },
  {
   "cell_type": "markdown",
   "id": "9aea5f86-b0d0-4216-a1aa-0a5180725103",
   "metadata": {},
   "source": [
    "We select the following types of POIs:\n",
    "- 343|\"0422\"|\"POLICE STATIONS\"|\"33\"\n",
    "- 337|\"0414\"|\"FIRE BRIGADE STATIONS\"|\"33\"\n",
    "- 301|\"0106\"|\"MEDICAL EQUIPMENT RENTAL AND LEASING\"|\"29\"\n",
    "- 302|\"0356\"|\"AMBULANCE AND MEDICAL TRANSPORTATION SERVICES\"|\"29\"\n",
    "- 613|\"0731\"|\"BUS AND COACH STATIONS, DEPOTS AND COMPANIES\"|\"57\"\n",
    "- 614|\"0738\"|\"RAILWAY STATIONS, JUNCTIONS AND HALTS\"|\"57\"\n",
    "- 615|\"0756\"|\"TRAM, METRO AND LIGHT RAILWAY STATIONS AND STOPS\"|\"57\"\n",
    "- 616|\"0758\"|\"TAXI RANKS\"|\"57\"\n",
    "- 617|\"0761\"|\"UNDERGROUND NETWORK STATIONS\"|\"57\"\n",
    "- 618|\"0794\"|\"LONDON UNDERGROUND ENTRANCES\"|\"57\"\n",
    "- 247|\"0293\"|\"GYMNASIUMS, SPORTS HALLS AND LEISURE CENTRES\"|\"24\"\n",
    "- 362|\"0456\"|\"HALLS AND COMMUNITY CENTRES\"|\"34\""
   ]
  },
  {
   "cell_type": "code",
   "execution_count": 10,
   "id": "9f647596-8264-4f39-acc9-c35b8862dfa3",
   "metadata": {},
   "outputs": [],
   "source": [
    "def check_number_POI(list_poi_class):\n",
    "    print(df_poi[df_poi[\"pointx_class\"].astype(str).str.contains('|'.join(list_poi_class))].shape[0])"
   ]
  },
  {
   "cell_type": "code",
   "execution_count": 11,
   "id": "310dd56f-ae43-4679-ad22-a3729ff1660e",
   "metadata": {},
   "outputs": [
    {
     "name": "stdout",
     "output_type": "stream",
     "text": [
      "93\n"
     ]
    }
   ],
   "source": [
    "# how many sites are in these types? Only 8\n",
    "list_poi_class = [\"0422\",\"0414\",\"0106\",\"0356\",\"0293\", \"0456\"]\n",
    "\n",
    "check_number_POI(list_poi_class)"
   ]
  },
  {
   "cell_type": "markdown",
   "id": "c4b53fae-e3c4-4651-b918-e422b2332492",
   "metadata": {},
   "source": [
    "This can be the case study: **SELECT 10 out of 93 candidate sites in the p-median problem (PMP).**"
   ]
  },
  {
   "cell_type": "code",
   "execution_count": 12,
   "id": "0dda0fe1-ec17-4fe4-a63b-d424048e037f",
   "metadata": {},
   "outputs": [],
   "source": [
    "# visualise the map of these POIs\n",
    "list_poi_class = [\"0422\",\"0414\",\"0106\",\"0356\",\"0293\", \"0456\"]\n",
    "df_poi_subset = df_poi[df_poi[\"pointx_class\"].astype(str).str.contains('|'.join(list_poi_class))]"
   ]
  },
  {
   "cell_type": "code",
   "execution_count": 13,
   "id": "990b6e03-9529-445c-a5df-f0578b1d24d9",
   "metadata": {},
   "outputs": [
    {
     "name": "stdout",
     "output_type": "stream",
     "text": [
      "Index(['ref_no', 'name', 'pointx_class', 'feature_easting', 'feature_northing',\n",
      "       'pos_accuracy', 'uprn', 'topo_toid', 'topo_toid_version', 'usrn',\n",
      "       'usrn_mi', 'distance', 'address_detail', 'street_name', 'locality',\n",
      "       'geographic_county', 'postcode', 'admin_boundary', 'telephone_number',\n",
      "       'url', 'brand', 'qualifier_type', 'qualifier_data', 'provenance',\n",
      "       'supply_date'],\n",
      "      dtype='object')\n",
      "93\n"
     ]
    }
   ],
   "source": [
    "print(df_poi_subset.columns)\n",
    "print(df_poi_subset.shape[0])"
   ]
  },
  {
   "cell_type": "code",
   "execution_count": 14,
   "id": "70bfb960-41c8-4ac1-ae42-8601e18d8770",
   "metadata": {},
   "outputs": [],
   "source": [
    "gdf_poi = gpd.GeoDataFrame(\n",
    "    df_poi_subset, geometry=gpd.points_from_xy(df_poi_subset.feature_easting, df_poi_subset.feature_northing))\n",
    "gdf_poi = gdf_poi.set_crs('epsg:27700')"
   ]
  },
  {
   "cell_type": "code",
   "execution_count": 71,
   "id": "129b0c77-8666-4d29-84c0-f0ea22d65a5a",
   "metadata": {},
   "outputs": [
    {
     "name": "stderr",
     "output_type": "stream",
     "text": [
      "/tmp/ipykernel_674/2847825186.py:2: UserWarning: Column names longer than 10 characters will be truncated when saved to ESRI Shapefile.\n",
      "  gdf_poi.to_file(\"Sites_Liverpool_hub_four.geojson\")\n"
     ]
    }
   ],
   "source": [
    "# write gdf_poi to geojson\n",
    "gdf_poi.to_file(\"Sites_Liverpool_hub_four.geojson\")"
   ]
  },
  {
   "cell_type": "code",
   "execution_count": 15,
   "id": "dafca35b-ef5a-4f6e-a851-a07939aacb24",
   "metadata": {},
   "outputs": [
    {
     "data": {
      "text/plain": [
       "Text(0.5, 1.0, 'Candidate sites in Liverpool Hub Four (93 sites)')"
      ]
     },
     "execution_count": 15,
     "metadata": {},
     "output_type": "execute_result"
    },
    {
     "data": {
      "image/png": "[encoded data removed]",
      "text/plain": [
       "<Figure size 432x288 with 1 Axes>"
      ]
     },
     "metadata": {
      "needs_background": "light"
     },
     "output_type": "display_data"
    }
   ],
   "source": [
    "# plot gdf_poi\n",
    "# read the boundary of Liverpool Hub Four\n",
    "gdf_liverpool_hub_four = gpd.read_file(\"Liverpool_hub_four_neighbourhood.geojson\")\n",
    "ax = gdf_liverpool_hub_four.plot(color='white', edgecolor='black')\n",
    "gdf_poi.plot(ax=ax, color='red')\n",
    "plt.title(\"Candidate sites in Liverpool Hub Four (93 sites)\")"
   ]
  },
  {
   "cell_type": "markdown",
   "id": "9fdb1d7a-bff9-40b8-938b-b2f4702d81da",
   "metadata": {},
   "source": [
    "## Calculate distance matrix"
   ]
  },
  {
   "cell_type": "code",
   "execution_count": 16,
   "id": "acfeb575-37f9-43a6-afdf-58c2319fa6f4",
   "metadata": {},
   "outputs": [],
   "source": [
    "# read in street segments\n",
    "gdf_street_segments = gpd.read_file(\"nkde_crime_Liverpool_hub_four.geojson\")"
   ]
  },
  {
   "cell_type": "code",
   "execution_count": 17,
   "id": "9808c07e-63e4-4b61-85cd-c3c4f9c54103",
   "metadata": {},
   "outputs": [
    {
     "data": {
      "text/plain": [
       "<Projected CRS: EPSG:27700>\n",
       "Name: OSGB 1936 / British National Grid\n",
       "Axis Info [cartesian]:\n",
       "- E[east]: Easting (metre)\n",
       "- N[north]: Northing (metre)\n",
       "Area of Use:\n",
       "- name: United Kingdom (UK) - offshore to boundary of UKCS within 49°45'N to 61°N and 9°W to 2°E; onshore Great Britain (England, Wales and Scotland). Isle of Man onshore.\n",
       "- bounds: (-9.0, 49.75, 2.01, 61.01)\n",
       "Coordinate Operation:\n",
       "- name: British National Grid\n",
       "- method: Transverse Mercator\n",
       "Datum: OSGB 1936\n",
       "- Ellipsoid: Airy 1830\n",
       "- Prime Meridian: Greenwich"
      ]
     },
     "execution_count": 17,
     "metadata": {},
     "output_type": "execute_result"
    }
   ],
   "source": [
    "gdf_street_segments.crs"
   ]
  },
  {
   "cell_type": "code",
   "execution_count": 18,
   "id": "6bdbf47a-e86f-4ae6-85be-0474d484b341",
   "metadata": {},
   "outputs": [],
   "source": [
    "# add demand_id\n",
    "gdf_street_segments[\"demand_id\"] = np.arange(len(gdf_street_segments))\n",
    "# add feature_easting and feature_northing from geometry data\n",
    "gdf_street_segments[\"feature_easting\"], gdf_street_segments[\"feature_northing\"] = gdf_street_segments.geometry.x, gdf_street_segments.geometry.y\n",
    "# transform to WGS84 \n",
    "gdf_street_segments_wgs = gdf_street_segments.to_crs(\"epsg:4326\")\n",
    "gdf_street_segments[\"long\"],gdf_street_segments[\"lat\"] = gdf_street_segments_wgs.geometry.x, gdf_street_segments_wgs.geometry.y "
   ]
  },
  {
   "cell_type": "code",
   "execution_count": 73,
   "id": "165258e4-72cd-4fa4-b350-8858f4a83b6a",
   "metadata": {},
   "outputs": [
    {
     "name": "stderr",
     "output_type": "stream",
     "text": [
      "/tmp/ipykernel_674/4097671834.py:1: UserWarning: Column names longer than 10 characters will be truncated when saved to ESRI Shapefile.\n",
      "  gdf_street_segments.to_file(\"nkde_crime_Liverpool_hub_four.geojson\")\n"
     ]
    }
   ],
   "source": [
    "gdf_street_segments.to_file(\"nkde_crime_Liverpool_hub_four.geojson\")"
   ]
  },
  {
   "cell_type": "code",
   "execution_count": 19,
   "id": "1694bacd-c6fb-411b-abfd-a9d68beec6ff",
   "metadata": {},
   "outputs": [],
   "source": [
    "# add a column of 'site_id' to gdf_poi. get a dataframe of lat, long, easting, northing\n",
    "gdf_poi[\"site_id\"] = np.arange(len(gdf_poi))\n",
    "gdf_poi_wgs = gdf_poi.to_crs(\"epsg:4326\")\n",
    "gdf_poi[\"long\"],gdf_poi[\"lat\"] = gdf_poi_wgs.geometry.x, gdf_poi_wgs.geometry.y "
   ]
  },
  {
   "cell_type": "code",
   "execution_count": 74,
   "id": "4f920f4d-75f3-435b-a7c0-1e741d771674",
   "metadata": {},
   "outputs": [
    {
     "name": "stderr",
     "output_type": "stream",
     "text": [
      "/tmp/ipykernel_674/2847825186.py:2: UserWarning: Column names longer than 10 characters will be truncated when saved to ESRI Shapefile.\n",
      "  gdf_poi.to_file(\"Sites_Liverpool_hub_four.geojson\")\n"
     ]
    }
   ],
   "source": [
    "# write gdf_poi to geojson\n",
    "gdf_poi.to_file(\"Sites_Liverpool_hub_four.geojson\")"
   ]
  },
  {
   "cell_type": "code",
   "execution_count": 20,
   "id": "1c6eb682-9f77-4680-9208-61269c2e5fe9",
   "metadata": {},
   "outputs": [
    {
     "name": "stdout",
     "output_type": "stream",
     "text": [
      "142    -2.962925\n",
      "143    -2.967434\n",
      "1498   -2.915499\n",
      "1505   -2.930720\n",
      "2007   -2.977772\n",
      "dtype: float64\n",
      "142    -2.962925\n",
      "143    -2.967434\n",
      "1498   -2.915499\n",
      "1505   -2.930720\n",
      "2007   -2.977772\n",
      "Name: long, dtype: float64\n"
     ]
    }
   ],
   "source": [
    "print(gdf_poi_wgs.geometry.x.head())\n",
    "print(gdf_poi[\"long\"].head())"
   ]
  },
  {
   "cell_type": "code",
   "execution_count": 21,
   "id": "2674d033-0160-49d3-a5b5-9d9bc2a66db4",
   "metadata": {},
   "outputs": [],
   "source": [
    "df_site = gdf_poi[[\"site_id\", \"long\", \"lat\", \"feature_easting\", \"feature_northing\"]].rename(columns={\"long\":\"site_long\", \"lat\":\"site_lat\", \"feature_easting\":\"site_easting\", \"feature_northing\":\"site_northing\" })"
   ]
  },
  {
   "cell_type": "code",
   "execution_count": 22,
   "id": "65eb9c3b-f773-484b-a486-7a96cf1a0117",
   "metadata": {},
   "outputs": [],
   "source": [
    "df_demand = gdf_street_segments[[\"demand_id\", \"long\", \"lat\", \"feature_easting\", \"feature_northing\"]].rename(columns={\"long\":\"demand_long\", \"lat\":\"demand_lat\", \"feature_easting\":\"demand_easting\", \"feature_northing\":\"demand_northing\" })"
   ]
  },
  {
   "cell_type": "code",
   "execution_count": 23,
   "id": "cbd214e0-8716-494d-844a-08d01c286ad1",
   "metadata": {},
   "outputs": [
    {
     "data": {
      "text/plain": [
       "Index(['site_id', 'site_long', 'site_lat', 'site_easting', 'site_northing',\n",
       "       'demand_id', 'demand_long', 'demand_lat', 'demand_easting',\n",
       "       'demand_northing'],\n",
       "      dtype='object')"
      ]
     },
     "execution_count": 23,
     "metadata": {},
     "output_type": "execute_result"
    }
   ],
   "source": [
    "# cartesian product in pandas\n",
    "df_distance = df_site.merge(df_demand, how='cross')\n",
    "df_distance.columns"
   ]
  },
  {
   "cell_type": "code",
   "execution_count": 174,
   "id": "8159311d-408b-48af-b040-4b5fe3dbf62f",
   "metadata": {},
   "outputs": [
    {
     "name": "stdout",
     "output_type": "stream",
     "text": [
      "93\n",
      "1710\n",
      "0\n"
     ]
    }
   ],
   "source": [
    "print(df_site.shape[0])\n",
    "print(df_demand.shape[0])\n",
    "print(df_distance.shape[0] - df_site.shape[0]*df_demand.shape[0])"
   ]
  },
  {
   "cell_type": "markdown",
   "id": "aa35849a-6e04-47ae-9510-bbae4703dbe1",
   "metadata": {},
   "source": [
    "### Euclidean distance"
   ]
  },
  {
   "cell_type": "code",
   "execution_count": 35,
   "id": "1a0d97d9-647b-455f-a355-178893de75bb",
   "metadata": {},
   "outputs": [
    {
     "data": {
      "text/plain": [
       "site_id              int64\n",
       "site_long          float64\n",
       "site_lat           float64\n",
       "site_easting       float64\n",
       "site_northing      float64\n",
       "demand_id            int64\n",
       "demand_long        float64\n",
       "demand_lat         float64\n",
       "demand_easting     float64\n",
       "demand_northing    float64\n",
       "dtype: object"
      ]
     },
     "execution_count": 35,
     "metadata": {},
     "output_type": "execute_result"
    }
   ],
   "source": [
    "df_distance.dtypes"
   ]
  },
  {
   "cell_type": "code",
   "execution_count": 44,
   "id": "f1e8aa94-04e4-4f4b-bb7b-045b764f5e34",
   "metadata": {},
   "outputs": [],
   "source": [
    "df_distance['Euclidean'] = np.sqrt(np.square(df_distance.demand_easting - df_distance.site_easting) + \n",
    "                                   np.square(df_distance.demand_northing - df_distance.site_northing))"
   ]
  },
  {
   "cell_type": "code",
   "execution_count": 45,
   "id": "80ba00f3-3cd1-4213-964e-20dec03420aa",
   "metadata": {},
   "outputs": [],
   "source": [
    "# test pivot_table\n",
    "df_test = df_distance.iloc[:5,]"
   ]
  },
  {
   "cell_type": "code",
   "execution_count": 46,
   "id": "4e5b3030-90b8-452f-a969-061baabe953e",
   "metadata": {},
   "outputs": [
    {
     "name": "stdout",
     "output_type": "stream",
     "text": [
      "   site_id  site_long   site_lat  site_easting  site_northing  demand_id  \\\n",
      "0        0  -2.962925  53.387372      336054.0       388267.0          0   \n",
      "1        0  -2.962925  53.387372      336054.0       388267.0          1   \n",
      "2        0  -2.962925  53.387372      336054.0       388267.0          2   \n",
      "3        0  -2.962925  53.387372      336054.0       388267.0          3   \n",
      "4        0  -2.962925  53.387372      336054.0       388267.0          4   \n",
      "\n",
      "   demand_long  demand_lat  demand_easting  demand_northing    Euclidean  \n",
      "0    -2.913968   53.394703   339320.415381    389039.829352  3356.595693  \n",
      "1    -2.911149   53.394078   339507.021123    388967.900086  3523.438066  \n",
      "2    -2.908332   53.393448   339693.431628    388895.457235  3693.294068  \n",
      "3    -2.905632   53.392676   339871.898002    388807.293089  3855.938508  \n",
      "4    -2.903149   53.391663   340035.599615    388692.461849  4004.266884  \n"
     ]
    }
   ],
   "source": [
    "print(df_test)"
   ]
  },
  {
   "cell_type": "code",
   "execution_count": 48,
   "id": "11f5fc1a-0b7d-447e-bb75-7f819983878d",
   "metadata": {},
   "outputs": [],
   "source": [
    "df_test_pivot = pd.pivot_table(df_test, values='Euclidean', index=['site_id'],\n",
    "                    columns=['demand_id'], aggfunc=np.sum)"
   ]
  },
  {
   "cell_type": "code",
   "execution_count": 50,
   "id": "00404cf7-0f73-4f4b-9d15-a96ef32870e7",
   "metadata": {},
   "outputs": [
    {
     "data": {
      "text/plain": [
       "Int64Index([0, 1, 2, 3, 4], dtype='int64', name='demand_id')"
      ]
     },
     "execution_count": 50,
     "metadata": {},
     "output_type": "execute_result"
    }
   ],
   "source": [
    "df_test_pivot.columns"
   ]
  },
  {
   "cell_type": "code",
   "execution_count": 75,
   "id": "edde528e-d27d-47b2-97b7-572a8f36ee35",
   "metadata": {},
   "outputs": [
    {
     "data": {
      "text/plain": [
       "Index(['site_id', 'site_long', 'site_lat', 'site_easting', 'site_northing',\n",
       "       'demand_id', 'demand_long', 'demand_lat', 'demand_easting',\n",
       "       'demand_northing', 'Euclidean'],\n",
       "      dtype='object')"
      ]
     },
     "execution_count": 75,
     "metadata": {},
     "output_type": "execute_result"
    }
   ],
   "source": [
    "df_distance.columns"
   ]
  },
  {
   "cell_type": "code",
   "execution_count": 53,
   "id": "b1c5ff17-5988-4649-9c9b-72d04ca8a788",
   "metadata": {},
   "outputs": [],
   "source": [
    "# The distance matrix required by spopt is a M*N matrix, with M rows and N columns corresponding to demands and sites\n",
    "df_distance_pivot_Euclidean = pd.pivot_table(df_distance, values='Euclidean', index=['demand_id'],\n",
    "                    columns=['site_id'], aggfunc=np.sum)"
   ]
  },
  {
   "cell_type": "code",
   "execution_count": 55,
   "id": "5509cb50-eddc-447f-8848-dd2dcb4320b1",
   "metadata": {},
   "outputs": [
    {
     "name": "stdout",
     "output_type": "stream",
     "text": [
      "Int64Index([   0,    1,    2,    3,    4,    5,    6,    7,    8,    9,\n",
      "            ...\n",
      "            1700, 1701, 1702, 1703, 1704, 1705, 1706, 1707, 1708, 1709],\n",
      "           dtype='int64', name='demand_id', length=1710)\n",
      "Int64Index([ 0,  1,  2,  3,  4,  5,  6,  7,  8,  9, 10, 11, 12, 13, 14, 15, 16,\n",
      "            17, 18, 19, 20, 21, 22, 23, 24, 25, 26, 27, 28, 29, 30, 31, 32, 33,\n",
      "            34, 35, 36, 37, 38, 39, 40, 41, 42, 43, 44, 45, 46, 47, 48, 49, 50,\n",
      "            51, 52, 53, 54, 55, 56, 57, 58, 59, 60, 61, 62, 63, 64, 65, 66, 67,\n",
      "            68, 69, 70, 71, 72, 73, 74, 75, 76, 77, 78, 79, 80, 81, 82, 83, 84,\n",
      "            85, 86, 87, 88, 89, 90, 91, 92],\n",
      "           dtype='int64', name='site_id')\n"
     ]
    }
   ],
   "source": [
    "print(df_distance_pivot_Euclidean.index)\n",
    "print(df_distance_pivot_Euclidean.columns)"
   ]
  },
  {
   "cell_type": "code",
   "execution_count": 57,
   "id": "fe09bb58-8066-42ab-8d66-277877782d3f",
   "metadata": {},
   "outputs": [],
   "source": [
    "# save as Euclidean_distance_site_demand.csv\n",
    "file_distance_Euclidean = 'distance_matrix_demand_site_Euclidean.csv'\n",
    "df_distance_pivot_Euclidean.to_csv(file_distance_Euclidean)"
   ]
  },
  {
   "cell_type": "code",
   "execution_count": 61,
   "id": "48c424eb-97c7-4365-90ce-a13bcd3a37b9",
   "metadata": {},
   "outputs": [],
   "source": [
    "# read in this csv and transform it into an ndarray. \n",
    "array_distance_Eudlidean = utilities.read_distance_matrix_as_np_array(file_distance_Euclidean)\n",
    "# array_distance_Eudlidean is a numpy array, with rows and columns corresponding to demands and sites, respectively"
   ]
  },
  {
   "cell_type": "code",
   "execution_count": 82,
   "id": "4294ca01-e885-408c-a58d-47da1003eeb2",
   "metadata": {},
   "outputs": [],
   "source": [
    "assert(array_distance_Eudlidean.shape == (1710, 93))"
   ]
  },
  {
   "cell_type": "markdown",
   "id": "08de4d3c-145f-4bdf-905f-a19827c225d7",
   "metadata": {},
   "source": [
    "### Network distance"
   ]
  },
  {
   "cell_type": "code",
   "execution_count": null,
   "id": "634e9a26-fc15-42f4-9386-bb6e313f22fc",
   "metadata": {},
   "outputs": [],
   "source": [
    "# using OSRM"
   ]
  },
  {
   "cell_type": "code",
   "execution_count": null,
   "id": "608f4289-c4c2-47a1-a5b4-b8a9b158fb10",
   "metadata": {},
   "outputs": [],
   "source": [
    "df_distance['network'] = ??"
   ]
  },
  {
   "cell_type": "code",
   "execution_count": null,
   "id": "b4a63ecd-b53b-4ca4-8e07-ee89dc71a5f3",
   "metadata": {},
   "outputs": [],
   "source": [
    "# The distance matrix required by spopt is a M*N matrix, with M rows and N columns corresponding to demands and sites\n",
    "df_distance_pivot_network = pd.pivot_table(df_distance, values='network', index=['demand_id'],\n",
    "                    columns=['site_id'], aggfunc=np.sum)"
   ]
  },
  {
   "cell_type": "code",
   "execution_count": null,
   "id": "a322583d-d72d-42f4-b8df-a3c3c2d28a67",
   "metadata": {},
   "outputs": [],
   "source": [
    "print(df_distance_pivot_network.index)\n",
    "print(df_distance_pivot_network.columns)"
   ]
  },
  {
   "cell_type": "code",
   "execution_count": null,
   "id": "02d5353c-5490-49b8-9858-8210623ba789",
   "metadata": {},
   "outputs": [],
   "source": [
    "# save as Euclidean_distance_site_demand.csv\n",
    "file_distance_network = 'distance_matrix_demand_site_network.csv'\n",
    "df_distance_pivot_network.to_csv(file_distance_network)"
   ]
  },
  {
   "cell_type": "code",
   "execution_count": null,
   "id": "7ecdba49-9d9f-4d18-84ee-53edbac393ac",
   "metadata": {},
   "outputs": [],
   "source": [
    "array_distance_Eudlidean = utilities.read_distance_matrix_as_np_array(file_distance_network)\n",
    "assert(array_distance_Eudlidean.shape == (1710, 93))"
   ]
  },
  {
   "cell_type": "markdown",
   "id": "e8d2aa38-381b-437c-b431-9cfcc5d96d44",
   "metadata": {},
   "source": [
    "### No-drone-zone-contrained Euclidean distance"
   ]
  },
  {
   "cell_type": "code",
   "execution_count": null,
   "id": "8a666715-7561-41b7-a507-54673d8bf994",
   "metadata": {},
   "outputs": [],
   "source": [
    "# need to find package to compute"
   ]
  },
  {
   "cell_type": "code",
   "execution_count": null,
   "id": "b2949631-88f3-46f0-bf9b-9489a1ac2392",
   "metadata": {},
   "outputs": [],
   "source": [
    "df_distance['constrained'] = ??"
   ]
  },
  {
   "cell_type": "code",
   "execution_count": null,
   "id": "199e3e4e-a082-491a-a463-7390bcc4615a",
   "metadata": {},
   "outputs": [],
   "source": [
    "# The distance matrix required by spopt is a M*N matrix, with M rows and N columns corresponding to demands and sites\n",
    "df_distance_pivot_constrained = pd.pivot_table(df_distance, values='constrained', index=['demand_id'],\n",
    "                    columns=['site_id'], aggfunc=np.sum)"
   ]
  },
  {
   "cell_type": "code",
   "execution_count": null,
   "id": "456846f9-8301-43a3-ae88-510f1aa4c304",
   "metadata": {},
   "outputs": [],
   "source": [
    "print(df_distance_pivot_constrained.index)\n",
    "print(df_distance_pivot_constrained.columns)"
   ]
  },
  {
   "cell_type": "code",
   "execution_count": null,
   "id": "d0bfb9bb-95b9-4afa-bd09-a4cf4f3c4931",
   "metadata": {},
   "outputs": [],
   "source": [
    "# save as Euclidean_distance_site_demand.csv\n",
    "file_distance_cons = 'distance_matrix_demand_site_constrained.csv'\n",
    "df_distance_pivot_constrained.to_csv(file_distance_cons)"
   ]
  },
  {
   "cell_type": "code",
   "execution_count": null,
   "id": "0ff201c3-88dc-4051-8e66-5cbc0c1c7cdc",
   "metadata": {},
   "outputs": [],
   "source": [
    "array_distance_Eudlidean = utilities.read_distance_matrix_as_np_array(file_distance_cons)\n",
    "assert(array_distance_Eudlidean.shape == (1710, 93))"
   ]
  },
  {
   "cell_type": "markdown",
   "id": "1f540c3e-0565-42ca-83a4-b058c3025306",
   "metadata": {},
   "source": [
    "## Save distance dataframe"
   ]
  },
  {
   "cell_type": "code",
   "execution_count": null,
   "id": "eab22f0e-4429-4b2c-bea8-420fe4ed23ee",
   "metadata": {},
   "outputs": [],
   "source": [
    "df_distance.to_csv('distance_dataframe.csv')"
   ]
  }
 ],
 "metadata": {
  "kernelspec": {
   "display_name": "Python 3 (ipykernel)",
   "language": "python",
   "name": "python3"
  },
  "language_info": {
   "codemirror_mode": {
    "name": "ipython",
    "version": 3
   },
   "file_extension": ".py",
   "mimetype": "text/x-python",
   "name": "python",
   "nbconvert_exporter": "python",
   "pygments_lexer": "ipython3",
   "version": "3.9.6"
  }
 },
 "nbformat": 4,
 "nbformat_minor": 5
}
