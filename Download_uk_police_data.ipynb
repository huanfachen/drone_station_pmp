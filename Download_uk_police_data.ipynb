{
 "cells": [
  {
   "cell_type": "markdown",
   "id": "b5060db9-32f0-40f8-95ad-1bcb1731e5d7",
   "metadata": {},
   "source": [
    "# Test UK police client"
   ]
  },
  {
   "cell_type": "code",
   "execution_count": 260,
   "id": "e4ef176e-aac8-4b70-9e08-3426ad848d20",
   "metadata": {},
   "outputs": [],
   "source": [
    "# import package\n",
    "from police_api import PoliceAPI, Crime\n",
    "import re\n",
    "import pandas as pd\n",
    "import geopandas as gpd\n",
    "from shapely.geometry import Polygon\n",
    "import matplotlib.pyplot as plt\n",
    "from matplotlib.pyplot import figure\n",
    "from mpl_toolkits.axes_grid1 import make_axes_locatable\n",
    "import requests\n",
    "\n",
    "# utility functions: new_get_crimes_area\n",
    "import utlities"
   ]
  },
  {
   "cell_type": "markdown",
   "id": "1427c622-ce60-452a-8b05-fae2a1ee359a",
   "metadata": {},
   "source": [
    "## A new function that replaces get_crimes_area"
   ]
  },
  {
   "cell_type": "code",
   "execution_count": 214,
   "id": "95b6d8d6-91b1-4ebb-8699-9aed62f77844",
   "metadata": {},
   "outputs": [
    {
     "name": "stderr",
     "output_type": "stream",
     "text": [
      "DEBUG:urllib3.connectionpool:Starting new HTTPS connection (1): data.police.uk:443\n",
      "DEBUG:urllib3.connectionpool:https://data.police.uk:443 \"POST /api/crimes-street/all-crime HTTP/1.1\" 200 4894\n",
      "DEBUG:urllib3.connectionpool:Starting new HTTPS connection (1): data.police.uk:443\n"
     ]
    },
    {
     "name": "stdout",
     "output_type": "stream",
     "text": [
      "71\n"
     ]
    },
    {
     "name": "stderr",
     "output_type": "stream",
     "text": [
      "DEBUG:urllib3.connectionpool:https://data.police.uk:443 \"POST /api/crimes-street/all-crime HTTP/1.1\" 200 7289\n",
      "DEBUG:police_api.service:GET http://data.police.uk/api/crime-categories\n",
      "DEBUG:urllib3.connectionpool:Starting new HTTP connection (1): data.police.uk:80\n",
      "DEBUG:urllib3.connectionpool:http://data.police.uk:80 \"GET /api/crime-categories?date=2021-10 HTTP/1.1\" 301 134\n",
      "DEBUG:urllib3.connectionpool:Starting new HTTPS connection (1): data.police.uk:443\n",
      "DEBUG:urllib3.connectionpool:https://data.police.uk:443 \"GET /api/crime-categories?date=2021-10 HTTP/1.1\" 200 296\n",
      "DEBUG:urllib3.connectionpool:Starting new HTTPS connection (1): data.police.uk:443\n"
     ]
    },
    {
     "name": "stdout",
     "output_type": "stream",
     "text": [
      "114\n"
     ]
    },
    {
     "name": "stderr",
     "output_type": "stream",
     "text": [
      "DEBUG:urllib3.connectionpool:https://data.police.uk:443 \"POST /api/crimes-street/all-crime HTTP/1.1\" 200 5563\n",
      "DEBUG:police_api.service:GET http://data.police.uk/api/crime-categories\n",
      "DEBUG:urllib3.connectionpool:Starting new HTTP connection (1): data.police.uk:80\n",
      "DEBUG:urllib3.connectionpool:http://data.police.uk:80 \"GET /api/crime-categories?date=2021-01 HTTP/1.1\" 301 134\n",
      "DEBUG:urllib3.connectionpool:Starting new HTTPS connection (1): data.police.uk:443\n",
      "DEBUG:urllib3.connectionpool:https://data.police.uk:443 \"GET /api/crime-categories?date=2021-01 HTTP/1.1\" 200 296\n",
      "DEBUG:urllib3.connectionpool:Starting new HTTPS connection (1): data.police.uk:443\n",
      "DEBUG:urllib3.connectionpool:https://data.police.uk:443 \"POST /api/crimes-street/all-crime HTTP/1.1\" 200 7289\n"
     ]
    },
    {
     "name": "stdout",
     "output_type": "stream",
     "text": [
      "202\n"
     ]
    }
   ],
   "source": [
    "# test new_get_crimes_area\n",
    "boundary_test = [(52.268, 0.543),\n",
    "         (52.794,0.238),\n",
    "         (52.130,0.478)]\n",
    "crimes_test = new_get_crimes_area(boundary_test)\n",
    "print(len(crimes_test))\n",
    "crimes_test = new_get_crimes_area(boundary_test, '2021-10')\n",
    "print(len(crimes_test))\n",
    "crimes_test = new_get_crimes_area(boundary_test, ['2021-1', '2021-10'])\n",
    "print(len(crimes_test))"
   ]
  },
  {
   "cell_type": "code",
   "execution_count": 5,
   "id": "23ff264f-815c-41e1-bcd7-e08d27a42dd9",
   "metadata": {},
   "outputs": [],
   "source": [
    "api = PoliceAPI()"
   ]
  },
  {
   "cell_type": "code",
   "execution_count": 3,
   "id": "633ba614-b67f-4f0e-a214-48f51d3b9532",
   "metadata": {},
   "outputs": [],
   "source": [
    "# get the forces\n",
    "list_force = api.get_forces()"
   ]
  },
  {
   "cell_type": "code",
   "execution_count": 22,
   "id": "57c8c12d-b8a0-495e-9b93-f3d212f5cb2b",
   "metadata": {},
   "outputs": [
    {
     "data": {
      "text/plain": [
       "police_api.forces.Force"
      ]
     },
     "execution_count": 22,
     "metadata": {},
     "output_type": "execute_result"
    }
   ],
   "source": [
    "list_force[0].__class__"
   ]
  },
  {
   "cell_type": "code",
   "execution_count": 16,
   "id": "647591a4-f6fb-4ce1-8a76-aa3322a77e17",
   "metadata": {},
   "outputs": [],
   "source": [
    "# get the force of Merseyside\n",
    "force_mersey = api.get_force('merseyside')"
   ]
  },
  {
   "cell_type": "code",
   "execution_count": 19,
   "id": "0ef85c76-6eb3-4960-87c6-f2ed75f7fa3a",
   "metadata": {},
   "outputs": [
    {
     "data": {
      "text/plain": [
       "<Force> Merseyside Police"
      ]
     },
     "execution_count": 19,
     "metadata": {},
     "output_type": "execute_result"
    }
   ],
   "source": [
    "force_mersey"
   ]
  },
  {
   "cell_type": "markdown",
   "id": "3987a165-736e-4310-9f5a-b613244d3497",
   "metadata": {},
   "source": [
    "According to this [webpage](https://www.merseyside.police.uk/police-forces/merseyside-police/areas/au/about-us/): Merseyside Police is split into five local policing teams - Wirral, Sefton, Knowsley, St Helens and Liverpool.  Each area has a combination of community policing teams, response teams and criminal investigations units.\n",
    "\n",
    "The code below lists all neighbourhoods in Merseyside Police. There are 10 neighhourhoods, four of which are in Liverpool."
   ]
  },
  {
   "cell_type": "code",
   "execution_count": 21,
   "id": "790eeb54-01ed-4560-8d1e-2b9989f5cbdf",
   "metadata": {},
   "outputs": [
    {
     "name": "stdout",
     "output_type": "stream",
     "text": [
      "C1C2C3 -- Knowsley Community Police Team\n",
      "E7E8E9 -- Liverpool Community Police Team - Hub Four\n",
      "E1E3 -- Liverpool Community Police Team - Hub One\n",
      "E5E6 -- Liverpool Community Police Team - Hub Three\n",
      "E2E4 -- Liverpool Community Police Team - Hub Two\n",
      "B1 -- Sefton Community Police Team - Hub One\n",
      "B3 -- Sefton Community Police Team - Hub Two\n",
      "D1D2D3 -- St Helens Community Police Team\n",
      "A1A2 -- Wirral Community Police Team - Hub One\n",
      "A3A4 -- Wirral Community Police Team - Hub Two\n"
     ]
    }
   ],
   "source": [
    "for nei in force_mersey.neighbourhoods:\n",
    "    print(\"{0} -- {1}\".format(nei.id, nei.name))"
   ]
  },
  {
   "cell_type": "code",
   "execution_count": 18,
   "id": "4078d0a8-51c4-4c8a-aaec-45dd60e1f77f",
   "metadata": {},
   "outputs": [
    {
     "data": {
      "text/plain": [
       "[<Neighbourhood> C1C2C3,\n",
       " <Neighbourhood> E7E8E9,\n",
       " <Neighbourhood> E1E3,\n",
       " <Neighbourhood> E5E6,\n",
       " <Neighbourhood> E2E4,\n",
       " <Neighbourhood> B1,\n",
       " <Neighbourhood> B3,\n",
       " <Neighbourhood> D1D2D3,\n",
       " <Neighbourhood> A1A2,\n",
       " <Neighbourhood> A3A4]"
      ]
     },
     "execution_count": 18,
     "metadata": {},
     "output_type": "execute_result"
    }
   ],
   "source": [
    "# neighbourhood\n",
    "force_mersey.neighbourhoods"
   ]
  },
  {
   "cell_type": "code",
   "execution_count": 33,
   "id": "169178e1-159b-4c3d-a654-a69d39ef28a3",
   "metadata": {},
   "outputs": [
    {
     "name": "stdout",
     "output_type": "stream",
     "text": [
      "<class 'list'>\n",
      "<class 'tuple'>\n"
     ]
    }
   ],
   "source": [
    "print(nbh_liverpool_hubone.boundary.__class__)\n",
    "print(nbh_liverpool_hubone.boundary[0].__class__)"
   ]
  },
  {
   "cell_type": "code",
   "execution_count": 35,
   "id": "38bd3f8f-ff9c-4e71-9b3a-4ccacb3e840f",
   "metadata": {},
   "outputs": [
    {
     "data": {
      "text/plain": [
       "53.443247955179"
      ]
     },
     "execution_count": 35,
     "metadata": {},
     "output_type": "execute_result"
    }
   ],
   "source": [
    "[p[0] for p in nbh_liverpool_hubone.boundary[0]]"
   ]
  },
  {
   "cell_type": "markdown",
   "id": "b2ea2c06-35f9-4865-b0fa-c5483aa91694",
   "metadata": {},
   "source": [
    "### Which neighbourhood has the most crime in 2021?"
   ]
  },
  {
   "cell_type": "code",
   "execution_count": 38,
   "id": "e7fe2916-76ba-4fe7-a1f1-4c918ef0b68c",
   "metadata": {},
   "outputs": [],
   "source": [
    "list_coord = nbh_liverpool_hubone.boundary\n",
    "poly_test = Polygon([[p[0], p[1]] for p in list_coord])"
   ]
  },
  {
   "cell_type": "code",
   "execution_count": 218,
   "id": "55fb0ebd-4f79-40fa-9c39-1f4cc9d65dcb",
   "metadata": {},
   "outputs": [],
   "source": [
    "# get crime between 2021-01-01 to 2021-12-31\n",
    "months_2021 = ['2021-{}'.format(month) for month in range(1,13)]"
   ]
  },
  {
   "cell_type": "code",
   "execution_count": 220,
   "id": "7c6585f6-562f-49bb-91d4-95e9bd5c751a",
   "metadata": {},
   "outputs": [
    {
     "name": "stderr",
     "output_type": "stream",
     "text": [
      "DEBUG:urllib3.connectionpool:Starting new HTTPS connection (1): data.police.uk:443\n",
      "DEBUG:urllib3.connectionpool:https://data.police.uk:443 \"POST /api/crimes-street/all-crime HTTP/1.1\" 200 77885\n",
      "DEBUG:urllib3.connectionpool:Starting new HTTPS connection (1): data.police.uk:443\n",
      "DEBUG:urllib3.connectionpool:https://data.police.uk:443 \"POST /api/crimes-street/all-crime HTTP/1.1\" 200 78271\n",
      "DEBUG:police_api.service:GET http://data.police.uk/api/crime-categories\n",
      "DEBUG:urllib3.connectionpool:Starting new HTTP connection (1): data.police.uk:80\n",
      "DEBUG:urllib3.connectionpool:http://data.police.uk:80 \"GET /api/crime-categories?date=2021-02 HTTP/1.1\" 301 134\n",
      "DEBUG:urllib3.connectionpool:Starting new HTTPS connection (1): data.police.uk:443\n",
      "DEBUG:urllib3.connectionpool:https://data.police.uk:443 \"GET /api/crime-categories?date=2021-02 HTTP/1.1\" 200 296\n",
      "DEBUG:urllib3.connectionpool:Starting new HTTPS connection (1): data.police.uk:443\n",
      "DEBUG:urllib3.connectionpool:https://data.police.uk:443 \"POST /api/crimes-street/all-crime HTTP/1.1\" 200 99849\n",
      "DEBUG:police_api.service:GET http://data.police.uk/api/crime-categories\n",
      "DEBUG:urllib3.connectionpool:Starting new HTTP connection (1): data.police.uk:80\n",
      "DEBUG:urllib3.connectionpool:http://data.police.uk:80 \"GET /api/crime-categories?date=2021-03 HTTP/1.1\" 301 134\n",
      "DEBUG:urllib3.connectionpool:Starting new HTTPS connection (1): data.police.uk:443\n",
      "DEBUG:urllib3.connectionpool:https://data.police.uk:443 \"GET /api/crime-categories?date=2021-03 HTTP/1.1\" 200 296\n",
      "DEBUG:urllib3.connectionpool:Starting new HTTPS connection (1): data.police.uk:443\n",
      "DEBUG:urllib3.connectionpool:https://data.police.uk:443 \"POST /api/crimes-street/all-crime HTTP/1.1\" 200 91520\n",
      "DEBUG:police_api.service:GET http://data.police.uk/api/crime-categories\n",
      "DEBUG:urllib3.connectionpool:Starting new HTTP connection (1): data.police.uk:80\n",
      "DEBUG:urllib3.connectionpool:http://data.police.uk:80 \"GET /api/crime-categories?date=2021-04 HTTP/1.1\" 301 134\n",
      "DEBUG:urllib3.connectionpool:Starting new HTTPS connection (1): data.police.uk:443\n",
      "DEBUG:urllib3.connectionpool:https://data.police.uk:443 \"GET /api/crime-categories?date=2021-04 HTTP/1.1\" 200 296\n",
      "DEBUG:urllib3.connectionpool:Starting new HTTPS connection (1): data.police.uk:443\n",
      "DEBUG:urllib3.connectionpool:https://data.police.uk:443 \"POST /api/crimes-street/all-crime HTTP/1.1\" 200 92788\n",
      "DEBUG:police_api.service:GET http://data.police.uk/api/crime-categories\n",
      "DEBUG:urllib3.connectionpool:Starting new HTTP connection (1): data.police.uk:80\n",
      "DEBUG:urllib3.connectionpool:http://data.police.uk:80 \"GET /api/crime-categories?date=2021-05 HTTP/1.1\" 301 134\n",
      "DEBUG:urllib3.connectionpool:Starting new HTTPS connection (1): data.police.uk:443\n",
      "DEBUG:urllib3.connectionpool:https://data.police.uk:443 \"GET /api/crime-categories?date=2021-05 HTTP/1.1\" 200 296\n",
      "DEBUG:urllib3.connectionpool:Starting new HTTPS connection (1): data.police.uk:443\n",
      "DEBUG:urllib3.connectionpool:https://data.police.uk:443 \"POST /api/crimes-street/all-crime HTTP/1.1\" 200 94836\n",
      "DEBUG:police_api.service:GET http://data.police.uk/api/crime-categories\n",
      "DEBUG:urllib3.connectionpool:Starting new HTTP connection (1): data.police.uk:80\n",
      "DEBUG:urllib3.connectionpool:http://data.police.uk:80 \"GET /api/crime-categories?date=2021-06 HTTP/1.1\" 301 134\n",
      "DEBUG:urllib3.connectionpool:Starting new HTTPS connection (1): data.police.uk:443\n",
      "DEBUG:urllib3.connectionpool:https://data.police.uk:443 \"GET /api/crime-categories?date=2021-06 HTTP/1.1\" 200 296\n",
      "DEBUG:urllib3.connectionpool:Starting new HTTPS connection (1): data.police.uk:443\n",
      "DEBUG:urllib3.connectionpool:https://data.police.uk:443 \"POST /api/crimes-street/all-crime HTTP/1.1\" 200 103344\n",
      "DEBUG:police_api.service:GET http://data.police.uk/api/crime-categories\n",
      "DEBUG:urllib3.connectionpool:Starting new HTTP connection (1): data.police.uk:80\n",
      "DEBUG:urllib3.connectionpool:http://data.police.uk:80 \"GET /api/crime-categories?date=2021-07 HTTP/1.1\" 301 134\n",
      "DEBUG:urllib3.connectionpool:Starting new HTTPS connection (1): data.police.uk:443\n",
      "DEBUG:urllib3.connectionpool:https://data.police.uk:443 \"GET /api/crime-categories?date=2021-07 HTTP/1.1\" 200 296\n",
      "DEBUG:urllib3.connectionpool:Starting new HTTPS connection (1): data.police.uk:443\n",
      "DEBUG:urllib3.connectionpool:https://data.police.uk:443 \"POST /api/crimes-street/all-crime HTTP/1.1\" 200 90576\n",
      "DEBUG:police_api.service:GET http://data.police.uk/api/crime-categories\n",
      "DEBUG:urllib3.connectionpool:Starting new HTTP connection (1): data.police.uk:80\n",
      "DEBUG:urllib3.connectionpool:http://data.police.uk:80 \"GET /api/crime-categories?date=2021-08 HTTP/1.1\" 301 134\n",
      "DEBUG:urllib3.connectionpool:Starting new HTTPS connection (1): data.police.uk:443\n",
      "DEBUG:urllib3.connectionpool:https://data.police.uk:443 \"GET /api/crime-categories?date=2021-08 HTTP/1.1\" 200 296\n",
      "DEBUG:urllib3.connectionpool:Starting new HTTPS connection (1): data.police.uk:443\n",
      "DEBUG:urllib3.connectionpool:https://data.police.uk:443 \"POST /api/crimes-street/all-crime HTTP/1.1\" 200 95760\n",
      "DEBUG:police_api.service:GET http://data.police.uk/api/crime-categories\n",
      "DEBUG:urllib3.connectionpool:Starting new HTTP connection (1): data.police.uk:80\n",
      "DEBUG:urllib3.connectionpool:http://data.police.uk:80 \"GET /api/crime-categories?date=2021-09 HTTP/1.1\" 301 134\n",
      "DEBUG:urllib3.connectionpool:Starting new HTTPS connection (1): data.police.uk:443\n",
      "DEBUG:urllib3.connectionpool:https://data.police.uk:443 \"GET /api/crime-categories?date=2021-09 HTTP/1.1\" 200 296\n",
      "DEBUG:urllib3.connectionpool:Starting new HTTPS connection (1): data.police.uk:443\n",
      "DEBUG:urllib3.connectionpool:https://data.police.uk:443 \"POST /api/crimes-street/all-crime HTTP/1.1\" 200 97939\n",
      "DEBUG:urllib3.connectionpool:Starting new HTTPS connection (1): data.police.uk:443\n",
      "DEBUG:urllib3.connectionpool:https://data.police.uk:443 \"POST /api/crimes-street/all-crime HTTP/1.1\" 200 91964\n",
      "DEBUG:police_api.service:GET http://data.police.uk/api/crime-categories\n",
      "DEBUG:urllib3.connectionpool:Starting new HTTP connection (1): data.police.uk:80\n",
      "DEBUG:urllib3.connectionpool:http://data.police.uk:80 \"GET /api/crime-categories?date=2021-11 HTTP/1.1\" 301 134\n",
      "DEBUG:urllib3.connectionpool:Starting new HTTPS connection (1): data.police.uk:443\n",
      "DEBUG:urllib3.connectionpool:https://data.police.uk:443 \"GET /api/crime-categories?date=2021-11 HTTP/1.1\" 200 296\n",
      "DEBUG:urllib3.connectionpool:Starting new HTTPS connection (1): data.police.uk:443\n",
      "DEBUG:urllib3.connectionpool:https://data.police.uk:443 \"POST /api/crimes-street/all-crime HTTP/1.1\" 200 81080\n",
      "DEBUG:police_api.service:GET http://data.police.uk/api/crime-categories\n",
      "DEBUG:urllib3.connectionpool:Starting new HTTP connection (1): data.police.uk:80\n",
      "DEBUG:urllib3.connectionpool:http://data.police.uk:80 \"GET /api/crime-categories?date=2021-12 HTTP/1.1\" 301 134\n",
      "DEBUG:urllib3.connectionpool:Starting new HTTPS connection (1): data.police.uk:443\n",
      "DEBUG:urllib3.connectionpool:https://data.police.uk:443 \"GET /api/crime-categories?date=2021-12 HTTP/1.1\" 200 296\n",
      "DEBUG:urllib3.connectionpool:Starting new HTTPS connection (1): data.police.uk:443\n",
      "DEBUG:urllib3.connectionpool:https://data.police.uk:443 \"POST /api/crimes-street/all-crime HTTP/1.1\" 200 99933\n",
      "DEBUG:urllib3.connectionpool:Starting new HTTPS connection (1): data.police.uk:443\n",
      "DEBUG:urllib3.connectionpool:https://data.police.uk:443 \"POST /api/crimes-street/all-crime HTTP/1.1\" 200 91945\n",
      "DEBUG:urllib3.connectionpool:Starting new HTTPS connection (1): data.police.uk:443\n",
      "DEBUG:urllib3.connectionpool:https://data.police.uk:443 \"POST /api/crimes-street/all-crime HTTP/1.1\" 200 111057\n",
      "DEBUG:urllib3.connectionpool:Starting new HTTPS connection (1): data.police.uk:443\n",
      "DEBUG:urllib3.connectionpool:https://data.police.uk:443 \"POST /api/crimes-street/all-crime HTTP/1.1\" 200 118563\n",
      "DEBUG:urllib3.connectionpool:Starting new HTTPS connection (1): data.police.uk:443\n",
      "DEBUG:urllib3.connectionpool:https://data.police.uk:443 \"POST /api/crimes-street/all-crime HTTP/1.1\" 200 146511\n",
      "DEBUG:urllib3.connectionpool:Starting new HTTPS connection (1): data.police.uk:443\n",
      "DEBUG:urllib3.connectionpool:https://data.police.uk:443 \"POST /api/crimes-street/all-crime HTTP/1.1\" 200 152330\n",
      "DEBUG:urllib3.connectionpool:Starting new HTTPS connection (1): data.police.uk:443\n",
      "DEBUG:urllib3.connectionpool:https://data.police.uk:443 \"POST /api/crimes-street/all-crime HTTP/1.1\" 200 154210\n",
      "DEBUG:urllib3.connectionpool:Starting new HTTPS connection (1): data.police.uk:443\n",
      "DEBUG:urllib3.connectionpool:https://data.police.uk:443 \"POST /api/crimes-street/all-crime HTTP/1.1\" 200 149671\n",
      "DEBUG:urllib3.connectionpool:Starting new HTTPS connection (1): data.police.uk:443\n",
      "DEBUG:urllib3.connectionpool:https://data.police.uk:443 \"POST /api/crimes-street/all-crime HTTP/1.1\" 200 156112\n",
      "DEBUG:urllib3.connectionpool:Starting new HTTPS connection (1): data.police.uk:443\n",
      "DEBUG:urllib3.connectionpool:https://data.police.uk:443 \"POST /api/crimes-street/all-crime HTTP/1.1\" 200 192340\n",
      "DEBUG:urllib3.connectionpool:Starting new HTTPS connection (1): data.police.uk:443\n",
      "DEBUG:urllib3.connectionpool:https://data.police.uk:443 \"POST /api/crimes-street/all-crime HTTP/1.1\" 200 170084\n",
      "DEBUG:urllib3.connectionpool:Starting new HTTPS connection (1): data.police.uk:443\n",
      "DEBUG:urllib3.connectionpool:https://data.police.uk:443 \"POST /api/crimes-street/all-crime HTTP/1.1\" 200 151337\n",
      "DEBUG:urllib3.connectionpool:Starting new HTTPS connection (1): data.police.uk:443\n",
      "DEBUG:urllib3.connectionpool:https://data.police.uk:443 \"POST /api/crimes-street/all-crime HTTP/1.1\" 200 105670\n",
      "DEBUG:urllib3.connectionpool:Starting new HTTPS connection (1): data.police.uk:443\n",
      "DEBUG:urllib3.connectionpool:https://data.police.uk:443 \"POST /api/crimes-street/all-crime HTTP/1.1\" 200 106687\n",
      "DEBUG:urllib3.connectionpool:Starting new HTTPS connection (1): data.police.uk:443\n",
      "DEBUG:urllib3.connectionpool:https://data.police.uk:443 \"POST /api/crimes-street/all-crime HTTP/1.1\" 200 124746\n",
      "DEBUG:urllib3.connectionpool:Starting new HTTPS connection (1): data.police.uk:443\n",
      "DEBUG:urllib3.connectionpool:https://data.police.uk:443 \"POST /api/crimes-street/all-crime HTTP/1.1\" 200 118959\n",
      "DEBUG:urllib3.connectionpool:Starting new HTTPS connection (1): data.police.uk:443\n",
      "DEBUG:urllib3.connectionpool:https://data.police.uk:443 \"POST /api/crimes-street/all-crime HTTP/1.1\" 200 128701\n",
      "DEBUG:urllib3.connectionpool:Starting new HTTPS connection (1): data.police.uk:443\n",
      "DEBUG:urllib3.connectionpool:https://data.police.uk:443 \"POST /api/crimes-street/all-crime HTTP/1.1\" 200 135930\n",
      "DEBUG:urllib3.connectionpool:Starting new HTTPS connection (1): data.police.uk:443\n",
      "DEBUG:urllib3.connectionpool:https://data.police.uk:443 \"POST /api/crimes-street/all-crime HTTP/1.1\" 200 140354\n",
      "DEBUG:urllib3.connectionpool:Starting new HTTPS connection (1): data.police.uk:443\n",
      "DEBUG:urllib3.connectionpool:https://data.police.uk:443 \"POST /api/crimes-street/all-crime HTTP/1.1\" 200 132880\n",
      "DEBUG:urllib3.connectionpool:Starting new HTTPS connection (1): data.police.uk:443\n",
      "DEBUG:urllib3.connectionpool:https://data.police.uk:443 \"POST /api/crimes-street/all-crime HTTP/1.1\" 200 127506\n",
      "DEBUG:urllib3.connectionpool:Starting new HTTPS connection (1): data.police.uk:443\n",
      "DEBUG:urllib3.connectionpool:https://data.police.uk:443 \"POST /api/crimes-street/all-crime HTTP/1.1\" 200 135006\n",
      "DEBUG:urllib3.connectionpool:Starting new HTTPS connection (1): data.police.uk:443\n",
      "DEBUG:urllib3.connectionpool:https://data.police.uk:443 \"POST /api/crimes-street/all-crime HTTP/1.1\" 200 132646\n",
      "DEBUG:urllib3.connectionpool:Starting new HTTPS connection (1): data.police.uk:443\n",
      "DEBUG:urllib3.connectionpool:https://data.police.uk:443 \"POST /api/crimes-street/all-crime HTTP/1.1\" 200 118639\n",
      "DEBUG:urllib3.connectionpool:Starting new HTTPS connection (1): data.police.uk:443\n",
      "DEBUG:urllib3.connectionpool:https://data.police.uk:443 \"POST /api/crimes-street/all-crime HTTP/1.1\" 200 37004\n",
      "DEBUG:urllib3.connectionpool:Starting new HTTPS connection (1): data.police.uk:443\n",
      "DEBUG:urllib3.connectionpool:https://data.police.uk:443 \"POST /api/crimes-street/all-crime HTTP/1.1\" 200 38036\n",
      "DEBUG:urllib3.connectionpool:Starting new HTTPS connection (1): data.police.uk:443\n",
      "DEBUG:urllib3.connectionpool:https://data.police.uk:443 \"POST /api/crimes-street/all-crime HTTP/1.1\" 200 47763\n",
      "DEBUG:urllib3.connectionpool:Starting new HTTPS connection (1): data.police.uk:443\n",
      "DEBUG:urllib3.connectionpool:https://data.police.uk:443 \"POST /api/crimes-street/all-crime HTTP/1.1\" 200 46485\n",
      "DEBUG:urllib3.connectionpool:Starting new HTTPS connection (1): data.police.uk:443\n",
      "DEBUG:urllib3.connectionpool:https://data.police.uk:443 \"POST /api/crimes-street/all-crime HTTP/1.1\" 200 48885\n",
      "DEBUG:urllib3.connectionpool:Starting new HTTPS connection (1): data.police.uk:443\n",
      "DEBUG:urllib3.connectionpool:https://data.police.uk:443 \"POST /api/crimes-street/all-crime HTTP/1.1\" 200 49172\n",
      "DEBUG:urllib3.connectionpool:Starting new HTTPS connection (1): data.police.uk:443\n",
      "DEBUG:urllib3.connectionpool:https://data.police.uk:443 \"POST /api/crimes-street/all-crime HTTP/1.1\" 200 56989\n",
      "DEBUG:urllib3.connectionpool:Starting new HTTPS connection (1): data.police.uk:443\n",
      "DEBUG:urllib3.connectionpool:https://data.police.uk:443 \"POST /api/crimes-street/all-crime HTTP/1.1\" 200 43558\n",
      "DEBUG:urllib3.connectionpool:Starting new HTTPS connection (1): data.police.uk:443\n",
      "DEBUG:urllib3.connectionpool:https://data.police.uk:443 \"POST /api/crimes-street/all-crime HTTP/1.1\" 200 48679\n",
      "DEBUG:urllib3.connectionpool:Starting new HTTPS connection (1): data.police.uk:443\n",
      "DEBUG:urllib3.connectionpool:https://data.police.uk:443 \"POST /api/crimes-street/all-crime HTTP/1.1\" 200 49189\n",
      "DEBUG:urllib3.connectionpool:Starting new HTTPS connection (1): data.police.uk:443\n",
      "DEBUG:urllib3.connectionpool:https://data.police.uk:443 \"POST /api/crimes-street/all-crime HTTP/1.1\" 200 48995\n",
      "DEBUG:urllib3.connectionpool:Starting new HTTPS connection (1): data.police.uk:443\n",
      "DEBUG:urllib3.connectionpool:https://data.police.uk:443 \"POST /api/crimes-street/all-crime HTTP/1.1\" 200 42841\n",
      "DEBUG:urllib3.connectionpool:Starting new HTTPS connection (1): data.police.uk:443\n",
      "DEBUG:urllib3.connectionpool:https://data.police.uk:443 \"POST /api/crimes-street/all-crime HTTP/1.1\" 200 66783\n",
      "DEBUG:urllib3.connectionpool:Starting new HTTPS connection (1): data.police.uk:443\n",
      "DEBUG:urllib3.connectionpool:https://data.police.uk:443 \"POST /api/crimes-street/all-crime HTTP/1.1\" 200 69849\n",
      "DEBUG:urllib3.connectionpool:Starting new HTTPS connection (1): data.police.uk:443\n",
      "DEBUG:urllib3.connectionpool:https://data.police.uk:443 \"POST /api/crimes-street/all-crime HTTP/1.1\" 200 82784\n",
      "DEBUG:urllib3.connectionpool:Starting new HTTPS connection (1): data.police.uk:443\n",
      "DEBUG:urllib3.connectionpool:https://data.police.uk:443 \"POST /api/crimes-street/all-crime HTTP/1.1\" 200 74362\n",
      "DEBUG:urllib3.connectionpool:Starting new HTTPS connection (1): data.police.uk:443\n",
      "DEBUG:urllib3.connectionpool:https://data.police.uk:443 \"POST /api/crimes-street/all-crime HTTP/1.1\" 200 80075\n",
      "DEBUG:urllib3.connectionpool:Starting new HTTPS connection (1): data.police.uk:443\n",
      "DEBUG:urllib3.connectionpool:https://data.police.uk:443 \"POST /api/crimes-street/all-crime HTTP/1.1\" 200 82406\n",
      "DEBUG:urllib3.connectionpool:Starting new HTTPS connection (1): data.police.uk:443\n",
      "DEBUG:urllib3.connectionpool:https://data.police.uk:443 \"POST /api/crimes-street/all-crime HTTP/1.1\" 200 86762\n",
      "DEBUG:urllib3.connectionpool:Starting new HTTPS connection (1): data.police.uk:443\n",
      "DEBUG:urllib3.connectionpool:https://data.police.uk:443 \"POST /api/crimes-street/all-crime HTTP/1.1\" 200 76920\n",
      "DEBUG:urllib3.connectionpool:Starting new HTTPS connection (1): data.police.uk:443\n",
      "DEBUG:urllib3.connectionpool:https://data.police.uk:443 \"POST /api/crimes-street/all-crime HTTP/1.1\" 200 81420\n",
      "DEBUG:urllib3.connectionpool:Starting new HTTPS connection (1): data.police.uk:443\n",
      "DEBUG:urllib3.connectionpool:https://data.police.uk:443 \"POST /api/crimes-street/all-crime HTTP/1.1\" 200 84947\n",
      "DEBUG:urllib3.connectionpool:Starting new HTTPS connection (1): data.police.uk:443\n",
      "DEBUG:urllib3.connectionpool:https://data.police.uk:443 \"POST /api/crimes-street/all-crime HTTP/1.1\" 200 84756\n",
      "DEBUG:urllib3.connectionpool:Starting new HTTPS connection (1): data.police.uk:443\n",
      "DEBUG:urllib3.connectionpool:https://data.police.uk:443 \"POST /api/crimes-street/all-crime HTTP/1.1\" 200 69477\n",
      "DEBUG:urllib3.connectionpool:Starting new HTTPS connection (1): data.police.uk:443\n",
      "DEBUG:urllib3.connectionpool:https://data.police.uk:443 \"POST /api/crimes-street/all-crime HTTP/1.1\" 200 76942\n",
      "DEBUG:urllib3.connectionpool:Starting new HTTPS connection (1): data.police.uk:443\n",
      "DEBUG:urllib3.connectionpool:https://data.police.uk:443 \"POST /api/crimes-street/all-crime HTTP/1.1\" 200 76822\n",
      "DEBUG:urllib3.connectionpool:Starting new HTTPS connection (1): data.police.uk:443\n",
      "DEBUG:urllib3.connectionpool:https://data.police.uk:443 \"POST /api/crimes-street/all-crime HTTP/1.1\" 200 93003\n",
      "DEBUG:urllib3.connectionpool:Starting new HTTPS connection (1): data.police.uk:443\n",
      "DEBUG:urllib3.connectionpool:https://data.police.uk:443 \"POST /api/crimes-street/all-crime HTTP/1.1\" 200 92244\n",
      "DEBUG:urllib3.connectionpool:Starting new HTTPS connection (1): data.police.uk:443\n",
      "DEBUG:urllib3.connectionpool:https://data.police.uk:443 \"POST /api/crimes-street/all-crime HTTP/1.1\" 200 95449\n",
      "DEBUG:urllib3.connectionpool:Starting new HTTPS connection (1): data.police.uk:443\n",
      "DEBUG:urllib3.connectionpool:https://data.police.uk:443 \"POST /api/crimes-street/all-crime HTTP/1.1\" 200 106131\n",
      "DEBUG:urllib3.connectionpool:Starting new HTTPS connection (1): data.police.uk:443\n",
      "DEBUG:urllib3.connectionpool:https://data.police.uk:443 \"POST /api/crimes-street/all-crime HTTP/1.1\" 200 110634\n",
      "DEBUG:urllib3.connectionpool:Starting new HTTPS connection (1): data.police.uk:443\n",
      "DEBUG:urllib3.connectionpool:https://data.police.uk:443 \"POST /api/crimes-street/all-crime HTTP/1.1\" 200 93362\n",
      "DEBUG:urllib3.connectionpool:Starting new HTTPS connection (1): data.police.uk:443\n",
      "DEBUG:urllib3.connectionpool:https://data.police.uk:443 \"POST /api/crimes-street/all-crime HTTP/1.1\" 200 96116\n",
      "DEBUG:urllib3.connectionpool:Starting new HTTPS connection (1): data.police.uk:443\n",
      "DEBUG:urllib3.connectionpool:https://data.police.uk:443 \"POST /api/crimes-street/all-crime HTTP/1.1\" 200 108151\n",
      "DEBUG:urllib3.connectionpool:Starting new HTTPS connection (1): data.police.uk:443\n",
      "DEBUG:urllib3.connectionpool:https://data.police.uk:443 \"POST /api/crimes-street/all-crime HTTP/1.1\" 200 99639\n",
      "DEBUG:urllib3.connectionpool:Starting new HTTPS connection (1): data.police.uk:443\n",
      "DEBUG:urllib3.connectionpool:https://data.police.uk:443 \"POST /api/crimes-street/all-crime HTTP/1.1\" 200 87640\n",
      "DEBUG:urllib3.connectionpool:Starting new HTTPS connection (1): data.police.uk:443\n",
      "DEBUG:urllib3.connectionpool:https://data.police.uk:443 \"POST /api/crimes-street/all-crime HTTP/1.1\" 200 41261\n",
      "DEBUG:urllib3.connectionpool:Starting new HTTPS connection (1): data.police.uk:443\n",
      "DEBUG:urllib3.connectionpool:https://data.police.uk:443 \"POST /api/crimes-street/all-crime HTTP/1.1\" 200 40804\n",
      "DEBUG:urllib3.connectionpool:Starting new HTTPS connection (1): data.police.uk:443\n",
      "DEBUG:urllib3.connectionpool:https://data.police.uk:443 \"POST /api/crimes-street/all-crime HTTP/1.1\" 200 50866\n",
      "DEBUG:urllib3.connectionpool:Starting new HTTPS connection (1): data.police.uk:443\n",
      "DEBUG:urllib3.connectionpool:https://data.police.uk:443 \"POST /api/crimes-street/all-crime HTTP/1.1\" 200 57387\n",
      "DEBUG:urllib3.connectionpool:Starting new HTTPS connection (1): data.police.uk:443\n",
      "DEBUG:urllib3.connectionpool:https://data.police.uk:443 \"POST /api/crimes-street/all-crime HTTP/1.1\" 200 53628\n",
      "DEBUG:urllib3.connectionpool:Starting new HTTPS connection (1): data.police.uk:443\n",
      "DEBUG:urllib3.connectionpool:https://data.police.uk:443 \"POST /api/crimes-street/all-crime HTTP/1.1\" 200 59833\n",
      "DEBUG:urllib3.connectionpool:Starting new HTTPS connection (1): data.police.uk:443\n",
      "DEBUG:urllib3.connectionpool:https://data.police.uk:443 \"POST /api/crimes-street/all-crime HTTP/1.1\" 200 69560\n",
      "DEBUG:urllib3.connectionpool:Starting new HTTPS connection (1): data.police.uk:443\n",
      "DEBUG:urllib3.connectionpool:https://data.police.uk:443 \"POST /api/crimes-street/all-crime HTTP/1.1\" 200 66412\n",
      "DEBUG:urllib3.connectionpool:Starting new HTTPS connection (1): data.police.uk:443\n",
      "DEBUG:urllib3.connectionpool:https://data.police.uk:443 \"POST /api/crimes-street/all-crime HTTP/1.1\" 200 66946\n",
      "DEBUG:urllib3.connectionpool:Starting new HTTPS connection (1): data.police.uk:443\n",
      "DEBUG:urllib3.connectionpool:https://data.police.uk:443 \"POST /api/crimes-street/all-crime HTTP/1.1\" 200 57878\n",
      "DEBUG:urllib3.connectionpool:Starting new HTTPS connection (1): data.police.uk:443\n",
      "DEBUG:urllib3.connectionpool:https://data.police.uk:443 \"POST /api/crimes-street/all-crime HTTP/1.1\" 200 58744\n",
      "DEBUG:urllib3.connectionpool:Starting new HTTPS connection (1): data.police.uk:443\n",
      "DEBUG:urllib3.connectionpool:https://data.police.uk:443 \"POST /api/crimes-street/all-crime HTTP/1.1\" 200 48911\n",
      "DEBUG:urllib3.connectionpool:Starting new HTTPS connection (1): data.police.uk:443\n",
      "DEBUG:urllib3.connectionpool:https://data.police.uk:443 \"POST /api/crimes-street/all-crime HTTP/1.1\" 200 90186\n",
      "DEBUG:urllib3.connectionpool:Starting new HTTPS connection (1): data.police.uk:443\n",
      "DEBUG:urllib3.connectionpool:https://data.police.uk:443 \"POST /api/crimes-street/all-crime HTTP/1.1\" 200 87007\n",
      "DEBUG:urllib3.connectionpool:Starting new HTTPS connection (1): data.police.uk:443\n",
      "DEBUG:urllib3.connectionpool:https://data.police.uk:443 \"POST /api/crimes-street/all-crime HTTP/1.1\" 200 113720\n",
      "DEBUG:urllib3.connectionpool:Starting new HTTPS connection (1): data.police.uk:443\n",
      "DEBUG:urllib3.connectionpool:https://data.police.uk:443 \"POST /api/crimes-street/all-crime HTTP/1.1\" 200 111400\n",
      "DEBUG:urllib3.connectionpool:Starting new HTTPS connection (1): data.police.uk:443\n",
      "DEBUG:urllib3.connectionpool:https://data.police.uk:443 \"POST /api/crimes-street/all-crime HTTP/1.1\" 200 122686\n",
      "DEBUG:urllib3.connectionpool:Starting new HTTPS connection (1): data.police.uk:443\n",
      "DEBUG:urllib3.connectionpool:https://data.police.uk:443 \"POST /api/crimes-street/all-crime HTTP/1.1\" 200 119580\n",
      "DEBUG:urllib3.connectionpool:Starting new HTTPS connection (1): data.police.uk:443\n",
      "DEBUG:urllib3.connectionpool:https://data.police.uk:443 \"POST /api/crimes-street/all-crime HTTP/1.1\" 200 132717\n",
      "DEBUG:urllib3.connectionpool:Starting new HTTPS connection (1): data.police.uk:443\n",
      "DEBUG:urllib3.connectionpool:https://data.police.uk:443 \"POST /api/crimes-street/all-crime HTTP/1.1\" 200 120051\n",
      "DEBUG:urllib3.connectionpool:Starting new HTTPS connection (1): data.police.uk:443\n",
      "DEBUG:urllib3.connectionpool:https://data.police.uk:443 \"POST /api/crimes-street/all-crime HTTP/1.1\" 200 128995\n",
      "DEBUG:urllib3.connectionpool:Starting new HTTPS connection (1): data.police.uk:443\n",
      "DEBUG:urllib3.connectionpool:https://data.police.uk:443 \"POST /api/crimes-street/all-crime HTTP/1.1\" 200 127930\n",
      "DEBUG:urllib3.connectionpool:Starting new HTTPS connection (1): data.police.uk:443\n",
      "DEBUG:urllib3.connectionpool:https://data.police.uk:443 \"POST /api/crimes-street/all-crime HTTP/1.1\" 200 120471\n",
      "DEBUG:urllib3.connectionpool:Starting new HTTPS connection (1): data.police.uk:443\n",
      "DEBUG:urllib3.connectionpool:https://data.police.uk:443 \"POST /api/crimes-street/all-crime HTTP/1.1\" 200 115970\n",
      "DEBUG:urllib3.connectionpool:Starting new HTTPS connection (1): data.police.uk:443\n",
      "DEBUG:urllib3.connectionpool:https://data.police.uk:443 \"POST /api/crimes-street/all-crime HTTP/1.1\" 200 52893\n",
      "DEBUG:urllib3.connectionpool:Starting new HTTPS connection (1): data.police.uk:443\n",
      "DEBUG:urllib3.connectionpool:https://data.police.uk:443 \"POST /api/crimes-street/all-crime HTTP/1.1\" 200 55724\n",
      "DEBUG:urllib3.connectionpool:Starting new HTTPS connection (1): data.police.uk:443\n",
      "DEBUG:urllib3.connectionpool:https://data.police.uk:443 \"POST /api/crimes-street/all-crime HTTP/1.1\" 200 68344\n",
      "DEBUG:urllib3.connectionpool:Starting new HTTPS connection (1): data.police.uk:443\n",
      "DEBUG:urllib3.connectionpool:https://data.police.uk:443 \"POST /api/crimes-street/all-crime HTTP/1.1\" 200 71044\n",
      "DEBUG:urllib3.connectionpool:Starting new HTTPS connection (1): data.police.uk:443\n",
      "DEBUG:urllib3.connectionpool:https://data.police.uk:443 \"POST /api/crimes-street/all-crime HTTP/1.1\" 200 69935\n",
      "DEBUG:urllib3.connectionpool:Starting new HTTPS connection (1): data.police.uk:443\n",
      "DEBUG:urllib3.connectionpool:https://data.police.uk:443 \"POST /api/crimes-street/all-crime HTTP/1.1\" 200 72258\n",
      "DEBUG:urllib3.connectionpool:Starting new HTTPS connection (1): data.police.uk:443\n",
      "DEBUG:urllib3.connectionpool:https://data.police.uk:443 \"POST /api/crimes-street/all-crime HTTP/1.1\" 200 77798\n",
      "DEBUG:urllib3.connectionpool:Starting new HTTPS connection (1): data.police.uk:443\n",
      "DEBUG:urllib3.connectionpool:https://data.police.uk:443 \"POST /api/crimes-street/all-crime HTTP/1.1\" 200 71914\n",
      "DEBUG:urllib3.connectionpool:Starting new HTTPS connection (1): data.police.uk:443\n",
      "DEBUG:urllib3.connectionpool:https://data.police.uk:443 \"POST /api/crimes-street/all-crime HTTP/1.1\" 200 77309\n",
      "DEBUG:urllib3.connectionpool:Starting new HTTPS connection (1): data.police.uk:443\n",
      "DEBUG:urllib3.connectionpool:https://data.police.uk:443 \"POST /api/crimes-street/all-crime HTTP/1.1\" 200 75615\n",
      "DEBUG:urllib3.connectionpool:Starting new HTTPS connection (1): data.police.uk:443\n",
      "DEBUG:urllib3.connectionpool:https://data.police.uk:443 \"POST /api/crimes-street/all-crime HTTP/1.1\" 200 76157\n",
      "DEBUG:urllib3.connectionpool:Starting new HTTPS connection (1): data.police.uk:443\n",
      "DEBUG:urllib3.connectionpool:https://data.police.uk:443 \"POST /api/crimes-street/all-crime HTTP/1.1\" 200 69863\n",
      "DEBUG:urllib3.connectionpool:Starting new HTTPS connection (1): data.police.uk:443\n",
      "DEBUG:urllib3.connectionpool:https://data.police.uk:443 \"POST /api/crimes-street/all-crime HTTP/1.1\" 200 80399\n",
      "DEBUG:urllib3.connectionpool:Starting new HTTPS connection (1): data.police.uk:443\n",
      "DEBUG:urllib3.connectionpool:https://data.police.uk:443 \"POST /api/crimes-street/all-crime HTTP/1.1\" 200 79856\n",
      "DEBUG:urllib3.connectionpool:Starting new HTTPS connection (1): data.police.uk:443\n",
      "DEBUG:urllib3.connectionpool:https://data.police.uk:443 \"POST /api/crimes-street/all-crime HTTP/1.1\" 200 92691\n",
      "DEBUG:urllib3.connectionpool:Starting new HTTPS connection (1): data.police.uk:443\n",
      "DEBUG:urllib3.connectionpool:https://data.police.uk:443 \"POST /api/crimes-street/all-crime HTTP/1.1\" 200 86899\n",
      "DEBUG:urllib3.connectionpool:Starting new HTTPS connection (1): data.police.uk:443\n",
      "DEBUG:urllib3.connectionpool:https://data.police.uk:443 \"POST /api/crimes-street/all-crime HTTP/1.1\" 200 98151\n",
      "DEBUG:urllib3.connectionpool:Starting new HTTPS connection (1): data.police.uk:443\n",
      "DEBUG:urllib3.connectionpool:https://data.police.uk:443 \"POST /api/crimes-street/all-crime HTTP/1.1\" 200 111491\n",
      "DEBUG:urllib3.connectionpool:Starting new HTTPS connection (1): data.police.uk:443\n",
      "DEBUG:urllib3.connectionpool:https://data.police.uk:443 \"POST /api/crimes-street/all-crime HTTP/1.1\" 200 105673\n",
      "DEBUG:urllib3.connectionpool:Starting new HTTPS connection (1): data.police.uk:443\n",
      "DEBUG:urllib3.connectionpool:https://data.police.uk:443 \"POST /api/crimes-street/all-crime HTTP/1.1\" 200 104750\n",
      "DEBUG:urllib3.connectionpool:Starting new HTTPS connection (1): data.police.uk:443\n",
      "DEBUG:urllib3.connectionpool:https://data.police.uk:443 \"POST /api/crimes-street/all-crime HTTP/1.1\" 200 102174\n",
      "DEBUG:urllib3.connectionpool:Starting new HTTPS connection (1): data.police.uk:443\n",
      "DEBUG:urllib3.connectionpool:https://data.police.uk:443 \"POST /api/crimes-street/all-crime HTTP/1.1\" 200 101158\n",
      "DEBUG:urllib3.connectionpool:Starting new HTTPS connection (1): data.police.uk:443\n",
      "DEBUG:urllib3.connectionpool:https://data.police.uk:443 \"POST /api/crimes-street/all-crime HTTP/1.1\" 200 110474\n",
      "DEBUG:urllib3.connectionpool:Starting new HTTPS connection (1): data.police.uk:443\n",
      "DEBUG:urllib3.connectionpool:https://data.police.uk:443 \"POST /api/crimes-street/all-crime HTTP/1.1\" 200 97399\n"
     ]
    }
   ],
   "source": [
    "# get the boundary of one neighbourhoods and plot\n",
    "df = pd.DataFrame(columns=['id', 'name', 'n_crime_2021', 'geometry'])\n",
    "for idx,nbh in enumerate(force_mersey.neighbourhoods):\n",
    "    # id, name, geometry\n",
    "    df.loc[idx, \"id\"] = nbh.id\n",
    "    df.loc[idx, \"name\"] = nbh.name\n",
    "    df.loc[idx, 'n_crime_2021'] = len(new_get_crimes_area(nbh.boundary, list_date=months_2021))\n",
    "    df.loc[idx, \"geometry\"] = Polygon([[p[1], p[0]] for p in nbh.boundary]) # p[1] is longitude, p[2] is latitude"
   ]
  },
  {
   "cell_type": "code",
   "execution_count": 221,
   "id": "afe32aa6-15fc-4c65-873f-46ff741b2d0d",
   "metadata": {},
   "outputs": [
    {
     "data": {
      "text/plain": [
       "<AxesSubplot:>"
      ]
     },
     "execution_count": 221,
     "metadata": {},
     "output_type": "execute_result"
    },
    {
     "data": {
      "image/png": "[encoded data removed]",
      "text/plain": [
       "<Figure size 1080x1080 with 1 Axes>"
      ]
     },
     "metadata": {
      "needs_background": "light"
     },
     "output_type": "display_data"
    }
   ],
   "source": [
    "gdf = gpd.GeoDataFrame(df, geometry=df.geometry)\n",
    "# figure(figsize=(20, 10))\n",
    "fig, ax = plt.subplots(1, figsize=(15, 15))\n",
    "# fig, ax1 = plt.subplots(1, figsize=(12, 10))   # create figure and axes for Matplotlib \n",
    "\n",
    "# gdf.plot()\n",
    "# gdf.plot(\"name\", cmap=\"RdYlGn\", ax=ax, legend=False, figsize=(15, 10))\n",
    "gdf.plot(\"name\", cmap=\"RdYlGn\", ax=ax, legend=True)\n",
    "# divider = make_axes_locatable(ax)\n",
    "\n",
    "# cax = divider.append_axes(\"right\", size=\"5%\", pad=0.1)\n",
    "\n",
    "# gdf.plot(column='name', ax=ax, legend=False, cax=cax)"
   ]
  },
  {
   "cell_type": "code",
   "execution_count": 224,
   "id": "8f3fb32e-a635-4d18-908f-457da8401553",
   "metadata": {},
   "outputs": [
    {
     "data": {
      "text/html": [
       "<div>\n",
       "<style scoped>\n",
       "    .dataframe tbody tr th:only-of-type {\n",
       "        vertical-align: middle;\n",
       "    }\n",
       "\n",
       "    .dataframe tbody tr th {\n",
       "        vertical-align: top;\n",
       "    }\n",
       "\n",
       "    .dataframe thead th {\n",
       "        text-align: right;\n",
       "    }\n",
       "</style>\n",
       "<table border=\"1\" class=\"dataframe\">\n",
       "  <thead>\n",
       "    <tr style=\"text-align: right;\">\n",
       "      <th></th>\n",
       "      <th>id</th>\n",
       "      <th>name</th>\n",
       "      <th>n_crime_2021</th>\n",
       "    </tr>\n",
       "  </thead>\n",
       "  <tbody>\n",
       "    <tr>\n",
       "      <th>0</th>\n",
       "      <td>C1C2C3</td>\n",
       "      <td>Knowsley Community Police Team</td>\n",
       "      <td>18054</td>\n",
       "    </tr>\n",
       "    <tr>\n",
       "      <th>1</th>\n",
       "      <td>E7E8E9</td>\n",
       "      <td>Liverpool Community Police Team - Hub Four</td>\n",
       "      <td>29101</td>\n",
       "    </tr>\n",
       "    <tr>\n",
       "      <th>2</th>\n",
       "      <td>E1E3</td>\n",
       "      <td>Liverpool Community Police Team - Hub One</td>\n",
       "      <td>24925</td>\n",
       "    </tr>\n",
       "    <tr>\n",
       "      <th>3</th>\n",
       "      <td>E5E6</td>\n",
       "      <td>Liverpool Community Police Team - Hub Three</td>\n",
       "      <td>9415</td>\n",
       "    </tr>\n",
       "    <tr>\n",
       "      <th>4</th>\n",
       "      <td>E2E4</td>\n",
       "      <td>Liverpool Community Police Team - Hub Two</td>\n",
       "      <td>15750</td>\n",
       "    </tr>\n",
       "    <tr>\n",
       "      <th>5</th>\n",
       "      <td>B1</td>\n",
       "      <td>Sefton Community Police Team - Hub One</td>\n",
       "      <td>18743</td>\n",
       "    </tr>\n",
       "    <tr>\n",
       "      <th>6</th>\n",
       "      <td>B3</td>\n",
       "      <td>Sefton Community Police Team - Hub Two</td>\n",
       "      <td>11231</td>\n",
       "    </tr>\n",
       "    <tr>\n",
       "      <th>7</th>\n",
       "      <td>D1D2D3</td>\n",
       "      <td>St Helens Community Police Team</td>\n",
       "      <td>23373</td>\n",
       "    </tr>\n",
       "    <tr>\n",
       "      <th>8</th>\n",
       "      <td>A1A2</td>\n",
       "      <td>Wirral Community Police Team - Hub One</td>\n",
       "      <td>14310</td>\n",
       "    </tr>\n",
       "    <tr>\n",
       "      <th>9</th>\n",
       "      <td>A3A4</td>\n",
       "      <td>Wirral Community Police Team - Hub Two</td>\n",
       "      <td>19704</td>\n",
       "    </tr>\n",
       "  </tbody>\n",
       "</table>\n",
       "</div>"
      ],
      "text/plain": [
       "       id                                         name n_crime_2021\n",
       "0  C1C2C3               Knowsley Community Police Team        18054\n",
       "1  E7E8E9   Liverpool Community Police Team - Hub Four        29101\n",
       "2    E1E3    Liverpool Community Police Team - Hub One        24925\n",
       "3    E5E6  Liverpool Community Police Team - Hub Three         9415\n",
       "4    E2E4    Liverpool Community Police Team - Hub Two        15750\n",
       "5      B1       Sefton Community Police Team - Hub One        18743\n",
       "6      B3       Sefton Community Police Team - Hub Two        11231\n",
       "7  D1D2D3              St Helens Community Police Team        23373\n",
       "8    A1A2       Wirral Community Police Team - Hub One        14310\n",
       "9    A3A4       Wirral Community Police Team - Hub Two        19704"
      ]
     },
     "execution_count": 224,
     "metadata": {},
     "output_type": "execute_result"
    }
   ],
   "source": [
    "df[['id', 'name', 'n_crime_2021']]"
   ]
  },
  {
   "cell_type": "markdown",
   "id": "0ffbfe09-d678-462d-a0c1-667b056df2f1",
   "metadata": {},
   "source": [
    "Among the four Liverpool neighbourhoods, ``Liverpool Community Police Team - Hub Four`` has the most crime incidents. So, two case study areas would be:\n",
    "\n",
    "1. Liverpool Community Police Team - Hub Four (preferred)\n",
    "2. The combination of the four Teams in Liverpool"
   ]
  },
  {
   "cell_type": "markdown",
   "id": "12c65815-20d8-4bdd-99a3-a1eebbfff606",
   "metadata": {},
   "source": [
    "## Saving crime data in hub four as CSV file"
   ]
  },
  {
   "cell_type": "code",
   "execution_count": 227,
   "id": "b242f622-68ae-427c-8100-5d3627fc0cc5",
   "metadata": {},
   "outputs": [
    {
     "name": "stderr",
     "output_type": "stream",
     "text": [
      "DEBUG:police_api.service:GET http://data.police.uk/api/merseyside/E7E8E9/boundary\n",
      "DEBUG:urllib3.connectionpool:Starting new HTTP connection (1): data.police.uk:80\n",
      "DEBUG:urllib3.connectionpool:http://data.police.uk:80 \"GET /api/merseyside/E7E8E9/boundary HTTP/1.1\" 301 134\n",
      "DEBUG:urllib3.connectionpool:Starting new HTTPS connection (1): data.police.uk:443\n",
      "DEBUG:urllib3.connectionpool:https://data.police.uk:443 \"GET /api/merseyside/E7E8E9/boundary HTTP/1.1\" 200 11466\n",
      "DEBUG:urllib3.connectionpool:Starting new HTTPS connection (1): data.police.uk:443\n",
      "DEBUG:urllib3.connectionpool:https://data.police.uk:443 \"POST /api/crimes-street/all-crime HTTP/1.1\" 200 99933\n",
      "DEBUG:urllib3.connectionpool:Starting new HTTPS connection (1): data.police.uk:443\n",
      "DEBUG:urllib3.connectionpool:https://data.police.uk:443 \"POST /api/crimes-street/all-crime HTTP/1.1\" 200 91945\n",
      "DEBUG:urllib3.connectionpool:Starting new HTTPS connection (1): data.police.uk:443\n",
      "DEBUG:urllib3.connectionpool:https://data.police.uk:443 \"POST /api/crimes-street/all-crime HTTP/1.1\" 200 111057\n",
      "DEBUG:urllib3.connectionpool:Starting new HTTPS connection (1): data.police.uk:443\n",
      "DEBUG:urllib3.connectionpool:https://data.police.uk:443 \"POST /api/crimes-street/all-crime HTTP/1.1\" 200 118563\n",
      "DEBUG:urllib3.connectionpool:Starting new HTTPS connection (1): data.police.uk:443\n",
      "DEBUG:urllib3.connectionpool:https://data.police.uk:443 \"POST /api/crimes-street/all-crime HTTP/1.1\" 200 146511\n",
      "DEBUG:urllib3.connectionpool:Starting new HTTPS connection (1): data.police.uk:443\n",
      "DEBUG:urllib3.connectionpool:https://data.police.uk:443 \"POST /api/crimes-street/all-crime HTTP/1.1\" 200 152330\n",
      "DEBUG:urllib3.connectionpool:Starting new HTTPS connection (1): data.police.uk:443\n",
      "DEBUG:urllib3.connectionpool:https://data.police.uk:443 \"POST /api/crimes-street/all-crime HTTP/1.1\" 200 154210\n",
      "DEBUG:urllib3.connectionpool:Starting new HTTPS connection (1): data.police.uk:443\n",
      "DEBUG:urllib3.connectionpool:https://data.police.uk:443 \"POST /api/crimes-street/all-crime HTTP/1.1\" 200 149671\n",
      "DEBUG:urllib3.connectionpool:Starting new HTTPS connection (1): data.police.uk:443\n",
      "DEBUG:urllib3.connectionpool:https://data.police.uk:443 \"POST /api/crimes-street/all-crime HTTP/1.1\" 200 156112\n",
      "DEBUG:urllib3.connectionpool:Starting new HTTPS connection (1): data.police.uk:443\n",
      "DEBUG:urllib3.connectionpool:https://data.police.uk:443 \"POST /api/crimes-street/all-crime HTTP/1.1\" 200 192340\n",
      "DEBUG:urllib3.connectionpool:Starting new HTTPS connection (1): data.police.uk:443\n",
      "DEBUG:urllib3.connectionpool:https://data.police.uk:443 \"POST /api/crimes-street/all-crime HTTP/1.1\" 200 170084\n",
      "DEBUG:urllib3.connectionpool:Starting new HTTPS connection (1): data.police.uk:443\n",
      "DEBUG:urllib3.connectionpool:https://data.police.uk:443 \"POST /api/crimes-street/all-crime HTTP/1.1\" 200 151337\n"
     ]
    }
   ],
   "source": [
    "crimes_liverpool_hub_four = new_get_crimes_area(force_mersey.get_neighbourhood('E7E8E9').boundary, list_date=months_2021)"
   ]
  },
  {
   "cell_type": "code",
   "execution_count": 240,
   "id": "d19c18a8-b54f-4b6c-9a2d-9d4a8044a91c",
   "metadata": {},
   "outputs": [
    {
     "name": "stdout",
     "output_type": "stream",
     "text": [
      "{'id': 906784, 'name': 'On or near Pedestrian Subway'}\n",
      "53.373412\n",
      "2021-01\n",
      "{'id': 906784, 'name': 'On or near Pedestrian Subway'}\n"
     ]
    }
   ],
   "source": [
    "# is this an ID from OS network?\n",
    "print(crimes_liverpool_hub_four[0].location.street)\n",
    "crime = crimes_liverpool_hub_four[0]\n",
    "print(crime.location.latitude)\n",
    "print(crime.month)\n",
    "print(crime.location.street)"
   ]
  },
  {
   "cell_type": "code",
   "execution_count": 245,
   "id": "fff09423-567c-42f7-9229-5877bac05e9d",
   "metadata": {},
   "outputs": [],
   "source": [
    "# important attributes: lat, long, date, street_id, street\n",
    "def crime_to_dict(crime):\n",
    "    if isinstance(crime, Crime):\n",
    "        return {\n",
    "            'lat': crime.location.latitude,\n",
    "            'lng': crime.location.longitude,\n",
    "            'date': crime.month,\n",
    "            'street_id': crime.location.street['id'],\n",
    "            'street_name': crime.location.street['name'],\n",
    "        }\n",
    "    else:\n",
    "        return None"
   ]
  },
  {
   "cell_type": "code",
   "execution_count": 243,
   "id": "0cfb798d-a026-4083-be1d-4662d3eedd56",
   "metadata": {},
   "outputs": [],
   "source": [
    "df_crime_liverpool_hub_four = pd.DataFrame(columns=['lat', 'lng', 'date', 'street_id', 'street_name'])"
   ]
  },
  {
   "cell_type": "code",
   "execution_count": 250,
   "id": "16b14941-6c42-45ce-8df2-ff9fb603f017",
   "metadata": {},
   "outputs": [],
   "source": [
    "for crime in crimes_liverpool_hub_four:\n",
    "    df_crime_liverpool_hub_four=df_crime_liverpool_hub_four.append(crime_to_dict(crime), ignore_index=True)"
   ]
  },
  {
   "cell_type": "code",
   "execution_count": 251,
   "id": "b1b073a7-5962-458f-8a08-33024c4ad6fd",
   "metadata": {},
   "outputs": [
    {
     "data": {
      "text/html": [
       "<div>\n",
       "<style scoped>\n",
       "    .dataframe tbody tr th:only-of-type {\n",
       "        vertical-align: middle;\n",
       "    }\n",
       "\n",
       "    .dataframe tbody tr th {\n",
       "        vertical-align: top;\n",
       "    }\n",
       "\n",
       "    .dataframe thead th {\n",
       "        text-align: right;\n",
       "    }\n",
       "</style>\n",
       "<table border=\"1\" class=\"dataframe\">\n",
       "  <thead>\n",
       "    <tr style=\"text-align: right;\">\n",
       "      <th></th>\n",
       "      <th>lat</th>\n",
       "      <th>lng</th>\n",
       "      <th>date</th>\n",
       "      <th>street_id</th>\n",
       "      <th>street_name</th>\n",
       "    </tr>\n",
       "  </thead>\n",
       "  <tbody>\n",
       "    <tr>\n",
       "      <th>0</th>\n",
       "      <td>53.373412</td>\n",
       "      <td>-2.934712</td>\n",
       "      <td>2021-01</td>\n",
       "      <td>906784</td>\n",
       "      <td>On or near Pedestrian Subway</td>\n",
       "    </tr>\n",
       "    <tr>\n",
       "      <th>1</th>\n",
       "      <td>53.400743</td>\n",
       "      <td>-2.941042</td>\n",
       "      <td>2021-01</td>\n",
       "      <td>910301</td>\n",
       "      <td>On or near Bannerman Street</td>\n",
       "    </tr>\n",
       "    <tr>\n",
       "      <th>2</th>\n",
       "      <td>53.400462</td>\n",
       "      <td>-2.911240</td>\n",
       "      <td>2021-01</td>\n",
       "      <td>909826</td>\n",
       "      <td>On or near Olive Mount Road</td>\n",
       "    </tr>\n",
       "    <tr>\n",
       "      <th>3</th>\n",
       "      <td>53.404521</td>\n",
       "      <td>-2.983077</td>\n",
       "      <td>2021-01</td>\n",
       "      <td>910318</td>\n",
       "      <td>On or near Old Post Office Place</td>\n",
       "    </tr>\n",
       "    <tr>\n",
       "      <th>4</th>\n",
       "      <td>53.409038</td>\n",
       "      <td>-2.985799</td>\n",
       "      <td>2021-01</td>\n",
       "      <td>911850</td>\n",
       "      <td>On or near Dale Street (queensway)</td>\n",
       "    </tr>\n",
       "  </tbody>\n",
       "</table>\n",
       "</div>"
      ],
      "text/plain": [
       "         lat        lng     date street_id                         street_name\n",
       "0  53.373412  -2.934712  2021-01    906784        On or near Pedestrian Subway\n",
       "1  53.400743  -2.941042  2021-01    910301         On or near Bannerman Street\n",
       "2  53.400462  -2.911240  2021-01    909826         On or near Olive Mount Road\n",
       "3  53.404521  -2.983077  2021-01    910318    On or near Old Post Office Place\n",
       "4  53.409038  -2.985799  2021-01    911850  On or near Dale Street (queensway)"
      ]
     },
     "execution_count": 251,
     "metadata": {},
     "output_type": "execute_result"
    }
   ],
   "source": [
    "df_crime_liverpool_hub_four.head()"
   ]
  },
  {
   "cell_type": "code",
   "execution_count": 252,
   "id": "598148e9-e8cb-49c8-bba8-b32aeaf23123",
   "metadata": {},
   "outputs": [],
   "source": [
    "df_crime_liverpool_hub_four.to_csv('crimes_Liverpool_hub_four.csv', index=False)"
   ]
  },
  {
   "cell_type": "code",
   "execution_count": 256,
   "id": "cd941397-4621-46a3-b8ce-1ae2c6a013ba",
   "metadata": {},
   "outputs": [
    {
     "data": {
      "text/plain": [
       "Index(['id', 'name', 'n_crime_2021', 'geometry'], dtype='object')"
      ]
     },
     "execution_count": 256,
     "metadata": {},
     "output_type": "execute_result"
    }
   ],
   "source": [
    "gdf.columns"
   ]
  },
  {
   "cell_type": "code",
   "execution_count": 257,
   "id": "0cf2c21a-514c-49af-bb5e-0765f0985ad6",
   "metadata": {},
   "outputs": [],
   "source": [
    "# save df as json file\n",
    "with open('Merseyside_police_neighbourhood.geojson', 'w') as f:\n",
    "    f.write(gdf.to_json())"
   ]
  },
  {
   "cell_type": "markdown",
   "id": "851d7de2-04ba-4e02-8020-428c3723a6e6",
   "metadata": {},
   "source": [
    "## Playing with the get_crimes_area function (Not run)"
   ]
  },
  {
   "cell_type": "code",
   "execution_count": 89,
   "id": "ea3f0451-d168-4aa6-9d49-576342c55371",
   "metadata": {},
   "outputs": [
    {
     "name": "stdout",
     "output_type": "stream",
     "text": [
      "Earliest month: 2019-03\n",
      "Latest month: 2022-02\n"
     ]
    }
   ],
   "source": [
    "list_date = api.get_dates()\n",
    "print('Earliest month: {}'.format(list_date[-1]))\n",
    "print('Latest month: {}'.format(list_date[0]))"
   ]
  },
  {
   "cell_type": "code",
   "execution_count": 75,
   "id": "58b612c3-aa55-4230-b8e7-040119638164",
   "metadata": {},
   "outputs": [
    {
     "name": "stdout",
     "output_type": "stream",
     "text": [
      "['2021-1', '2021-2', '2021-3', '2021-4', '2021-5', '2021-6', '2021-7', '2021-8', '2021-9', '2021-10', '2021-11', '2021-12']\n"
     ]
    }
   ],
   "source": [
    "# get crime between 2021-01-01 to 2021-12-31\n",
    "month_2021 = ['2021-{}'.format(month) for month in range(1,13)]"
   ]
  },
  {
   "cell_type": "code",
   "execution_count": 179,
   "id": "92475cbf-1885-48a8-b9c9-01d88a3582b7",
   "metadata": {},
   "outputs": [
    {
     "name": "stderr",
     "output_type": "stream",
     "text": [
      "DEBUG:police_api.service:POST http://data.police.uk/api/crimes-street/all-crime\n",
      "DEBUG:urllib3.connectionpool:Starting new HTTP connection (1): data.police.uk:80\n",
      "DEBUG:urllib3.connectionpool:http://data.police.uk:80 \"POST /api/crimes-street/all-crime HTTP/1.1\" 301 134\n",
      "DEBUG:urllib3.connectionpool:Starting new HTTPS connection (1): data.police.uk:443\n",
      "DEBUG:urllib3.connectionpool:https://data.police.uk:443 \"GET /api/crimes-street/all-crime HTTP/1.1\" 400 None\n"
     ]
    },
    {
     "ename": "APIError",
     "evalue": "<unknown error code>",
     "output_type": "error",
     "traceback": [
      "\u001b[0;31m---------------------------------------------------------------------------\u001b[0m",
      "\u001b[0;31mHTTPError\u001b[0m                                 Traceback (most recent call last)",
      "\u001b[0;32m~/miniconda3/envs/sds2021/lib/python3.9/site-packages/police_api/service.py\u001b[0m in \u001b[0;36mraise_for_status\u001b[0;34m(self, request)\u001b[0m\n\u001b[1;32m     21\u001b[0m         \u001b[0;32mtry\u001b[0m\u001b[0;34m:\u001b[0m\u001b[0;34m\u001b[0m\u001b[0;34m\u001b[0m\u001b[0m\n\u001b[0;32m---> 22\u001b[0;31m             \u001b[0mrequest\u001b[0m\u001b[0;34m.\u001b[0m\u001b[0mraise_for_status\u001b[0m\u001b[0;34m(\u001b[0m\u001b[0;34m)\u001b[0m\u001b[0;34m\u001b[0m\u001b[0;34m\u001b[0m\u001b[0m\n\u001b[0m\u001b[1;32m     23\u001b[0m         \u001b[0;32mexcept\u001b[0m \u001b[0mrequests\u001b[0m\u001b[0;34m.\u001b[0m\u001b[0mmodels\u001b[0m\u001b[0;34m.\u001b[0m\u001b[0mHTTPError\u001b[0m \u001b[0;32mas\u001b[0m \u001b[0me\u001b[0m\u001b[0;34m:\u001b[0m\u001b[0;34m\u001b[0m\u001b[0;34m\u001b[0m\u001b[0m\n",
      "\u001b[0;32m~/miniconda3/envs/sds2021/lib/python3.9/site-packages/requests/models.py\u001b[0m in \u001b[0;36mraise_for_status\u001b[0;34m(self)\u001b[0m\n\u001b[1;32m    952\u001b[0m         \u001b[0;32mif\u001b[0m \u001b[0mhttp_error_msg\u001b[0m\u001b[0;34m:\u001b[0m\u001b[0;34m\u001b[0m\u001b[0;34m\u001b[0m\u001b[0m\n\u001b[0;32m--> 953\u001b[0;31m             \u001b[0;32mraise\u001b[0m \u001b[0mHTTPError\u001b[0m\u001b[0;34m(\u001b[0m\u001b[0mhttp_error_msg\u001b[0m\u001b[0;34m,\u001b[0m \u001b[0mresponse\u001b[0m\u001b[0;34m=\u001b[0m\u001b[0mself\u001b[0m\u001b[0;34m)\u001b[0m\u001b[0;34m\u001b[0m\u001b[0;34m\u001b[0m\u001b[0m\n\u001b[0m\u001b[1;32m    954\u001b[0m \u001b[0;34m\u001b[0m\u001b[0m\n",
      "\u001b[0;31mHTTPError\u001b[0m: 400 Client Error: BAD REQUEST for url: https://data.police.uk:443/api/crimes-street/all-crime",
      "\nDuring handling of the above exception, another exception occurred:\n",
      "\u001b[0;31mAPIError\u001b[0m                                  Traceback (most recent call last)",
      "\u001b[0;32m/tmp/ipykernel_1801/765002540.py\u001b[0m in \u001b[0;36m<module>\u001b[0;34m\u001b[0m\n\u001b[1;32m      4\u001b[0m          (52.130,0.478)]\n\u001b[1;32m      5\u001b[0m \u001b[0;31m# boundary_test = [(52.268, 0.543)]\u001b[0m\u001b[0;34m\u001b[0m\u001b[0;34m\u001b[0m\u001b[0;34m\u001b[0m\u001b[0m\n\u001b[0;32m----> 6\u001b[0;31m \u001b[0mlist_crime_test\u001b[0m \u001b[0;34m=\u001b[0m \u001b[0mapi\u001b[0m\u001b[0;34m.\u001b[0m\u001b[0mget_crimes_area\u001b[0m\u001b[0;34m(\u001b[0m\u001b[0mboundary_test\u001b[0m\u001b[0;34m)\u001b[0m\u001b[0;34m\u001b[0m\u001b[0;34m\u001b[0m\u001b[0m\n\u001b[0m",
      "\u001b[0;32m~/miniconda3/envs/sds2021/lib/python3.9/site-packages/police_api/__init__.py\u001b[0m in \u001b[0;36mget_crimes_area\u001b[0;34m(self, points, date, category)\u001b[0m\n\u001b[1;32m    117\u001b[0m         \u001b[0;32mif\u001b[0m \u001b[0mdate\u001b[0m \u001b[0;32mis\u001b[0m \u001b[0;32mnot\u001b[0m \u001b[0;32mNone\u001b[0m\u001b[0;34m:\u001b[0m\u001b[0;34m\u001b[0m\u001b[0;34m\u001b[0m\u001b[0m\n\u001b[1;32m    118\u001b[0m             \u001b[0mkwargs\u001b[0m\u001b[0;34m[\u001b[0m\u001b[0;34m'date'\u001b[0m\u001b[0;34m]\u001b[0m \u001b[0;34m=\u001b[0m \u001b[0mdate\u001b[0m\u001b[0;34m\u001b[0m\u001b[0;34m\u001b[0m\u001b[0m\n\u001b[0;32m--> 119\u001b[0;31m         \u001b[0;32mfor\u001b[0m \u001b[0mc\u001b[0m \u001b[0;32min\u001b[0m \u001b[0mself\u001b[0m\u001b[0;34m.\u001b[0m\u001b[0mservice\u001b[0m\u001b[0;34m.\u001b[0m\u001b[0mrequest\u001b[0m\u001b[0;34m(\u001b[0m\u001b[0;34m'POST'\u001b[0m\u001b[0;34m,\u001b[0m \u001b[0mmethod\u001b[0m\u001b[0;34m,\u001b[0m \u001b[0;34m**\u001b[0m\u001b[0mkwargs\u001b[0m\u001b[0;34m)\u001b[0m\u001b[0;34m:\u001b[0m\u001b[0;34m\u001b[0m\u001b[0;34m\u001b[0m\u001b[0m\n\u001b[0m\u001b[1;32m    120\u001b[0m             \u001b[0mcrimes\u001b[0m\u001b[0;34m.\u001b[0m\u001b[0mappend\u001b[0m\u001b[0;34m(\u001b[0m\u001b[0mCrime\u001b[0m\u001b[0;34m(\u001b[0m\u001b[0mself\u001b[0m\u001b[0;34m,\u001b[0m \u001b[0mdata\u001b[0m\u001b[0;34m=\u001b[0m\u001b[0mc\u001b[0m\u001b[0;34m)\u001b[0m\u001b[0;34m)\u001b[0m\u001b[0;34m\u001b[0m\u001b[0;34m\u001b[0m\u001b[0m\n\u001b[1;32m    121\u001b[0m         \u001b[0;32mreturn\u001b[0m \u001b[0mcrimes\u001b[0m\u001b[0;34m\u001b[0m\u001b[0;34m\u001b[0m\u001b[0m\n",
      "\u001b[0;32m~/miniconda3/envs/sds2021/lib/python3.9/site-packages/police_api/service.py\u001b[0m in \u001b[0;36mrequest\u001b[0;34m(self, verb, method, **kwargs)\u001b[0m\n\u001b[1;32m     45\u001b[0m     \u001b[0;32mdef\u001b[0m \u001b[0mrequest\u001b[0m\u001b[0;34m(\u001b[0m\u001b[0mself\u001b[0m\u001b[0;34m,\u001b[0m \u001b[0mverb\u001b[0m\u001b[0;34m,\u001b[0m \u001b[0mmethod\u001b[0m\u001b[0;34m,\u001b[0m \u001b[0;34m**\u001b[0m\u001b[0mkwargs\u001b[0m\u001b[0;34m)\u001b[0m\u001b[0;34m:\u001b[0m\u001b[0;34m\u001b[0m\u001b[0;34m\u001b[0m\u001b[0m\n\u001b[1;32m     46\u001b[0m         \u001b[0murl\u001b[0m \u001b[0;34m=\u001b[0m \u001b[0mself\u001b[0m\u001b[0;34m.\u001b[0m\u001b[0mconfig\u001b[0m\u001b[0;34m[\u001b[0m\u001b[0;34m'base_url'\u001b[0m\u001b[0;34m]\u001b[0m \u001b[0;34m+\u001b[0m \u001b[0mmethod\u001b[0m\u001b[0;34m\u001b[0m\u001b[0;34m\u001b[0m\u001b[0m\n\u001b[0;32m---> 47\u001b[0;31m         \u001b[0;32mreturn\u001b[0m \u001b[0mself\u001b[0m\u001b[0;34m.\u001b[0m\u001b[0m_make_request\u001b[0m\u001b[0;34m(\u001b[0m\u001b[0mverb\u001b[0m\u001b[0;34m.\u001b[0m\u001b[0mupper\u001b[0m\u001b[0;34m(\u001b[0m\u001b[0;34m)\u001b[0m\u001b[0;34m,\u001b[0m \u001b[0murl\u001b[0m\u001b[0;34m,\u001b[0m \u001b[0mkwargs\u001b[0m\u001b[0;34m)\u001b[0m\u001b[0;34m\u001b[0m\u001b[0;34m\u001b[0m\u001b[0m\n\u001b[0m",
      "\u001b[0;32m~/miniconda3/envs/sds2021/lib/python3.9/site-packages/police_api/service.py\u001b[0m in \u001b[0;36m_make_request\u001b[0;34m(self, verb, url, params)\u001b[0m\n\u001b[1;32m     40\u001b[0m         \u001b[0mlogger\u001b[0m\u001b[0;34m.\u001b[0m\u001b[0mdebug\u001b[0m\u001b[0;34m(\u001b[0m\u001b[0;34m'%s %s'\u001b[0m \u001b[0;34m%\u001b[0m \u001b[0;34m(\u001b[0m\u001b[0mverb\u001b[0m\u001b[0;34m,\u001b[0m \u001b[0murl\u001b[0m\u001b[0;34m)\u001b[0m\u001b[0;34m)\u001b[0m\u001b[0;34m\u001b[0m\u001b[0;34m\u001b[0m\u001b[0m\n\u001b[1;32m     41\u001b[0m         \u001b[0mr\u001b[0m \u001b[0;34m=\u001b[0m \u001b[0mrequests\u001b[0m\u001b[0;34m.\u001b[0m\u001b[0mrequest\u001b[0m\u001b[0;34m(\u001b[0m\u001b[0mverb\u001b[0m\u001b[0;34m,\u001b[0m \u001b[0murl\u001b[0m\u001b[0;34m,\u001b[0m \u001b[0;34m**\u001b[0m\u001b[0mrequest_kwargs\u001b[0m\u001b[0;34m)\u001b[0m\u001b[0;34m\u001b[0m\u001b[0;34m\u001b[0m\u001b[0m\n\u001b[0;32m---> 42\u001b[0;31m         \u001b[0mself\u001b[0m\u001b[0;34m.\u001b[0m\u001b[0mraise_for_status\u001b[0m\u001b[0;34m(\u001b[0m\u001b[0mr\u001b[0m\u001b[0;34m)\u001b[0m\u001b[0;34m\u001b[0m\u001b[0;34m\u001b[0m\u001b[0m\n\u001b[0m\u001b[1;32m     43\u001b[0m         \u001b[0;32mreturn\u001b[0m \u001b[0mr\u001b[0m\u001b[0;34m.\u001b[0m\u001b[0mjson\u001b[0m\u001b[0;34m(\u001b[0m\u001b[0;34m)\u001b[0m\u001b[0;34m\u001b[0m\u001b[0;34m\u001b[0m\u001b[0m\n\u001b[1;32m     44\u001b[0m \u001b[0;34m\u001b[0m\u001b[0m\n",
      "\u001b[0;32m~/miniconda3/envs/sds2021/lib/python3.9/site-packages/police_api/service.py\u001b[0m in \u001b[0;36mraise_for_status\u001b[0;34m(self, request)\u001b[0m\n\u001b[1;32m     22\u001b[0m             \u001b[0mrequest\u001b[0m\u001b[0;34m.\u001b[0m\u001b[0mraise_for_status\u001b[0m\u001b[0;34m(\u001b[0m\u001b[0;34m)\u001b[0m\u001b[0;34m\u001b[0m\u001b[0;34m\u001b[0m\u001b[0m\n\u001b[1;32m     23\u001b[0m         \u001b[0;32mexcept\u001b[0m \u001b[0mrequests\u001b[0m\u001b[0;34m.\u001b[0m\u001b[0mmodels\u001b[0m\u001b[0;34m.\u001b[0m\u001b[0mHTTPError\u001b[0m \u001b[0;32mas\u001b[0m \u001b[0me\u001b[0m\u001b[0;34m:\u001b[0m\u001b[0;34m\u001b[0m\u001b[0;34m\u001b[0m\u001b[0m\n\u001b[0;32m---> 24\u001b[0;31m             \u001b[0;32mraise\u001b[0m \u001b[0mAPIError\u001b[0m\u001b[0;34m(\u001b[0m\u001b[0me\u001b[0m\u001b[0;34m)\u001b[0m\u001b[0;34m\u001b[0m\u001b[0;34m\u001b[0m\u001b[0m\n\u001b[0m\u001b[1;32m     25\u001b[0m \u001b[0;34m\u001b[0m\u001b[0m\n\u001b[1;32m     26\u001b[0m     \u001b[0;32mdef\u001b[0m \u001b[0m_make_request\u001b[0m\u001b[0;34m(\u001b[0m\u001b[0mself\u001b[0m\u001b[0;34m,\u001b[0m \u001b[0mverb\u001b[0m\u001b[0;34m,\u001b[0m \u001b[0murl\u001b[0m\u001b[0;34m,\u001b[0m \u001b[0mparams\u001b[0m\u001b[0;34m=\u001b[0m\u001b[0;34m{\u001b[0m\u001b[0;34m}\u001b[0m\u001b[0;34m)\u001b[0m\u001b[0;34m:\u001b[0m\u001b[0;34m\u001b[0m\u001b[0;34m\u001b[0m\u001b[0m\n",
      "\u001b[0;31mAPIError\u001b[0m: <unknown error code>"
     ]
    }
   ],
   "source": [
    "# 52.268,0.543:52.794,0.238:52.130,0.478\n",
    "boundary_test = [(52.268, 0.543),\n",
    "         (52.794,0.238),\n",
    "         (52.130,0.478)]\n",
    "# boundary_test = [(52.268, 0.543)]\n",
    "list_crime_test = api.get_crimes_area(boundary_test)"
   ]
  },
  {
   "cell_type": "code",
   "execution_count": 151,
   "id": "e6022e55-a09c-4e80-b617-ded3cfaf6b52",
   "metadata": {},
   "outputs": [],
   "source": [
    "# succeed to get the requests\n",
    "import requests\n",
    "boundary_test = [(52.268, 0.543),\n",
    "         (52.794,0.238),\n",
    "         (52.130,0.478)]\n",
    "poly = encode_polygon(boundary_test)\n",
    "myobj = {'somekey': 'somevalue'}\n",
    "\n",
    "# Test a simple example\n",
    "# both requests.get and requests.post work!\n",
    "url = 'https://data.police.uk:443/api/crimes-street/all-crime'\n",
    "myobj = {'poly': poly}\n",
    "\n",
    "x = requests.get(url, data = myobj)"
   ]
  },
  {
   "cell_type": "code",
   "execution_count": 173,
   "id": "0642f8e4-84f0-42bf-bf2d-7d42661a1872",
   "metadata": {},
   "outputs": [
    {
     "name": "stderr",
     "output_type": "stream",
     "text": [
      "DEBUG:urllib3.connectionpool:Starting new HTTPS connection (1): data.police.uk:443\n",
      "DEBUG:urllib3.connectionpool:https://data.police.uk:443 \"POST /api/crimes-street/all-crime HTTP/1.1\" 200 4894\n"
     ]
    }
   ],
   "source": [
    "# How about requests.request(verb, url, **request_kwargs)??\n",
    "x = requests.request('POST', url, data=myobj)\n",
    "try:\n",
    "    x.raise_for_status()\n",
    "except requests.models.HTTPError as e:\n",
    "    raise APIError(e)"
   ]
  },
  {
   "cell_type": "code",
   "execution_count": 153,
   "id": "4b2264be-8151-4fee-a32f-3188f64f19f5",
   "metadata": {},
   "outputs": [],
   "source": [
    "import logging\n",
    "logging.basicConfig(level=logging.DEBUG)"
   ]
  },
  {
   "cell_type": "code",
   "execution_count": 156,
   "id": "61dcb562-d311-40c9-88bf-0e93d13e5d30",
   "metadata": {},
   "outputs": [
    {
     "name": "stderr",
     "output_type": "stream",
     "text": [
      "DEBUG:police_api.service:GET http://data.police.uk/api/leicestershire/neighbourhoods\n",
      "DEBUG:urllib3.connectionpool:Starting new HTTP connection (1): data.police.uk:80\n",
      "DEBUG:urllib3.connectionpool:http://data.police.uk:80 \"GET /api/leicestershire/neighbourhoods HTTP/1.1\" 301 134\n",
      "DEBUG:urllib3.connectionpool:Starting new HTTPS connection (1): data.police.uk:443\n",
      "DEBUG:urllib3.connectionpool:https://data.police.uk:443 \"GET /api/leicestershire/neighbourhoods HTTP/1.1\" 200 899\n",
      "DEBUG:police_api.service:GET http://data.police.uk/api/leicestershire/NW02/boundary\n",
      "DEBUG:urllib3.connectionpool:Starting new HTTP connection (1): data.police.uk:80\n",
      "DEBUG:urllib3.connectionpool:http://data.police.uk:80 \"GET /api/leicestershire/NW02/boundary HTTP/1.1\" 301 134\n",
      "DEBUG:urllib3.connectionpool:Starting new HTTPS connection (1): data.police.uk:443\n",
      "DEBUG:urllib3.connectionpool:https://data.police.uk:443 \"GET /api/leicestershire/NW02/boundary HTTP/1.1\" 200 5082\n"
     ]
    }
   ],
   "source": [
    "# Example from here: https://police-api-client-python.readthedocs.io/en/latest/#crime-outcomes\n",
    "# not working\n",
    "force = api.get_force('leicestershire')\n",
    "neighbourhood = force.neighbourhoods\n",
    "boundary = neighbourhood[0].boundary"
   ]
  },
  {
   "cell_type": "code",
   "execution_count": 262,
   "id": "60bd234a-b510-45c1-9ac1-440baa441c6a",
   "metadata": {},
   "outputs": [
    {
     "data": {
      "text/plain": [
       "<module 'police_api' from '/home/huanfa/miniconda3/envs/sds2021/lib/python3.9/site-packages/police_api/__init__.py'>"
      ]
     },
     "execution_count": 262,
     "metadata": {},
     "output_type": "execute_result"
    }
   ],
   "source": [
    "from importlib import reload\n",
    "reload(police_api)"
   ]
  },
  {
   "cell_type": "code",
   "execution_count": 263,
   "id": "a7be3d96-967c-4e50-9b2d-7a90eceb04b8",
   "metadata": {},
   "outputs": [
    {
     "name": "stderr",
     "output_type": "stream",
     "text": [
      "DEBUG:police_api.service:POST http://data.police.uk/api/crimes-street/all-crime\n",
      "DEBUG:urllib3.connectionpool:Starting new HTTP connection (1): data.police.uk:80\n",
      "DEBUG:urllib3.connectionpool:http://data.police.uk:80 \"POST /api/crimes-street/all-crime HTTP/1.1\" 301 134\n",
      "DEBUG:urllib3.connectionpool:Starting new HTTPS connection (1): data.police.uk:443\n",
      "DEBUG:urllib3.connectionpool:https://data.police.uk:443 \"GET /api/crimes-street/all-crime HTTP/1.1\" 400 None\n"
     ]
    },
    {
     "ename": "APIError",
     "evalue": "<unknown error code>",
     "output_type": "error",
     "traceback": [
      "\u001b[0;31m---------------------------------------------------------------------------\u001b[0m",
      "\u001b[0;31mHTTPError\u001b[0m                                 Traceback (most recent call last)",
      "\u001b[0;32m~/miniconda3/envs/sds2021/lib/python3.9/site-packages/police_api/service.py\u001b[0m in \u001b[0;36mraise_for_status\u001b[0;34m(self, request)\u001b[0m\n\u001b[1;32m     21\u001b[0m         \u001b[0;32mtry\u001b[0m\u001b[0;34m:\u001b[0m\u001b[0;34m\u001b[0m\u001b[0;34m\u001b[0m\u001b[0m\n\u001b[0;32m---> 22\u001b[0;31m             \u001b[0mrequest\u001b[0m\u001b[0;34m.\u001b[0m\u001b[0mraise_for_status\u001b[0m\u001b[0;34m(\u001b[0m\u001b[0;34m)\u001b[0m\u001b[0;34m\u001b[0m\u001b[0;34m\u001b[0m\u001b[0m\n\u001b[0m\u001b[1;32m     23\u001b[0m         \u001b[0;32mexcept\u001b[0m \u001b[0mrequests\u001b[0m\u001b[0;34m.\u001b[0m\u001b[0mmodels\u001b[0m\u001b[0;34m.\u001b[0m\u001b[0mHTTPError\u001b[0m \u001b[0;32mas\u001b[0m \u001b[0me\u001b[0m\u001b[0;34m:\u001b[0m\u001b[0;34m\u001b[0m\u001b[0;34m\u001b[0m\u001b[0m\n",
      "\u001b[0;32m~/miniconda3/envs/sds2021/lib/python3.9/site-packages/requests/models.py\u001b[0m in \u001b[0;36mraise_for_status\u001b[0;34m(self)\u001b[0m\n\u001b[1;32m    952\u001b[0m         \u001b[0;32mif\u001b[0m \u001b[0mhttp_error_msg\u001b[0m\u001b[0;34m:\u001b[0m\u001b[0;34m\u001b[0m\u001b[0;34m\u001b[0m\u001b[0m\n\u001b[0;32m--> 953\u001b[0;31m             \u001b[0;32mraise\u001b[0m \u001b[0mHTTPError\u001b[0m\u001b[0;34m(\u001b[0m\u001b[0mhttp_error_msg\u001b[0m\u001b[0;34m,\u001b[0m \u001b[0mresponse\u001b[0m\u001b[0;34m=\u001b[0m\u001b[0mself\u001b[0m\u001b[0;34m)\u001b[0m\u001b[0;34m\u001b[0m\u001b[0;34m\u001b[0m\u001b[0m\n\u001b[0m\u001b[1;32m    954\u001b[0m \u001b[0;34m\u001b[0m\u001b[0m\n",
      "\u001b[0;31mHTTPError\u001b[0m: 400 Client Error: BAD REQUEST for url: https://data.police.uk:443/api/crimes-street/all-crime",
      "\nDuring handling of the above exception, another exception occurred:\n",
      "\u001b[0;31mAPIError\u001b[0m                                  Traceback (most recent call last)",
      "\u001b[0;32m/tmp/ipykernel_1801/654323991.py\u001b[0m in \u001b[0;36m<module>\u001b[0;34m\u001b[0m\n\u001b[1;32m      1\u001b[0m \u001b[0;31m# error\u001b[0m\u001b[0;34m\u001b[0m\u001b[0;34m\u001b[0m\u001b[0;34m\u001b[0m\u001b[0m\n\u001b[0;32m----> 2\u001b[0;31m \u001b[0mlist_crime\u001b[0m \u001b[0;34m=\u001b[0m \u001b[0mapi\u001b[0m\u001b[0;34m.\u001b[0m\u001b[0mget_crimes_area\u001b[0m\u001b[0;34m(\u001b[0m\u001b[0mboundary\u001b[0m\u001b[0;34m)\u001b[0m\u001b[0;34m\u001b[0m\u001b[0;34m\u001b[0m\u001b[0m\n\u001b[0m",
      "\u001b[0;32m~/miniconda3/envs/sds2021/lib/python3.9/site-packages/police_api/__init__.py\u001b[0m in \u001b[0;36mget_crimes_area\u001b[0;34m(self, points, date, category)\u001b[0m\n\u001b[1;32m    117\u001b[0m         \u001b[0;32mif\u001b[0m \u001b[0mdate\u001b[0m \u001b[0;32mis\u001b[0m \u001b[0;32mnot\u001b[0m \u001b[0;32mNone\u001b[0m\u001b[0;34m:\u001b[0m\u001b[0;34m\u001b[0m\u001b[0;34m\u001b[0m\u001b[0m\n\u001b[1;32m    118\u001b[0m             \u001b[0mkwargs\u001b[0m\u001b[0;34m[\u001b[0m\u001b[0;34m'date'\u001b[0m\u001b[0;34m]\u001b[0m \u001b[0;34m=\u001b[0m \u001b[0mdate\u001b[0m\u001b[0;34m\u001b[0m\u001b[0;34m\u001b[0m\u001b[0m\n\u001b[0;32m--> 119\u001b[0;31m         \u001b[0;32mfor\u001b[0m \u001b[0mc\u001b[0m \u001b[0;32min\u001b[0m \u001b[0mself\u001b[0m\u001b[0;34m.\u001b[0m\u001b[0mservice\u001b[0m\u001b[0;34m.\u001b[0m\u001b[0mrequest\u001b[0m\u001b[0;34m(\u001b[0m\u001b[0;34m'POST'\u001b[0m\u001b[0;34m,\u001b[0m \u001b[0mmethod\u001b[0m\u001b[0;34m,\u001b[0m \u001b[0;34m**\u001b[0m\u001b[0mkwargs\u001b[0m\u001b[0;34m)\u001b[0m\u001b[0;34m:\u001b[0m\u001b[0;34m\u001b[0m\u001b[0;34m\u001b[0m\u001b[0m\n\u001b[0m\u001b[1;32m    120\u001b[0m             \u001b[0mcrimes\u001b[0m\u001b[0;34m.\u001b[0m\u001b[0mappend\u001b[0m\u001b[0;34m(\u001b[0m\u001b[0mCrime\u001b[0m\u001b[0;34m(\u001b[0m\u001b[0mself\u001b[0m\u001b[0;34m,\u001b[0m \u001b[0mdata\u001b[0m\u001b[0;34m=\u001b[0m\u001b[0mc\u001b[0m\u001b[0;34m)\u001b[0m\u001b[0;34m)\u001b[0m\u001b[0;34m\u001b[0m\u001b[0;34m\u001b[0m\u001b[0m\n\u001b[1;32m    121\u001b[0m         \u001b[0;32mreturn\u001b[0m \u001b[0mcrimes\u001b[0m\u001b[0;34m\u001b[0m\u001b[0;34m\u001b[0m\u001b[0m\n",
      "\u001b[0;32m~/miniconda3/envs/sds2021/lib/python3.9/site-packages/police_api/service.py\u001b[0m in \u001b[0;36mrequest\u001b[0;34m(self, verb, method, **kwargs)\u001b[0m\n\u001b[1;32m     45\u001b[0m     \u001b[0;32mdef\u001b[0m \u001b[0mrequest\u001b[0m\u001b[0;34m(\u001b[0m\u001b[0mself\u001b[0m\u001b[0;34m,\u001b[0m \u001b[0mverb\u001b[0m\u001b[0;34m,\u001b[0m \u001b[0mmethod\u001b[0m\u001b[0;34m,\u001b[0m \u001b[0;34m**\u001b[0m\u001b[0mkwargs\u001b[0m\u001b[0;34m)\u001b[0m\u001b[0;34m:\u001b[0m\u001b[0;34m\u001b[0m\u001b[0;34m\u001b[0m\u001b[0m\n\u001b[1;32m     46\u001b[0m         \u001b[0murl\u001b[0m \u001b[0;34m=\u001b[0m \u001b[0mself\u001b[0m\u001b[0;34m.\u001b[0m\u001b[0mconfig\u001b[0m\u001b[0;34m[\u001b[0m\u001b[0;34m'base_url'\u001b[0m\u001b[0;34m]\u001b[0m \u001b[0;34m+\u001b[0m \u001b[0mmethod\u001b[0m\u001b[0;34m\u001b[0m\u001b[0;34m\u001b[0m\u001b[0m\n\u001b[0;32m---> 47\u001b[0;31m         \u001b[0;32mreturn\u001b[0m \u001b[0mself\u001b[0m\u001b[0;34m.\u001b[0m\u001b[0m_make_request\u001b[0m\u001b[0;34m(\u001b[0m\u001b[0mverb\u001b[0m\u001b[0;34m.\u001b[0m\u001b[0mupper\u001b[0m\u001b[0;34m(\u001b[0m\u001b[0;34m)\u001b[0m\u001b[0;34m,\u001b[0m \u001b[0murl\u001b[0m\u001b[0;34m,\u001b[0m \u001b[0mkwargs\u001b[0m\u001b[0;34m)\u001b[0m\u001b[0;34m\u001b[0m\u001b[0;34m\u001b[0m\u001b[0m\n\u001b[0m",
      "\u001b[0;32m~/miniconda3/envs/sds2021/lib/python3.9/site-packages/police_api/service.py\u001b[0m in \u001b[0;36m_make_request\u001b[0;34m(self, verb, url, params)\u001b[0m\n\u001b[1;32m     40\u001b[0m         \u001b[0mlogger\u001b[0m\u001b[0;34m.\u001b[0m\u001b[0mdebug\u001b[0m\u001b[0;34m(\u001b[0m\u001b[0;34m'%s %s'\u001b[0m \u001b[0;34m%\u001b[0m \u001b[0;34m(\u001b[0m\u001b[0mverb\u001b[0m\u001b[0;34m,\u001b[0m \u001b[0murl\u001b[0m\u001b[0;34m)\u001b[0m\u001b[0;34m)\u001b[0m\u001b[0;34m\u001b[0m\u001b[0;34m\u001b[0m\u001b[0m\n\u001b[1;32m     41\u001b[0m         \u001b[0mr\u001b[0m \u001b[0;34m=\u001b[0m \u001b[0mrequests\u001b[0m\u001b[0;34m.\u001b[0m\u001b[0mrequest\u001b[0m\u001b[0;34m(\u001b[0m\u001b[0mverb\u001b[0m\u001b[0;34m,\u001b[0m \u001b[0murl\u001b[0m\u001b[0;34m,\u001b[0m \u001b[0;34m**\u001b[0m\u001b[0mrequest_kwargs\u001b[0m\u001b[0;34m)\u001b[0m\u001b[0;34m\u001b[0m\u001b[0;34m\u001b[0m\u001b[0m\n\u001b[0;32m---> 42\u001b[0;31m         \u001b[0mself\u001b[0m\u001b[0;34m.\u001b[0m\u001b[0mraise_for_status\u001b[0m\u001b[0;34m(\u001b[0m\u001b[0mr\u001b[0m\u001b[0;34m)\u001b[0m\u001b[0;34m\u001b[0m\u001b[0;34m\u001b[0m\u001b[0m\n\u001b[0m\u001b[1;32m     43\u001b[0m         \u001b[0;32mreturn\u001b[0m \u001b[0mr\u001b[0m\u001b[0;34m.\u001b[0m\u001b[0mjson\u001b[0m\u001b[0;34m(\u001b[0m\u001b[0;34m)\u001b[0m\u001b[0;34m\u001b[0m\u001b[0;34m\u001b[0m\u001b[0m\n\u001b[1;32m     44\u001b[0m \u001b[0;34m\u001b[0m\u001b[0m\n",
      "\u001b[0;32m~/miniconda3/envs/sds2021/lib/python3.9/site-packages/police_api/service.py\u001b[0m in \u001b[0;36mraise_for_status\u001b[0;34m(self, request)\u001b[0m\n\u001b[1;32m     22\u001b[0m             \u001b[0mrequest\u001b[0m\u001b[0;34m.\u001b[0m\u001b[0mraise_for_status\u001b[0m\u001b[0;34m(\u001b[0m\u001b[0;34m)\u001b[0m\u001b[0;34m\u001b[0m\u001b[0;34m\u001b[0m\u001b[0m\n\u001b[1;32m     23\u001b[0m         \u001b[0;32mexcept\u001b[0m \u001b[0mrequests\u001b[0m\u001b[0;34m.\u001b[0m\u001b[0mmodels\u001b[0m\u001b[0;34m.\u001b[0m\u001b[0mHTTPError\u001b[0m \u001b[0;32mas\u001b[0m \u001b[0me\u001b[0m\u001b[0;34m:\u001b[0m\u001b[0;34m\u001b[0m\u001b[0;34m\u001b[0m\u001b[0m\n\u001b[0;32m---> 24\u001b[0;31m             \u001b[0;32mraise\u001b[0m \u001b[0mAPIError\u001b[0m\u001b[0;34m(\u001b[0m\u001b[0me\u001b[0m\u001b[0;34m)\u001b[0m\u001b[0;34m\u001b[0m\u001b[0;34m\u001b[0m\u001b[0m\n\u001b[0m\u001b[1;32m     25\u001b[0m \u001b[0;34m\u001b[0m\u001b[0m\n\u001b[1;32m     26\u001b[0m     \u001b[0;32mdef\u001b[0m \u001b[0m_make_request\u001b[0m\u001b[0;34m(\u001b[0m\u001b[0mself\u001b[0m\u001b[0;34m,\u001b[0m \u001b[0mverb\u001b[0m\u001b[0;34m,\u001b[0m \u001b[0murl\u001b[0m\u001b[0;34m,\u001b[0m \u001b[0mparams\u001b[0m\u001b[0;34m=\u001b[0m\u001b[0;34m{\u001b[0m\u001b[0;34m}\u001b[0m\u001b[0;34m)\u001b[0m\u001b[0;34m:\u001b[0m\u001b[0;34m\u001b[0m\u001b[0;34m\u001b[0m\u001b[0m\n",
      "\u001b[0;31mAPIError\u001b[0m: <unknown error code>"
     ]
    }
   ],
   "source": [
    "# error\n",
    "list_crime = api.get_crimes_area(boundary)"
   ]
  },
  {
   "cell_type": "code",
   "execution_count": 95,
   "id": "012d5212-a599-416c-8719-0c935d8eb134",
   "metadata": {},
   "outputs": [
    {
     "name": "stdout",
     "output_type": "stream",
     "text": [
      "[{'category': 'anti-social-behaviour', 'location_type': 'Force', 'location': {'latitude': '52.344812', 'street': {'id': 564435, 'name': 'On or near Pound Lane'}, 'longitude': '0.409454'}, 'context': '', 'outcome_status': None, 'persistent_id': '', 'id': 99502239, 'location_subtype': '', 'month': '2022-02'}, {'category': 'anti-social-behaviour', 'location_type': 'Force', 'location': {'latitude': '52.338690', 'street': {'id': 557698, 'name': 'On or near The Pits'}, 'longitude': '0.412879'}, 'context': '', 'outcome_status': None, 'persistent_id': '', 'id': 99502594, 'location_subtype': '', 'month': '2022-02'}, {'category': 'anti-social-behaviour', 'location_type': 'Force', 'location': {'latitude': '52.302314', 'street': {'id': 1141357, 'name': 'On or near Laurel Close'}, 'longitude': '0.492662'}, 'context': '', 'outcome_status': None, 'persistent_id': '', 'id': 99531541, 'location_subtype': '', 'month': '2022-02'}, {'category': 'burglary', 'location_type': 'Force', 'location': {'latitude': '52.309479', 'street': {'id': 1141367, 'name': 'On or near Billberry Close'}, 'longitude': '0.501677'}, 'context': '', 'outcome_status': {'category': 'Investigation complete; no suspect identified', 'date': '2022-02'}, 'persistent_id': 'dc8fb5f40ed01b112bcdccf799cc68b840fb455acd5c5389aa69047f3e1498ea', 'id': 99530220, 'location_subtype': '', 'month': '2022-02'}, {'category': 'burglary', 'location_type': 'Force', 'location': {'latitude': '52.299138', 'street': {'id': 562938, 'name': 'On or near Sports/recreation Area'}, 'longitude': '0.441544'}, 'context': '', 'outcome_status': {'category': 'Investigation complete; no suspect identified', 'date': '2022-02'}, 'persistent_id': '8e4b30178a41fd9a4e5efd25ce2bcba2862b4e1229bf2e7d17b86a15c456a9f3', 'id': 99499484, 'location_subtype': '', 'month': '2022-02'}, {'category': 'burglary', 'location_type': 'Force', 'location': {'latitude': '52.332613', 'street': {'id': 564408, 'name': 'On or near Fordham Road'}, 'longitude': '0.407073'}, 'context': '', 'outcome_status': {'category': 'Investigation complete; no suspect identified', 'date': '2022-02'}, 'persistent_id': '8354c62829678c222db6c96b28909217d257e3f645f4bff99d2c73c6a1209736', 'id': 99501024, 'location_subtype': '', 'month': '2022-02'}, {'category': 'burglary', 'location_type': 'Force', 'location': {'latitude': '52.307082', 'street': {'id': 557677, 'name': 'On or near Badlingham Road'}, 'longitude': '0.450915'}, 'context': '', 'outcome_status': {'category': 'Investigation complete; no suspect identified', 'date': '2022-02'}, 'persistent_id': '34c3a030a96c5fb1cdafabef5751e2adec1cc0d882b9efdb9f3dcaa86749a24e', 'id': 99498097, 'location_subtype': '', 'month': '2022-02'}, {'category': 'burglary', 'location_type': 'Force', 'location': {'latitude': '52.301589', 'street': {'id': 1141313, 'name': 'On or near Turnpike Lane'}, 'longitude': '0.481826'}, 'context': '', 'outcome_status': {'category': 'Investigation complete; no suspect identified', 'date': '2022-02'}, 'persistent_id': '39d00a71f225d73009f01a7f480a7eefa175f656ec39da580307f5a4da0f2fe0', 'id': 99528766, 'location_subtype': '', 'month': '2022-02'}, {'category': 'burglary', 'location_type': 'Force', 'location': {'latitude': '52.299138', 'street': {'id': 562938, 'name': 'On or near Sports/recreation Area'}, 'longitude': '0.441544'}, 'context': '', 'outcome_status': {'category': 'Investigation complete; no suspect identified', 'date': '2022-02'}, 'persistent_id': '80bf055479629b3fcf0558329d5292dc007c58337f23862e9145fd7d02a6d91f', 'id': 99498312, 'location_subtype': '', 'month': '2022-02'}, {'category': 'burglary', 'location_type': 'Force', 'location': {'latitude': '52.221755', 'street': {'id': 561966, 'name': 'On or near School Close'}, 'longitude': '0.461206'}, 'context': '', 'outcome_status': {'category': 'Investigation complete; no suspect identified', 'date': '2022-02'}, 'persistent_id': 'd9071bf84bd5e829a2f2f1bad9fe0718f42d61d3675f16e3ec651d4781bf2884', 'id': 99496724, 'location_subtype': '', 'month': '2022-02'}, {'category': 'burglary', 'location_type': 'Force', 'location': {'latitude': '52.270647', 'street': {'id': 1140999, 'name': 'On or near Moulton Road'}, 'longitude': '0.492893'}, 'context': '', 'outcome_status': {'category': 'Investigation complete; no suspect identified', 'date': '2022-02'}, 'persistent_id': '2d030aa679b3499defd2d3ad0a2516988237377d31cfdcacccf925566bd491c3', 'id': 99525278, 'location_subtype': '', 'month': '2022-02'}, {'category': 'criminal-damage-arson', 'location_type': 'Force', 'location': {'latitude': '52.271198', 'street': {'id': 1132936, 'name': 'On or near Parking Area'}, 'longitude': '0.523648'}, 'context': '', 'outcome_status': {'category': 'Investigation complete; no suspect identified', 'date': '2022-02'}, 'persistent_id': '52c42367d48d1517d2baa3e0cd7ce1b1a590a6360126cac4805a3cbe94979b14', 'id': 99525844, 'location_subtype': '', 'month': '2022-02'}, {'category': 'criminal-damage-arson', 'location_type': 'Force', 'location': {'latitude': '52.215251', 'street': {'id': 560898, 'name': 'On or near Spurling Close'}, 'longitude': '0.462164'}, 'context': '', 'outcome_status': {'category': 'Under investigation', 'date': '2022-02'}, 'persistent_id': 'd90a3e276a0f69db366bfbe4642217604c9fd21a97ffa26de1d95336b8d534df', 'id': 99497970, 'location_subtype': '', 'month': '2022-02'}, {'category': 'criminal-damage-arson', 'location_type': 'Force', 'location': {'latitude': '52.362053', 'street': {'id': 1142026, 'name': 'On or near Pollards Lane'}, 'longitude': '0.461199'}, 'context': '', 'outcome_status': {'category': 'Under investigation', 'date': '2022-02'}, 'persistent_id': 'f3038f43b732262bf6d525b1f67ebcbe7500a9124bbd379b669930adc8c101e4', 'id': 99529026, 'location_subtype': '', 'month': '2022-02'}, {'category': 'criminal-damage-arson', 'location_type': 'Force', 'location': {'latitude': '52.376104', 'street': {'id': 1142483, 'name': 'On or near Harrier Way'}, 'longitude': '0.472177'}, 'context': '', 'outcome_status': {'category': 'Under investigation', 'date': '2022-02'}, 'persistent_id': 'bb03f11fc874f4a88c17e0af854a09e2b61097e581caf7b10d3f34becc1a783f', 'id': 99527082, 'location_subtype': '', 'month': '2022-02'}, {'category': 'criminal-damage-arson', 'location_type': 'Force', 'location': {'latitude': '52.342807', 'street': {'id': 564439, 'name': 'On or near Church Street'}, 'longitude': '0.411635'}, 'context': '', 'outcome_status': {'category': 'Under investigation', 'date': '2022-02'}, 'persistent_id': 'b972593190428bf9a59765bfae105256d555c488882559c916292bb6d5e19505', 'id': 99501181, 'location_subtype': '', 'month': '2022-02'}, {'category': 'criminal-damage-arson', 'location_type': 'Force', 'location': {'latitude': '52.521226', 'street': {'id': 988001, 'name': 'On or near A10'}, 'longitude': '0.379739'}, 'context': '', 'outcome_status': {'category': 'Under investigation', 'date': '2022-02'}, 'persistent_id': 'c666b8b2026db218525eb281b779c210e6eead35fecad4515b9d7cbc5fcb027b', 'id': 99509611, 'location_subtype': '', 'month': '2022-02'}, {'category': 'criminal-damage-arson', 'location_type': 'Force', 'location': {'latitude': '52.268039', 'street': {'id': 1132935, 'name': 'On or near Moulton Road'}, 'longitude': '0.493729'}, 'context': '', 'outcome_status': {'category': 'Investigation complete; no suspect identified', 'date': '2022-02'}, 'persistent_id': '3c688b25ee61c4b34e266cfe3a5e68f82277d54a77e4be0df1f7e1f8ba6aaa1a', 'id': 99525842, 'location_subtype': '', 'month': '2022-02'}, {'category': 'drugs', 'location_type': 'Force', 'location': {'latitude': '52.253564', 'street': {'id': 1140348, 'name': 'On or near School Road'}, 'longitude': '0.482528'}, 'context': '', 'outcome_status': {'category': 'Offender given a drugs possession warning', 'date': '2022-02'}, 'persistent_id': 'a190a221ffc3b3fcf9479353aa8c853fc31b57a379d7fe7a11d64fc61403474d', 'id': 99530034, 'location_subtype': '', 'month': '2022-02'}, {'category': 'other-theft', 'location_type': 'Force', 'location': {'latitude': '52.484259', 'street': {'id': 989318, 'name': 'On or near Anchor Drove'}, 'longitude': '0.409145'}, 'context': '', 'outcome_status': {'category': 'Investigation complete; no suspect identified', 'date': '2022-02'}, 'persistent_id': 'f67a9f936bfb30c6caff5359c60b0a1ee005cf00876a10f060dea2957143c3cd', 'id': 99508322, 'location_subtype': '', 'month': '2022-02'}, {'category': 'other-theft', 'location_type': 'Force', 'location': {'latitude': '52.271198', 'street': {'id': 1132936, 'name': 'On or near Parking Area'}, 'longitude': '0.523648'}, 'context': '', 'outcome_status': {'category': 'Investigation complete; no suspect identified', 'date': '2022-02'}, 'persistent_id': '4ecca270f582782797404e8720d8d685656dfb047a0b548945078794da46b207', 'id': 99529091, 'location_subtype': '', 'month': '2022-02'}, {'category': 'public-order', 'location_type': 'Force', 'location': {'latitude': '52.373844', 'street': {'id': 1142462, 'name': 'On or near Sycamore Drive'}, 'longitude': '0.478736'}, 'context': '', 'outcome_status': {'category': 'Under investigation', 'date': '2022-02'}, 'persistent_id': '6e309505cce498401e716a71747e111974b9c467f0783f7063a7afbd921de887', 'id': 99526845, 'location_subtype': '', 'month': '2022-02'}, {'category': 'public-order', 'location_type': 'Force', 'location': {'latitude': '52.371837', 'street': {'id': 1132730, 'name': 'On or near Locks Lane'}, 'longitude': '0.481811'}, 'context': '', 'outcome_status': {'category': 'Under investigation', 'date': '2022-02'}, 'persistent_id': 'e69209fe6c16520e4df04ba9b6f861468e0dcc82a7acbe77777373c9bad6d3f7', 'id': 99524411, 'location_subtype': '', 'month': '2022-02'}, {'category': 'public-order', 'location_type': 'Force', 'location': {'latitude': '52.301441', 'street': {'id': 1141351, 'name': 'On or near Beech Drive'}, 'longitude': '0.499053'}, 'context': '', 'outcome_status': {'category': 'Under investigation', 'date': '2022-02'}, 'persistent_id': 'ba7402e0aa36b033f639bcd4e4a3f26168119a068e799236e57c9e4e7956cf8a', 'id': 99530998, 'location_subtype': '', 'month': '2022-02'}, {'category': 'public-order', 'location_type': 'Force', 'location': {'latitude': '52.529919', 'street': {'id': 991225, 'name': \"On or near Holman's Chase\"}, 'longitude': '0.390545'}, 'context': '', 'outcome_status': {'category': 'Unable to prosecute suspect', 'date': '2022-02'}, 'persistent_id': 'ec15ee2ed582c178be3d865e1ae2f072dc727b18088bc2c13abbf561eca70fab', 'id': 99508852, 'location_subtype': '', 'month': '2022-02'}, {'category': 'public-order', 'location_type': 'Force', 'location': {'latitude': '52.620282', 'street': {'id': 993472, 'name': 'On or near Highbridge Road'}, 'longitude': '0.328110'}, 'context': '', 'outcome_status': {'category': 'Unable to prosecute suspect', 'date': '2022-02'}, 'persistent_id': 'c0df1fe25a705f1e6099f7b732b7c02ca19729f68eb9145c56f40c21a6872555', 'id': 99511735, 'location_subtype': '', 'month': '2022-02'}, {'category': 'public-order', 'location_type': 'Force', 'location': {'latitude': '52.301873', 'street': {'id': 1141352, 'name': 'On or near Aspen Way'}, 'longitude': '0.499077'}, 'context': '', 'outcome_status': {'category': 'Under investigation', 'date': '2022-02'}, 'persistent_id': 'db18ff7d861eadec836911f3809c0dc97e6fa17ef578551c5af389cfccff2998', 'id': 99526847, 'location_subtype': '', 'month': '2022-02'}, {'category': 'public-order', 'location_type': 'Force', 'location': {'latitude': '52.271359', 'street': {'id': 1141000, 'name': 'On or near Moulton Avenue'}, 'longitude': '0.494077'}, 'context': '', 'outcome_status': {'category': 'Under investigation', 'date': '2022-02'}, 'persistent_id': 'f74ad8dca275696e98dad86b534880041fbbff04705ab3a7e3d292099e8b6de7', 'id': 99525068, 'location_subtype': '', 'month': '2022-02'}, {'category': 'public-order', 'location_type': 'Force', 'location': {'latitude': '52.371837', 'street': {'id': 1132730, 'name': 'On or near Locks Lane'}, 'longitude': '0.481811'}, 'context': '', 'outcome_status': {'category': 'Unable to prosecute suspect', 'date': '2022-02'}, 'persistent_id': '5581ddccea56051c6fb16ccade76782a28fdd124f592cdcf06ac4c4bd82eb3d8', 'id': 99529065, 'location_subtype': '', 'month': '2022-02'}, {'category': 'public-order', 'location_type': 'Force', 'location': {'latitude': '52.371837', 'street': {'id': 1132730, 'name': 'On or near Locks Lane'}, 'longitude': '0.481811'}, 'context': '', 'outcome_status': {'category': 'Under investigation', 'date': '2022-02'}, 'persistent_id': 'e4197fe55c35944a619fbb24fe94668e0c648d2bbfe998be2e1067525c143b9a', 'id': 99529063, 'location_subtype': '', 'month': '2022-02'}, {'category': 'public-order', 'location_type': 'Force', 'location': {'latitude': '52.375875', 'street': {'id': 1142480, 'name': 'On or near Hawk Close'}, 'longitude': '0.473222'}, 'context': '', 'outcome_status': {'category': 'Under investigation', 'date': '2022-02'}, 'persistent_id': 'd870d0d6a3ec163d7400410c34053a7fac7da762aa49371e77d45f06e6302885', 'id': 99527327, 'location_subtype': '', 'month': '2022-02'}, {'category': 'public-order', 'location_type': 'Force', 'location': {'latitude': '52.271359', 'street': {'id': 1141000, 'name': 'On or near Moulton Avenue'}, 'longitude': '0.494077'}, 'context': '', 'outcome_status': {'category': 'Unable to prosecute suspect', 'date': '2022-02'}, 'persistent_id': '0a5aeaae38eaa83944229a49092b42db1a296df36bd34457da2cdc852a247169', 'id': 99498823, 'location_subtype': '', 'month': '2022-02'}, {'category': 'theft-from-the-person', 'location_type': 'Force', 'location': {'latitude': '52.338690', 'street': {'id': 557698, 'name': 'On or near The Pits'}, 'longitude': '0.412879'}, 'context': '', 'outcome_status': {'category': 'Investigation complete; no suspect identified', 'date': '2022-02'}, 'persistent_id': 'd89bf86e392439b9ca2b7553603b6969d47f4885f82f476233b668bffad1ade3', 'id': 99501293, 'location_subtype': '', 'month': '2022-02'}, {'category': 'vehicle-crime', 'location_type': 'Force', 'location': {'latitude': '52.351810', 'street': {'id': 1142007, 'name': \"On or near Crick's Road\"}, 'longitude': '0.465578'}, 'context': '', 'outcome_status': {'category': 'Investigation complete; no suspect identified', 'date': '2022-02'}, 'persistent_id': '5b0ca875bb4546e417c536a72df0db299af6bfd943bcaab1eaa3c2e487608c1e', 'id': 99525954, 'location_subtype': '', 'month': '2022-02'}, {'category': 'vehicle-crime', 'location_type': 'Force', 'location': {'latitude': '52.342173', 'street': {'id': 564442, 'name': 'On or near Supermarket'}, 'longitude': '0.409222'}, 'context': '', 'outcome_status': {'category': 'Investigation complete; no suspect identified', 'date': '2022-02'}, 'persistent_id': '7a3eea2c2be67c524ea0e8044ab5dc035871795a81497739e416d93be08c1897', 'id': 99501428, 'location_subtype': '', 'month': '2022-02'}, {'category': 'vehicle-crime', 'location_type': 'Force', 'location': {'latitude': '52.306625', 'street': {'id': 1141319, 'name': 'On or near Parsley Close'}, 'longitude': '0.501853'}, 'context': '', 'outcome_status': {'category': 'Under investigation', 'date': '2022-02'}, 'persistent_id': 'c1b011d3a82aeeb4441c5fbddecf6ef548be62c9303dd85f77bc16d7661b20c2', 'id': 99529364, 'location_subtype': '', 'month': '2022-02'}, {'category': 'violent-crime', 'location_type': 'Force', 'location': {'latitude': '52.373844', 'street': {'id': 1142462, 'name': 'On or near Sycamore Drive'}, 'longitude': '0.478736'}, 'context': '', 'outcome_status': {'category': 'Under investigation', 'date': '2022-02'}, 'persistent_id': 'a3e4e4d5ac6c2470a8625c37804d91727b1858dfda939582ed5e01ed26d93430', 'id': 99526657, 'location_subtype': '', 'month': '2022-02'}, {'category': 'violent-crime', 'location_type': 'Force', 'location': {'latitude': '52.371837', 'street': {'id': 1132730, 'name': 'On or near Locks Lane'}, 'longitude': '0.481811'}, 'context': '', 'outcome_status': {'category': 'Under investigation', 'date': '2022-02'}, 'persistent_id': '23ebafac4096d12e9fb1ef50272717ed4fac68348bcf9fc586cecde7b95839ca', 'id': 99526659, 'location_subtype': '', 'month': '2022-02'}, {'category': 'violent-crime', 'location_type': 'Force', 'location': {'latitude': '52.215251', 'street': {'id': 560898, 'name': 'On or near Spurling Close'}, 'longitude': '0.462164'}, 'context': '', 'outcome_status': {'category': 'Under investigation', 'date': '2022-02'}, 'persistent_id': 'cd72e00384c3c7c7fad59fded1475fe0e3396c2b4e8b4d3b8e7b2baba94bd465', 'id': 99500232, 'location_subtype': '', 'month': '2022-02'}, {'category': 'violent-crime', 'location_type': 'Force', 'location': {'latitude': '52.221426', 'street': {'id': 560893, 'name': 'On or near High Street'}, 'longitude': '0.463618'}, 'context': '', 'outcome_status': {'category': 'Under investigation', 'date': '2022-02'}, 'persistent_id': '5ede2b9b2a692e5b315edf0a2ef838e16f9c6966f1834efc148b745987516b23', 'id': 99501471, 'location_subtype': '', 'month': '2022-02'}, {'category': 'violent-crime', 'location_type': 'Force', 'location': {'latitude': '52.271359', 'street': {'id': 1141000, 'name': 'On or near Moulton Avenue'}, 'longitude': '0.494077'}, 'context': '', 'outcome_status': {'category': 'Under investigation', 'date': '2022-02'}, 'persistent_id': 'e5608b22d362da9301ff29d84d318c235b64ea62d754f112191ceb969b0e244b', 'id': 99500839, 'location_subtype': '', 'month': '2022-02'}, {'category': 'violent-crime', 'location_type': 'Force', 'location': {'latitude': '52.222554', 'street': {'id': 561967, 'name': 'On or near Kings Mead'}, 'longitude': '0.461265'}, 'context': '', 'outcome_status': {'category': 'Under investigation', 'date': '2022-02'}, 'persistent_id': '4b2054a313cf51cd8f12e41cb8b7f437b7d86264a2f7d096db4d641d9701b878', 'id': 99501151, 'location_subtype': '', 'month': '2022-02'}, {'category': 'violent-crime', 'location_type': 'Force', 'location': {'latitude': '52.215251', 'street': {'id': 560898, 'name': 'On or near Spurling Close'}, 'longitude': '0.462164'}, 'context': '', 'outcome_status': {'category': 'Under investigation', 'date': '2022-02'}, 'persistent_id': '794ac37eacb98df66fdaf91d6d81fecc91181f0ebea2890bfaea7f865be118d6', 'id': 99498258, 'location_subtype': '', 'month': '2022-02'}, {'category': 'violent-crime', 'location_type': 'Force', 'location': {'latitude': '52.221755', 'street': {'id': 561966, 'name': 'On or near School Close'}, 'longitude': '0.461206'}, 'context': '', 'outcome_status': {'category': 'Under investigation', 'date': '2022-02'}, 'persistent_id': 'e21ee16fb4b52a1863eadcb9dfd8b6395a82e54966ba29d133287279c6312340', 'id': 99498079, 'location_subtype': '', 'month': '2022-02'}, {'category': 'violent-crime', 'location_type': 'Force', 'location': {'latitude': '52.180766', 'street': {'id': 559792, 'name': 'On or near Sports/recreation Area'}, 'longitude': '0.465144'}, 'context': '', 'outcome_status': {'category': 'Unable to prosecute suspect', 'date': '2022-02'}, 'persistent_id': '9d5949a87fd62457d47a5744d930703a06593a6c37639f4ef0306ab294464114', 'id': 99500574, 'location_subtype': '', 'month': '2022-02'}, {'category': 'violent-crime', 'location_type': 'Force', 'location': {'latitude': '52.755637', 'street': {'id': 999972, 'name': 'On or near Lynn Road'}, 'longitude': '0.254332'}, 'context': '', 'outcome_status': {'category': 'Unable to prosecute suspect', 'date': '2022-02'}, 'persistent_id': '49b7013f71867d791d47efef1d3f9ca04a67180498d9ed1e5dcd9a5c98177ffc', 'id': 99509518, 'location_subtype': '', 'month': '2022-02'}, {'category': 'violent-crime', 'location_type': 'Force', 'location': {'latitude': '52.544095', 'street': {'id': 991233, 'name': 'On or near Engine Road'}, 'longitude': '0.362113'}, 'context': '', 'outcome_status': {'category': 'Under investigation', 'date': '2022-02'}, 'persistent_id': '3f138c2ca55d7f199da92532d3c6338c13de6455dfffd5d84257a00245e40974', 'id': 99511602, 'location_subtype': '', 'month': '2022-02'}, {'category': 'violent-crime', 'location_type': 'Force', 'location': {'latitude': '52.530763', 'street': {'id': 991222, 'name': 'On or near North Lawn'}, 'longitude': '0.390635'}, 'context': '', 'outcome_status': {'category': 'Under investigation', 'date': '2022-02'}, 'persistent_id': '2621a0c794385536db643966901ded30d52a87a2d63d3b727b11ccb148778be1', 'id': 99510702, 'location_subtype': '', 'month': '2022-02'}, {'category': 'violent-crime', 'location_type': 'Force', 'location': {'latitude': '52.521226', 'street': {'id': 988001, 'name': 'On or near A10'}, 'longitude': '0.379739'}, 'context': '', 'outcome_status': {'category': 'Under investigation', 'date': '2022-02'}, 'persistent_id': '61342df15fb6dcedec51841aea800e74461a75b4cb8a81f00f05b1d0fc1f2cd3', 'id': 99509116, 'location_subtype': '', 'month': '2022-02'}, {'category': 'violent-crime', 'location_type': 'Force', 'location': {'latitude': '52.521226', 'street': {'id': 988001, 'name': 'On or near A10'}, 'longitude': '0.379739'}, 'context': '', 'outcome_status': {'category': 'Under investigation', 'date': '2022-02'}, 'persistent_id': '7b736b459ebcc3169061f9533b652068169e45f2d4985cdca7369be8b85bf7de', 'id': 99509115, 'location_subtype': '', 'month': '2022-02'}, {'category': 'violent-crime', 'location_type': 'Force', 'location': {'latitude': '52.521226', 'street': {'id': 988001, 'name': 'On or near A10'}, 'longitude': '0.379739'}, 'context': '', 'outcome_status': {'category': 'Under investigation', 'date': '2022-02'}, 'persistent_id': '0af2fc1addac572512764143d3d1203f323a8ae44c2358639934ce97fd516ca7', 'id': 99509114, 'location_subtype': '', 'month': '2022-02'}, {'category': 'violent-crime', 'location_type': 'Force', 'location': {'latitude': '52.677080', 'street': {'id': 988905, 'name': 'On or near Low Road'}, 'longitude': '0.280596'}, 'context': '', 'outcome_status': {'category': 'Under investigation', 'date': '2022-02'}, 'persistent_id': '4a1b51da921cc1d4469ae6f4aa1963d5696e820bad3fd4c9e35e7eceb80da0c5', 'id': 99508914, 'location_subtype': '', 'month': '2022-02'}, {'category': 'violent-crime', 'location_type': 'Force', 'location': {'latitude': '52.702397', 'street': {'id': 998444, 'name': \"On or near St John's Road\"}, 'longitude': '0.283085'}, 'context': '', 'outcome_status': {'category': 'Unable to prosecute suspect', 'date': '2022-02'}, 'persistent_id': 'fab91e48235ff7b192263d1f530f1439d20bcc9af75be1825348237afac63086', 'id': 99509886, 'location_subtype': '', 'month': '2022-02'}, {'category': 'violent-crime', 'location_type': 'Force', 'location': {'latitude': '52.249548', 'street': {'id': 1140369, 'name': 'On or near All Saints Close'}, 'longitude': '0.518419'}, 'context': '', 'outcome_status': {'category': 'Under investigation', 'date': '2022-02'}, 'persistent_id': 'ca4cdac6c5f7487cfb33d7d06f635578a2698cc998a6680d34c3dbcb703a64b4', 'id': 99531099, 'location_subtype': '', 'month': '2022-02'}, {'category': 'violent-crime', 'location_type': 'Force', 'location': {'latitude': '52.249548', 'street': {'id': 1140369, 'name': 'On or near All Saints Close'}, 'longitude': '0.518419'}, 'context': '', 'outcome_status': {'category': 'Under investigation', 'date': '2022-02'}, 'persistent_id': 'ca2685b85cd33a89e7e0b5cfa76f792f69172bb81b1823a9a27a3d8a391963a6', 'id': 99531098, 'location_subtype': '', 'month': '2022-02'}, {'category': 'violent-crime', 'location_type': 'Force', 'location': {'latitude': '52.301441', 'street': {'id': 1141351, 'name': 'On or near Beech Drive'}, 'longitude': '0.499053'}, 'context': '', 'outcome_status': {'category': 'Under investigation', 'date': '2022-02'}, 'persistent_id': '7f9cf9a9c88992f7993c92fa16ca5f4cc03ad1cb4cb45385b8130981d1b88cc9', 'id': 99531096, 'location_subtype': '', 'month': '2022-02'}, {'category': 'violent-crime', 'location_type': 'Force', 'location': {'latitude': '52.268039', 'street': {'id': 1132935, 'name': 'On or near Moulton Road'}, 'longitude': '0.493729'}, 'context': '', 'outcome_status': {'category': 'Under investigation', 'date': '2022-02'}, 'persistent_id': '80519a279fc073d83fd629fce23bef81606d241b566c605cf96b4ba5a1cd0dbb', 'id': 99531094, 'location_subtype': '', 'month': '2022-02'}, {'category': 'violent-crime', 'location_type': 'Force', 'location': {'latitude': '52.301589', 'street': {'id': 1141313, 'name': 'On or near Turnpike Lane'}, 'longitude': '0.481826'}, 'context': '', 'outcome_status': {'category': 'Under investigation', 'date': '2022-02'}, 'persistent_id': '1b8901c9970fb33cd4f8eac31ec9b019cbd3bc957b0cfaea41cea0c25112c129', 'id': 99529639, 'location_subtype': '', 'month': '2022-02'}, {'category': 'violent-crime', 'location_type': 'Force', 'location': {'latitude': '52.303605', 'street': {'id': 1141362, 'name': 'On or near Fennel Drive'}, 'longitude': '0.495816'}, 'context': '', 'outcome_status': {'category': 'Under investigation', 'date': '2022-02'}, 'persistent_id': '8370e6cc73482cae586284a75ce73536b7b0286aea4d1ec2e6bed13561b55659', 'id': 99529144, 'location_subtype': '', 'month': '2022-02'}, {'category': 'violent-crime', 'location_type': 'Force', 'location': {'latitude': '52.376104', 'street': {'id': 1142483, 'name': 'On or near Harrier Way'}, 'longitude': '0.472177'}, 'context': '', 'outcome_status': {'category': 'Under investigation', 'date': '2022-02'}, 'persistent_id': '44fda6eb2e6c3b19570ea2942c05b010e77cc93c13d9f531813d4c3bb646a08d', 'id': 99527192, 'location_subtype': '', 'month': '2022-02'}, {'category': 'violent-crime', 'location_type': 'Force', 'location': {'latitude': '52.376104', 'street': {'id': 1142483, 'name': 'On or near Harrier Way'}, 'longitude': '0.472177'}, 'context': '', 'outcome_status': {'category': 'Under investigation', 'date': '2022-02'}, 'persistent_id': '17e7737209f4344442d1362b82248b68f4e0a1daf239411bbc30cb7a99ea3457', 'id': 99527407, 'location_subtype': '', 'month': '2022-02'}, {'category': 'violent-crime', 'location_type': 'Force', 'location': {'latitude': '52.376104', 'street': {'id': 1142483, 'name': 'On or near Harrier Way'}, 'longitude': '0.472177'}, 'context': '', 'outcome_status': {'category': 'Under investigation', 'date': '2022-02'}, 'persistent_id': '161cd588668899cc6d93bf0eea604bba6f06fd61ed8ca1bb332b248d33b7f56e', 'id': 99527405, 'location_subtype': '', 'month': '2022-02'}, {'category': 'violent-crime', 'location_type': 'Force', 'location': {'latitude': '52.373844', 'street': {'id': 1142462, 'name': 'On or near Sycamore Drive'}, 'longitude': '0.478736'}, 'context': '', 'outcome_status': {'category': 'Under investigation', 'date': '2022-02'}, 'persistent_id': '76c76550359131788bd866b72de22e3ec5e910e9e89d44a39134d033174e49e1', 'id': 99526960, 'location_subtype': '', 'month': '2022-02'}, {'category': 'violent-crime', 'location_type': 'Force', 'location': {'latitude': '52.302466', 'street': {'id': 1141364, 'name': 'On or near Cherry Court'}, 'longitude': '0.495693'}, 'context': '', 'outcome_status': {'category': 'Under investigation', 'date': '2022-02'}, 'persistent_id': '51ab38989dbc35a9240698269c6c274533befe36599f4650baf6155f1de491e8', 'id': 99526662, 'location_subtype': '', 'month': '2022-02'}, {'category': 'violent-crime', 'location_type': 'Force', 'location': {'latitude': '52.309467', 'street': {'id': 1141310, 'name': 'On or near B1085'}, 'longitude': '0.487343'}, 'context': '', 'outcome_status': {'category': 'Under investigation', 'date': '2022-02'}, 'persistent_id': 'd442f27c1e371954abdf2954dc2f33b3dfa00f7e693e00df6a1d0b173809b723', 'id': 99526660, 'location_subtype': '', 'month': '2022-02'}, {'category': 'violent-crime', 'location_type': 'Force', 'location': {'latitude': '52.304873', 'street': {'id': 1141325, 'name': 'On or near Warren Road'}, 'longitude': '0.494963'}, 'context': '', 'outcome_status': {'category': 'Unable to prosecute suspect', 'date': '2022-02'}, 'persistent_id': 'fd566f59506dd163825e802d271a8fc0eab0f504ed1f6171a8c82a15ade108c6', 'id': 99524863, 'location_subtype': '', 'month': '2022-02'}, {'category': 'violent-crime', 'location_type': 'Force', 'location': {'latitude': '52.376104', 'street': {'id': 1142483, 'name': 'On or near Harrier Way'}, 'longitude': '0.472177'}, 'context': '', 'outcome_status': {'category': 'Under investigation', 'date': '2022-02'}, 'persistent_id': 'c38728ef1788fa9adcbe1f419758f1fd63173642b07afa4169f4d5ecb8cbdd1b', 'id': 99526655, 'location_subtype': '', 'month': '2022-02'}, {'category': 'violent-crime', 'location_type': 'Force', 'location': {'latitude': '52.302466', 'street': {'id': 1141364, 'name': 'On or near Cherry Court'}, 'longitude': '0.495693'}, 'context': '', 'outcome_status': {'category': 'Under investigation', 'date': '2022-02'}, 'persistent_id': 'd31ac0309408a505d3b6ec2481facfc487e3da285dc8aa3212a0df4e3a199b34', 'id': 99525987, 'location_subtype': '', 'month': '2022-02'}, {'category': 'violent-crime', 'location_type': 'Force', 'location': {'latitude': '52.254766', 'street': {'id': 1140349, 'name': 'On or near School Road'}, 'longitude': '0.481789'}, 'context': '', 'outcome_status': {'category': 'Under investigation', 'date': '2022-02'}, 'persistent_id': '9d8ace5d1ce9faa38132c40b5346a012582c6175e18a4547268dce2193d0e276', 'id': 99525428, 'location_subtype': '', 'month': '2022-02'}, {'category': 'violent-crime', 'location_type': 'Force', 'location': {'latitude': '52.351159', 'street': {'id': 1142002, 'name': 'On or near Pott Hall Road'}, 'longitude': '0.468728'}, 'context': '', 'outcome_status': {'category': 'Under investigation', 'date': '2022-02'}, 'persistent_id': '2623d08b8474bfcac3d05608c797dce5ccea40243afe4ac5c6543f938e92445b', 'id': 99525425, 'location_subtype': '', 'month': '2022-02'}, {'category': 'other-crime', 'location_type': 'Force', 'location': {'latitude': '52.305582', 'street': {'id': 1141316, 'name': 'On or near Sorrel Court'}, 'longitude': '0.498875'}, 'context': '', 'outcome_status': {'category': 'Under investigation', 'date': '2022-02'}, 'persistent_id': '0062a721b7aa2a4a1676b61d8de3461d24c8a0c5955515576437fbe969c35faa', 'id': 99530272, 'location_subtype': '', 'month': '2022-02'}]\n"
     ]
    }
   ],
   "source": [
    "# the original approach to call the API\n",
    "url_test = \"https://data.police.uk/api/crimes-street/all-crime?poly=52.268,0.543:52.794,0.238:52.130,0.478\"\n",
    "import urllib.request, json \n",
    "with urllib.request.urlopen(url_test) as url:\n",
    "    data = json.loads(url.read().decode())\n",
    "    print(data)"
   ]
  },
  {
   "cell_type": "markdown",
   "id": "c0b11079-8ba2-446f-9343-78302c8dbb38",
   "metadata": {},
   "source": [
    "## Which neighbourhood has the most crime in 2021?"
   ]
  },
  {
   "cell_type": "code",
   "execution_count": null,
   "id": "7be5a654-6953-4121-a4f5-78008c65a461",
   "metadata": {},
   "outputs": [],
   "source": [
    "df[['']]"
   ]
  },
  {
   "cell_type": "markdown",
   "id": "ea2492f7-2373-4cc6-8a69-cb002d1f9584",
   "metadata": {},
   "source": [
    "## References:\n",
    "\n",
    "https://github.com/rkhleics/police-api-client-python\n",
    "\n"
   ]
  }
 ],
 "metadata": {
  "kernelspec": {
   "display_name": "Python 3 (ipykernel)",
   "language": "python",
   "name": "python3"
  },
  "language_info": {
   "codemirror_mode": {
    "name": "ipython",
    "version": 3
   },
   "file_extension": ".py",
   "mimetype": "text/x-python",
   "name": "python",
   "nbconvert_exporter": "python",
   "pygments_lexer": "ipython3",
   "version": "3.9.6"
  }
 },
 "nbformat": 4,
 "nbformat_minor": 5
}
